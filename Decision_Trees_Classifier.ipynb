{
  "nbformat": 4,
  "nbformat_minor": 0,
  "metadata": {
    "colab": {
      "name": "Decision Trees Classifier.ipynb",
      "provenance": [],
      "collapsed_sections": [],
      "include_colab_link": true
    },
    "kernelspec": {
      "name": "python3",
      "display_name": "Python 3"
    },
    "accelerator": "GPU"
  },
  "cells": [
    {
      "cell_type": "markdown",
      "metadata": {
        "id": "view-in-github",
        "colab_type": "text"
      },
      "source": [
        "<a href=\"https://colab.research.google.com/github/ChristopherLiew/Classifying-Red-Wine-Quality/blob/master/Decision_Trees_Classifier.ipynb\" target=\"_parent\"><img src=\"https://colab.research.google.com/assets/colab-badge.svg\" alt=\"Open In Colab\"/></a>"
      ]
    },
    {
      "cell_type": "markdown",
      "metadata": {
        "id": "bY4ofvotH1US",
        "colab_type": "text"
      },
      "source": [
        "<h1> The Decision Trees Classifier </h1>\n",
        "<h3> Strengths of the Decision Tree Classifier: </h3>\n",
        "\n",
        "1.   Generates easy to understand rules, allowing us to identify features of importance and classification criterion.\n",
        "2.  No need for data to be scaled, since it does not depend on Euclidean distance.\n",
        "\n",
        "<h3> Weaknesses of the Decision Tree Classifier: </h3>\n",
        "\n",
        "\n",
        "1.   Prone to overfitting if not properly pruned, hence high variance when tested on new data.\n",
        "2.   If imbalanced, can be computationally expensive to train. Time complexity can also be very high.\n",
        "\n",
        "\n"
      ]
    },
    {
      "cell_type": "code",
      "metadata": {
        "id": "ec8PdPJxK8OL",
        "colab_type": "code",
        "colab": {}
      },
      "source": [
        "# Import Libraries\n",
        "import pandas as pd\n",
        "import numpy as np\n",
        "import matplotlib as mpl\n",
        "import matplotlib.pyplot as plt\n",
        "%matplotlib inline\n",
        "mpl.style.use('ggplot') # optional: for ggplot-like style\n",
        "from sklearn.tree import DecisionTreeClassifier\n",
        "from sklearn.model_selection import train_test_split\n",
        "from sklearn.metrics import classification_report\n",
        "from sklearn.metrics import roc_curve\n",
        "from sklearn.metrics import roc_auc_score\n",
        "from sklearn.model_selection import RandomizedSearchCV\n",
        "from sklearn.model_selection import GridSearchCV\n",
        "from sklearn.metrics import precision_recall_curve\n",
        "\n"
      ],
      "execution_count": 0,
      "outputs": []
    },
    {
      "cell_type": "code",
      "metadata": {
        "id": "mL9Fj14_LGn-",
        "colab_type": "code",
        "outputId": "72c11eb1-c795-422f-918b-e65d58067e67",
        "colab": {
          "base_uri": "https://localhost:8080/",
          "height": 34
        }
      },
      "source": [
        "from google.colab import drive \n",
        "drive.mount('/content/gdrive')"
      ],
      "execution_count": 23,
      "outputs": [
        {
          "output_type": "stream",
          "text": [
            "Drive already mounted at /content/gdrive; to attempt to forcibly remount, call drive.mount(\"/content/gdrive\", force_remount=True).\n"
          ],
          "name": "stdout"
        }
      ]
    },
    {
      "cell_type": "code",
      "metadata": {
        "id": "bJ07yj0qLTbO",
        "colab_type": "code",
        "colab": {}
      },
      "source": [
        "wine_df = pd.read_csv(\"/content/gdrive/My Drive/Business Analytics Stuff/BT2101 Group Project/winequality-red.csv\")"
      ],
      "execution_count": 0,
      "outputs": []
    },
    {
      "cell_type": "markdown",
      "metadata": {
        "id": "947Jnm2UH_h0",
        "colab_type": "text"
      },
      "source": [
        "<h2>Wrangled & Processed Red Wine Quality Dataset</h2>\n",
        "<p> Tree-based methods are invariant to monotonic transformations, in this case feature scaling, thus we do not need to feature scale. </p>\n",
        "<p></p>\n",
        "<p>Additionally, since Tree-based methods utilise entropy and information gain to essentially engage in 'automatic' feature selection, feature selection will not be used. Instead, we will compute the feature importance and iteratively remove any features which have an insignificant amount of feature importance.</p>"
      ]
    },
    {
      "cell_type": "code",
      "metadata": {
        "id": "Oe9mEM0bLoKh",
        "colab_type": "code",
        "outputId": "dd27f67c-adfe-4073-87a7-c225f5ca6eb3",
        "colab": {
          "base_uri": "https://localhost:8080/",
          "height": 359
        }
      },
      "source": [
        "# Creating the Binary Target Variable\n",
        "wine_df[\"good_quality\"] = wine_df[\"quality\"] >= 7\n",
        "\n",
        "# Target Variable\n",
        "target = wine_df.loc[:, 'good_quality']\n",
        "target = target.astype(int)  # 1 = good quality & 0 = other quality\n",
        "target\n",
        "\n",
        "# Interaction Terms\n",
        "final_df = wine_df.drop(columns=['quality', 'good_quality']).copy()\n",
        "final_df['total acidity'] = final_df['fixed acidity'] + final_df['volatile acidity']\n",
        "final_df['pH_sulphate'] = final_df['pH'] * final_df['sulphates']\n",
        "\n",
        "final_df.head(10)"
      ],
      "execution_count": 25,
      "outputs": [
        {
          "output_type": "execute_result",
          "data": {
            "text/html": [
              "<div>\n",
              "<style scoped>\n",
              "    .dataframe tbody tr th:only-of-type {\n",
              "        vertical-align: middle;\n",
              "    }\n",
              "\n",
              "    .dataframe tbody tr th {\n",
              "        vertical-align: top;\n",
              "    }\n",
              "\n",
              "    .dataframe thead th {\n",
              "        text-align: right;\n",
              "    }\n",
              "</style>\n",
              "<table border=\"1\" class=\"dataframe\">\n",
              "  <thead>\n",
              "    <tr style=\"text-align: right;\">\n",
              "      <th></th>\n",
              "      <th>fixed acidity</th>\n",
              "      <th>volatile acidity</th>\n",
              "      <th>citric acid</th>\n",
              "      <th>residual sugar</th>\n",
              "      <th>chlorides</th>\n",
              "      <th>free sulfur dioxide</th>\n",
              "      <th>total sulfur dioxide</th>\n",
              "      <th>density</th>\n",
              "      <th>pH</th>\n",
              "      <th>sulphates</th>\n",
              "      <th>alcohol</th>\n",
              "      <th>total acidity</th>\n",
              "      <th>pH_sulphate</th>\n",
              "    </tr>\n",
              "  </thead>\n",
              "  <tbody>\n",
              "    <tr>\n",
              "      <th>0</th>\n",
              "      <td>7.4</td>\n",
              "      <td>0.70</td>\n",
              "      <td>0.00</td>\n",
              "      <td>1.9</td>\n",
              "      <td>0.076</td>\n",
              "      <td>11.0</td>\n",
              "      <td>34.0</td>\n",
              "      <td>0.9978</td>\n",
              "      <td>3.51</td>\n",
              "      <td>0.56</td>\n",
              "      <td>9.4</td>\n",
              "      <td>8.10</td>\n",
              "      <td>1.9656</td>\n",
              "    </tr>\n",
              "    <tr>\n",
              "      <th>1</th>\n",
              "      <td>7.8</td>\n",
              "      <td>0.88</td>\n",
              "      <td>0.00</td>\n",
              "      <td>2.6</td>\n",
              "      <td>0.098</td>\n",
              "      <td>25.0</td>\n",
              "      <td>67.0</td>\n",
              "      <td>0.9968</td>\n",
              "      <td>3.20</td>\n",
              "      <td>0.68</td>\n",
              "      <td>9.8</td>\n",
              "      <td>8.68</td>\n",
              "      <td>2.1760</td>\n",
              "    </tr>\n",
              "    <tr>\n",
              "      <th>2</th>\n",
              "      <td>7.8</td>\n",
              "      <td>0.76</td>\n",
              "      <td>0.04</td>\n",
              "      <td>2.3</td>\n",
              "      <td>0.092</td>\n",
              "      <td>15.0</td>\n",
              "      <td>54.0</td>\n",
              "      <td>0.9970</td>\n",
              "      <td>3.26</td>\n",
              "      <td>0.65</td>\n",
              "      <td>9.8</td>\n",
              "      <td>8.56</td>\n",
              "      <td>2.1190</td>\n",
              "    </tr>\n",
              "    <tr>\n",
              "      <th>3</th>\n",
              "      <td>11.2</td>\n",
              "      <td>0.28</td>\n",
              "      <td>0.56</td>\n",
              "      <td>1.9</td>\n",
              "      <td>0.075</td>\n",
              "      <td>17.0</td>\n",
              "      <td>60.0</td>\n",
              "      <td>0.9980</td>\n",
              "      <td>3.16</td>\n",
              "      <td>0.58</td>\n",
              "      <td>9.8</td>\n",
              "      <td>11.48</td>\n",
              "      <td>1.8328</td>\n",
              "    </tr>\n",
              "    <tr>\n",
              "      <th>4</th>\n",
              "      <td>7.4</td>\n",
              "      <td>0.70</td>\n",
              "      <td>0.00</td>\n",
              "      <td>1.9</td>\n",
              "      <td>0.076</td>\n",
              "      <td>11.0</td>\n",
              "      <td>34.0</td>\n",
              "      <td>0.9978</td>\n",
              "      <td>3.51</td>\n",
              "      <td>0.56</td>\n",
              "      <td>9.4</td>\n",
              "      <td>8.10</td>\n",
              "      <td>1.9656</td>\n",
              "    </tr>\n",
              "    <tr>\n",
              "      <th>5</th>\n",
              "      <td>7.4</td>\n",
              "      <td>0.66</td>\n",
              "      <td>0.00</td>\n",
              "      <td>1.8</td>\n",
              "      <td>0.075</td>\n",
              "      <td>13.0</td>\n",
              "      <td>40.0</td>\n",
              "      <td>0.9978</td>\n",
              "      <td>3.51</td>\n",
              "      <td>0.56</td>\n",
              "      <td>9.4</td>\n",
              "      <td>8.06</td>\n",
              "      <td>1.9656</td>\n",
              "    </tr>\n",
              "    <tr>\n",
              "      <th>6</th>\n",
              "      <td>7.9</td>\n",
              "      <td>0.60</td>\n",
              "      <td>0.06</td>\n",
              "      <td>1.6</td>\n",
              "      <td>0.069</td>\n",
              "      <td>15.0</td>\n",
              "      <td>59.0</td>\n",
              "      <td>0.9964</td>\n",
              "      <td>3.30</td>\n",
              "      <td>0.46</td>\n",
              "      <td>9.4</td>\n",
              "      <td>8.50</td>\n",
              "      <td>1.5180</td>\n",
              "    </tr>\n",
              "    <tr>\n",
              "      <th>7</th>\n",
              "      <td>7.3</td>\n",
              "      <td>0.65</td>\n",
              "      <td>0.00</td>\n",
              "      <td>1.2</td>\n",
              "      <td>0.065</td>\n",
              "      <td>15.0</td>\n",
              "      <td>21.0</td>\n",
              "      <td>0.9946</td>\n",
              "      <td>3.39</td>\n",
              "      <td>0.47</td>\n",
              "      <td>10.0</td>\n",
              "      <td>7.95</td>\n",
              "      <td>1.5933</td>\n",
              "    </tr>\n",
              "    <tr>\n",
              "      <th>8</th>\n",
              "      <td>7.8</td>\n",
              "      <td>0.58</td>\n",
              "      <td>0.02</td>\n",
              "      <td>2.0</td>\n",
              "      <td>0.073</td>\n",
              "      <td>9.0</td>\n",
              "      <td>18.0</td>\n",
              "      <td>0.9968</td>\n",
              "      <td>3.36</td>\n",
              "      <td>0.57</td>\n",
              "      <td>9.5</td>\n",
              "      <td>8.38</td>\n",
              "      <td>1.9152</td>\n",
              "    </tr>\n",
              "    <tr>\n",
              "      <th>9</th>\n",
              "      <td>7.5</td>\n",
              "      <td>0.50</td>\n",
              "      <td>0.36</td>\n",
              "      <td>6.1</td>\n",
              "      <td>0.071</td>\n",
              "      <td>17.0</td>\n",
              "      <td>102.0</td>\n",
              "      <td>0.9978</td>\n",
              "      <td>3.35</td>\n",
              "      <td>0.80</td>\n",
              "      <td>10.5</td>\n",
              "      <td>8.00</td>\n",
              "      <td>2.6800</td>\n",
              "    </tr>\n",
              "  </tbody>\n",
              "</table>\n",
              "</div>"
            ],
            "text/plain": [
              "   fixed acidity  volatile acidity  ...  total acidity  pH_sulphate\n",
              "0            7.4              0.70  ...           8.10       1.9656\n",
              "1            7.8              0.88  ...           8.68       2.1760\n",
              "2            7.8              0.76  ...           8.56       2.1190\n",
              "3           11.2              0.28  ...          11.48       1.8328\n",
              "4            7.4              0.70  ...           8.10       1.9656\n",
              "5            7.4              0.66  ...           8.06       1.9656\n",
              "6            7.9              0.60  ...           8.50       1.5180\n",
              "7            7.3              0.65  ...           7.95       1.5933\n",
              "8            7.8              0.58  ...           8.38       1.9152\n",
              "9            7.5              0.50  ...           8.00       2.6800\n",
              "\n",
              "[10 rows x 13 columns]"
            ]
          },
          "metadata": {
            "tags": []
          },
          "execution_count": 25
        }
      ]
    },
    {
      "cell_type": "markdown",
      "metadata": {
        "id": "b1nqDzvbIGFv",
        "colab_type": "text"
      },
      "source": [
        "<h2>Train-Test Data</h2>\n",
        "<p> Train: 75% & Test: 25%</p>"
      ]
    },
    {
      "cell_type": "code",
      "metadata": {
        "id": "fsRzjuvYMQBZ",
        "colab_type": "code",
        "colab": {}
      },
      "source": [
        "X_train, X_test, y_train, y_test = train_test_split(final_df, target, test_size=0.25,random_state=0)"
      ],
      "execution_count": 0,
      "outputs": []
    },
    {
      "cell_type": "markdown",
      "metadata": {
        "id": "B91wnq69JIHu",
        "colab_type": "text"
      },
      "source": [
        "<h2>Hyperparameter Tuning with GridSearchCV & RandomisedSearchCV </h2>"
      ]
    },
    {
      "cell_type": "code",
      "metadata": {
        "id": "T8XMM_HzOToE",
        "colab_type": "code",
        "outputId": "2f2ca20d-bdf3-4ed3-80da-2bb6f114e730",
        "colab": {
          "base_uri": "https://localhost:8080/",
          "height": 122
        }
      },
      "source": [
        "# Decision Tree Classifier\n",
        "DT_classifier = DecisionTreeClassifier()\n",
        "\n",
        "# Hyperparameter Tuning with RandomSearchCV & GridSearchCV\n",
        "# 1. Reduce parameter search soace using RandomSearchCV first\n",
        "rnd_param = {\n",
        "    'max_depth': [10, 15, 20, 30, 40, 50, 60, 70, 80, 90, 100],\n",
        "    'class_weight': ['balanced_subsample', 'balanced', None]\n",
        "}\n",
        "\n",
        "rnd_sr = RandomizedSearchCV(estimator=DT_classifier,\n",
        "                            param_distributions=rnd_param,\n",
        "                            scoring=\"f1_macro\",\n",
        "                            n_iter=50,\n",
        "                            cv=5,\n",
        "                            n_jobs=-1)\n",
        "\n",
        "rnd_sr.fit(X_train, y_train)\n",
        "\n",
        "print(\"RandomisedSearchCV Best Params: \" + str(rnd_sr.best_params_)) # Optimal Parameters: Max Depth has high variance, results produce range from 10 to 40\n",
        "\n",
        "# Defer to 2. Grid Search CV\n",
        "grid_param = {\n",
        "    'max_depth': [5, 10, 15, 20, 25, 30, 35, 40],\n",
        "    'class_weight': ['balanced_subsample', 'balanced', None]\n",
        "}\n",
        "gd_sr = GridSearchCV(estimator=DT_classifier,\n",
        "                     param_grid=grid_param,\n",
        "                     scoring='f1_macro',\n",
        "                     cv=10,\n",
        "                     n_jobs=-1)\n",
        "\n",
        "gd_sr.fit(X_train, y_train)\n",
        "\n",
        "print(\"GridSeachCV Best Params: \" + str(gd_sr.best_params_ ))# Final Optimal Parameters: {'class_weight': None, 'max_depth': 25}\n",
        "print(\"GridSearchCV Best Score: \" + str(np.round(gd_sr.best_score_,3)))  # 0.7644"
      ],
      "execution_count": 27,
      "outputs": [
        {
          "output_type": "stream",
          "text": [
            "/usr/local/lib/python3.6/dist-packages/sklearn/model_selection/_search.py:281: UserWarning: The total space of parameters 33 is smaller than n_iter=50. Running 33 iterations. For exhaustive searches, use GridSearchCV.\n",
            "  % (grid_size, self.n_iter, grid_size), UserWarning)\n"
          ],
          "name": "stderr"
        },
        {
          "output_type": "stream",
          "text": [
            "RandomisedSearchCV Best Params: {'max_depth': 10, 'class_weight': None}\n",
            "GridSeachCV Best Params: {'class_weight': None, 'max_depth': 40}\n",
            "GridSearchCV Best Score: 0.764\n"
          ],
          "name": "stdout"
        }
      ]
    },
    {
      "cell_type": "markdown",
      "metadata": {
        "id": "JhJHLQCoIUaI",
        "colab_type": "text"
      },
      "source": [
        "<h2>Training the Decision Tree Classifier</h2>"
      ]
    },
    {
      "cell_type": "code",
      "metadata": {
        "id": "3CvL8klQMX0g",
        "colab_type": "code",
        "colab": {}
      },
      "source": [
        "classifier = DecisionTreeClassifier(criterion='gini', max_depth=25,random_state=0)  # Use Entropy as measure of disorder\n",
        "classifier.fit(X_train, y_train)\n",
        "\n",
        "#Predictions\n",
        "y_pred = classifier.predict(X_test)"
      ],
      "execution_count": 0,
      "outputs": []
    },
    {
      "cell_type": "markdown",
      "metadata": {
        "id": "y53YYeeqIbY9",
        "colab_type": "text"
      },
      "source": [
        "<h2>Evaluating the Decision Tree</h2>"
      ]
    },
    {
      "cell_type": "markdown",
      "metadata": {
        "id": "poIRD_HxImhd",
        "colab_type": "text"
      },
      "source": [
        "<h3>Classification Report</h3>"
      ]
    },
    {
      "cell_type": "code",
      "metadata": {
        "id": "JxJZmtXfMgiH",
        "colab_type": "code",
        "outputId": "13508ffe-510d-4fbd-eb59-85337570a9ed",
        "colab": {
          "base_uri": "https://localhost:8080/",
          "height": 204
        }
      },
      "source": [
        "report = classification_report(y_test, y_pred, output_dict = True)\n",
        "report_df = pd.DataFrame(report).transpose()\n",
        "report_df"
      ],
      "execution_count": 29,
      "outputs": [
        {
          "output_type": "execute_result",
          "data": {
            "text/html": [
              "<div>\n",
              "<style scoped>\n",
              "    .dataframe tbody tr th:only-of-type {\n",
              "        vertical-align: middle;\n",
              "    }\n",
              "\n",
              "    .dataframe tbody tr th {\n",
              "        vertical-align: top;\n",
              "    }\n",
              "\n",
              "    .dataframe thead th {\n",
              "        text-align: right;\n",
              "    }\n",
              "</style>\n",
              "<table border=\"1\" class=\"dataframe\">\n",
              "  <thead>\n",
              "    <tr style=\"text-align: right;\">\n",
              "      <th></th>\n",
              "      <th>precision</th>\n",
              "      <th>recall</th>\n",
              "      <th>f1-score</th>\n",
              "      <th>support</th>\n",
              "    </tr>\n",
              "  </thead>\n",
              "  <tbody>\n",
              "    <tr>\n",
              "      <th>0</th>\n",
              "      <td>0.964286</td>\n",
              "      <td>0.912676</td>\n",
              "      <td>0.937771</td>\n",
              "      <td>355.0000</td>\n",
              "    </tr>\n",
              "    <tr>\n",
              "      <th>1</th>\n",
              "      <td>0.515625</td>\n",
              "      <td>0.733333</td>\n",
              "      <td>0.605505</td>\n",
              "      <td>45.0000</td>\n",
              "    </tr>\n",
              "    <tr>\n",
              "      <th>accuracy</th>\n",
              "      <td>0.892500</td>\n",
              "      <td>0.892500</td>\n",
              "      <td>0.892500</td>\n",
              "      <td>0.8925</td>\n",
              "    </tr>\n",
              "    <tr>\n",
              "      <th>macro avg</th>\n",
              "      <td>0.739955</td>\n",
              "      <td>0.823005</td>\n",
              "      <td>0.771638</td>\n",
              "      <td>400.0000</td>\n",
              "    </tr>\n",
              "    <tr>\n",
              "      <th>weighted avg</th>\n",
              "      <td>0.913811</td>\n",
              "      <td>0.892500</td>\n",
              "      <td>0.900391</td>\n",
              "      <td>400.0000</td>\n",
              "    </tr>\n",
              "  </tbody>\n",
              "</table>\n",
              "</div>"
            ],
            "text/plain": [
              "              precision    recall  f1-score   support\n",
              "0              0.964286  0.912676  0.937771  355.0000\n",
              "1              0.515625  0.733333  0.605505   45.0000\n",
              "accuracy       0.892500  0.892500  0.892500    0.8925\n",
              "macro avg      0.739955  0.823005  0.771638  400.0000\n",
              "weighted avg   0.913811  0.892500  0.900391  400.0000"
            ]
          },
          "metadata": {
            "tags": []
          },
          "execution_count": 29
        }
      ]
    },
    {
      "cell_type": "markdown",
      "metadata": {
        "id": "VVPExg1IJAHy",
        "colab_type": "text"
      },
      "source": [
        "<h3>ROC & AUC</h3>"
      ]
    },
    {
      "cell_type": "code",
      "metadata": {
        "id": "yVx_KOGTODhd",
        "colab_type": "code",
        "outputId": "1f6fb9ec-7430-4847-c7c9-f797c0d352db",
        "colab": {
          "base_uri": "https://localhost:8080/",
          "height": 299
        }
      },
      "source": [
        "# prediction probabilities\n",
        "dt_probs = classifier.predict_proba(X_test)\n",
        "ns_probs = [0 for _ in range(len(y_test))]\n",
        "# keep probabilities for the positive outcome only\n",
        "dt_probs = dt_probs[:, 1]\n",
        "# calculate scores\n",
        "dt_auc = roc_auc_score(y_test, dt_probs)\n",
        "ns_auc = roc_auc_score(y_test, ns_probs) # 0.5\n",
        "# summarize scores\n",
        "print('Decision Trees: ROC AUC=%.3f' % (dt_auc))\n",
        "# calculate ROC curves\n",
        "dt_fpr, dt_tpr, _ = roc_curve(y_test, dt_probs)\n",
        "ns_fpr, ns_tpr, _ = roc_curve(y_test, ns_probs)\n",
        "# plot the ROC curve for the Decision Tree Classifier\n",
        "plt.plot(dt_fpr, dt_tpr, marker='.', label='Decision Tree')\n",
        "plt.plot(ns_fpr, ns_tpr, linestyle='--', label='No Skill', color = \"black\")\n",
        "# axis labels\n",
        "plt.xlabel('False Positive Rate')\n",
        "plt.ylabel('True Positive Rate')\n",
        "# show the legend\n",
        "plt.legend()\n",
        "# show the plot\n",
        "plt.show()"
      ],
      "execution_count": 31,
      "outputs": [
        {
          "output_type": "stream",
          "text": [
            "Decision Trees: ROC AUC=0.823\n"
          ],
          "name": "stdout"
        },
        {
          "output_type": "display_data",
          "data": {
            "image/png": "[encoded data removed]",
            "text/plain": [
              "<Figure size 432x288 with 1 Axes>"
            ]
          },
          "metadata": {
            "tags": []
          }
        }
      ]
    },
    {
      "cell_type": "markdown",
      "metadata": {
        "id": "uYKwWd7iPVQS",
        "colab_type": "text"
      },
      "source": [
        "<h3>Precision Recall Curve</h3>"
      ]
    },
    {
      "cell_type": "code",
      "metadata": {
        "id": "FzgAdoTePUOQ",
        "colab_type": "code",
        "colab": {
          "base_uri": "https://localhost:8080/",
          "height": 299
        },
        "outputId": "5f9bb674-ed07-4f54-ae1b-5537ddee4738"
      },
      "source": [
        "dt_probs = DT_classifier.predict_proba(X_test)\n",
        "dt_probs = dt_probs[:, 1] # Keep probability predictions for good quality (=1) class only\n",
        "precisions, recalls, _ = precision_recall_curve(y_test, dt_probs)\n",
        "\n",
        "# Plot PR-Curve\n",
        "no_skill = len(y_test[y_test==1]) / len(y_test)\n",
        "plt.plot([0, 1], [no_skill, no_skill], linestyle='--', label='No Skill')\n",
        "plt.plot(recalls, precisions, marker='.', label='Decision Tree')\n",
        "# axis labels\n",
        "plt.xlabel('Recall')\n",
        "plt.ylabel('Precision')\n",
        "# show the legend\n",
        "plt.legend()\n",
        "# annotate optimised model's recall and precision\n",
        "# Title\n",
        "plt.title(\"Precision Recall Curve of Decision Tree\")\n",
        "# show the plot\n",
        "plt.show()"
      ],
      "execution_count": 40,
      "outputs": [
        {
          "output_type": "display_data",
          "data": {
            "image/png": "[encoded data removed]",
            "text/plain": [
              "<Figure size 432x288 with 1 Axes>"
            ]
          },
          "metadata": {
            "tags": []
          }
        }
      ]
    },
    {
      "cell_type": "markdown",
      "metadata": {
        "id": "byg7uxsqJ_K-",
        "colab_type": "text"
      },
      "source": [
        "<h2>Feature Importance (Testing our Hypotheses)</h2>\n",
        "<p> https://stackoverflow.com/questions/49170296/scikit-learn-feature-importance-calculation-in-decision-trees </p>\n",
        "<p> https://medium.com/the-artificial-impostor/feature-importance-measures-for-tree-models-part-i-47f187c1a2c3</p>\n",
        "<p>Feature Importance is measured by GINI importance which is in turn calculated by the Mean Decrease in Impurity = the sum over the number of splits (across all tress) that include the feature, proportionally to the number of samples it splits.</p>"
      ]
    },
    {
      "cell_type": "code",
      "metadata": {
        "id": "92w6ir6GHvDO",
        "colab_type": "code",
        "outputId": "ce7d5756-04f2-4efc-bd59-fc8ecbcb3a7c",
        "colab": {
          "base_uri": "https://localhost:8080/",
          "height": 238
        }
      },
      "source": [
        "for name, importance in zip(final_df.columns, classifier.feature_importances_):\n",
        "...     print(name, \"=\", importance)"
      ],
      "execution_count": 35,
      "outputs": [
        {
          "output_type": "stream",
          "text": [
            "fixed acidity = 0.029761108468195466\n",
            "volatile acidity = 0.13222860584730642\n",
            "citric acid = 0.03966502512966093\n",
            "residual sugar = 0.08259369127886351\n",
            "chlorides = 0.07282423378596986\n",
            "free sulfur dioxide = 0.08857210854527514\n",
            "total sulfur dioxide = 0.048009602834598056\n",
            "density = 0.022236208742685056\n",
            "pH = 0.07505486762749929\n",
            "sulphates = 0.11179546393827455\n",
            "alcohol = 0.21194369862633447\n",
            "total acidity = 0.049953209312981785\n",
            "pH_sulphate = 0.03536217586235546\n"
          ],
          "name": "stdout"
        }
      ]
    },
    {
      "cell_type": "code",
      "metadata": {
        "id": "G1BxATl8PLmj",
        "colab_type": "code",
        "outputId": "c8fb4b58-da55-4f2e-f922-f763e9e4cffc",
        "colab": {
          "base_uri": "https://localhost:8080/",
          "height": 299
        }
      },
      "source": [
        "features = final_df.columns\n",
        "importances = classifier.feature_importances_\n",
        "indices = np.argsort(importances)\n",
        "\n",
        "#Graphing it\n",
        "plt.title('Feature Importances')\n",
        "plt.barh(range(len(indices)), importances[indices], color='b', align='center')\n",
        "plt.yticks(range(len(indices)), [features[i] for i in indices])\n",
        "plt.xlabel('Relative Importance')\n",
        "plt.show()"
      ],
      "execution_count": 36,
      "outputs": [
        {
          "output_type": "display_data",
          "data": {
            "image/png": "[encoded data removed]",
            "text/plain": [
              "<Figure size 432x288 with 1 Axes>"
            ]
          },
          "metadata": {
            "tags": []
          }
        }
      ]
    },
    {
      "cell_type": "markdown",
      "metadata": {
        "id": "Z8nyt8P9OmUj",
        "colab_type": "text"
      },
      "source": [
        "<h1> Permutation Importance </h1>"
      ]
    },
    {
      "cell_type": "code",
      "metadata": {
        "id": "_zR9VjPRP0N_",
        "colab_type": "code",
        "colab": {
          "base_uri": "https://localhost:8080/",
          "height": 442
        },
        "outputId": "a94fe32c-6449-4b0d-900f-a5548e92e121"
      },
      "source": [
        "# Permutation Importance (eli5)\n",
        "!pip install eli5\n",
        "import eli5\n",
        "from eli5.sklearn import PermutationImportance\n",
        "DT_classifier = DecisionTreeClassifier(criterion=\"gini\", random_state=0, max_depth=25)\n",
        "DT_classifier.fit(X_train, y_train)\n",
        "perm = PermutationImportance(DT_classifier, random_state=1, scoring=\"f1_macro\", n_iter=10).fit(X_test, y_test)\n",
        "eli5.show_weights(perm, feature_names = X_test.columns.tolist()) # See on Jupyter Notebook"
      ],
      "execution_count": 34,
      "outputs": [
        {
          "output_type": "stream",
          "text": [
            "Requirement already satisfied: eli5 in /usr/local/lib/python3.6/dist-packages (0.10.1)\n",
            "Requirement already satisfied: graphviz in /usr/local/lib/python3.6/dist-packages (from eli5) (0.10.1)\n",
            "Requirement already satisfied: scikit-learn>=0.18 in /usr/local/lib/python3.6/dist-packages (from eli5) (0.22.2.post1)\n",
            "Requirement already satisfied: attrs>16.0.0 in /usr/local/lib/python3.6/dist-packages (from eli5) (19.3.0)\n",
            "Requirement already satisfied: numpy>=1.9.0 in /usr/local/lib/python3.6/dist-packages (from eli5) (1.18.3)\n",
            "Requirement already satisfied: tabulate>=0.7.7 in /usr/local/lib/python3.6/dist-packages (from eli5) (0.8.7)\n",
            "Requirement already satisfied: jinja2 in /usr/local/lib/python3.6/dist-packages (from eli5) (2.11.2)\n",
            "Requirement already satisfied: scipy in /usr/local/lib/python3.6/dist-packages (from eli5) (1.4.1)\n",
            "Requirement already satisfied: six in /usr/local/lib/python3.6/dist-packages (from eli5) (1.12.0)\n",
            "Requirement already satisfied: joblib>=0.11 in /usr/local/lib/python3.6/dist-packages (from scikit-learn>=0.18->eli5) (0.14.1)\n",
            "Requirement already satisfied: MarkupSafe>=0.23 in /usr/local/lib/python3.6/dist-packages (from jinja2->eli5) (1.1.1)\n"
          ],
          "name": "stdout"
        },
        {
          "output_type": "execute_result",
          "data": {
            "text/html": [
              "\n",
              "    <style>\n",
              "    table.eli5-weights tr:hover {\n",
              "        filter: brightness(85%);\n",
              "    }\n",
              "</style>\n",
              "\n",
              "\n",
              "\n",
              "    \n",
              "\n",
              "    \n",
              "\n",
              "    \n",
              "\n",
              "    \n",
              "\n",
              "    \n",
              "\n",
              "    \n",
              "\n",
              "\n",
              "    \n",
              "\n",
              "    \n",
              "\n",
              "    \n",
              "\n",
              "    \n",
              "\n",
              "    \n",
              "\n",
              "    \n",
              "\n",
              "\n",
              "    \n",
              "\n",
              "    \n",
              "\n",
              "    \n",
              "\n",
              "    \n",
              "\n",
              "    \n",
              "        <table class=\"eli5-weights eli5-feature-importances\" style=\"border-collapse: collapse; border: none; margin-top: 0em; table-layout: auto;\">\n",
              "    <thead>\n",
              "    <tr style=\"border: none;\">\n",
              "        <th style=\"padding: 0 1em 0 0.5em; text-align: right; border: none;\">Weight</th>\n",
              "        <th style=\"padding: 0 0.5em 0 0.5em; text-align: left; border: none;\">Feature</th>\n",
              "    </tr>\n",
              "    </thead>\n",
              "    <tbody>\n",
              "    \n",
              "        <tr style=\"background-color: hsl(120, 100.00%, 80.00%); border: none;\">\n",
              "            <td style=\"padding: 0 1em 0 0.5em; text-align: right; border: none;\">\n",
              "                0.1892\n",
              "                \n",
              "                    &plusmn; 0.0532\n",
              "                \n",
              "            </td>\n",
              "            <td style=\"padding: 0 0.5em 0 0.5em; text-align: left; border: none;\">\n",
              "                alcohol\n",
              "            </td>\n",
              "        </tr>\n",
              "    \n",
              "        <tr style=\"background-color: hsl(120, 100.00%, 86.31%); border: none;\">\n",
              "            <td style=\"padding: 0 1em 0 0.5em; text-align: right; border: none;\">\n",
              "                0.1101\n",
              "                \n",
              "                    &plusmn; 0.0397\n",
              "                \n",
              "            </td>\n",
              "            <td style=\"padding: 0 0.5em 0 0.5em; text-align: left; border: none;\">\n",
              "                volatile acidity\n",
              "            </td>\n",
              "        </tr>\n",
              "    \n",
              "        <tr style=\"background-color: hsl(120, 100.00%, 89.97%); border: none;\">\n",
              "            <td style=\"padding: 0 1em 0 0.5em; text-align: right; border: none;\">\n",
              "                0.0706\n",
              "                \n",
              "                    &plusmn; 0.0163\n",
              "                \n",
              "            </td>\n",
              "            <td style=\"padding: 0 0.5em 0 0.5em; text-align: left; border: none;\">\n",
              "                citric acid\n",
              "            </td>\n",
              "        </tr>\n",
              "    \n",
              "        <tr style=\"background-color: hsl(120, 100.00%, 91.64%); border: none;\">\n",
              "            <td style=\"padding: 0 1em 0 0.5em; text-align: right; border: none;\">\n",
              "                0.0544\n",
              "                \n",
              "                    &plusmn; 0.0323\n",
              "                \n",
              "            </td>\n",
              "            <td style=\"padding: 0 0.5em 0 0.5em; text-align: left; border: none;\">\n",
              "                free sulfur dioxide\n",
              "            </td>\n",
              "        </tr>\n",
              "    \n",
              "        <tr style=\"background-color: hsl(120, 100.00%, 91.90%); border: none;\">\n",
              "            <td style=\"padding: 0 1em 0 0.5em; text-align: right; border: none;\">\n",
              "                0.0520\n",
              "                \n",
              "                    &plusmn; 0.0292\n",
              "                \n",
              "            </td>\n",
              "            <td style=\"padding: 0 0.5em 0 0.5em; text-align: left; border: none;\">\n",
              "                total sulfur dioxide\n",
              "            </td>\n",
              "        </tr>\n",
              "    \n",
              "        <tr style=\"background-color: hsl(120, 100.00%, 91.96%); border: none;\">\n",
              "            <td style=\"padding: 0 1em 0 0.5em; text-align: right; border: none;\">\n",
              "                0.0515\n",
              "                \n",
              "                    &plusmn; 0.0163\n",
              "                \n",
              "            </td>\n",
              "            <td style=\"padding: 0 0.5em 0 0.5em; text-align: left; border: none;\">\n",
              "                sulphates\n",
              "            </td>\n",
              "        </tr>\n",
              "    \n",
              "        <tr style=\"background-color: hsl(120, 100.00%, 92.86%); border: none;\">\n",
              "            <td style=\"padding: 0 1em 0 0.5em; text-align: right; border: none;\">\n",
              "                0.0434\n",
              "                \n",
              "                    &plusmn; 0.0178\n",
              "                \n",
              "            </td>\n",
              "            <td style=\"padding: 0 0.5em 0 0.5em; text-align: left; border: none;\">\n",
              "                pH\n",
              "            </td>\n",
              "        </tr>\n",
              "    \n",
              "        <tr style=\"background-color: hsl(120, 100.00%, 92.97%); border: none;\">\n",
              "            <td style=\"padding: 0 1em 0 0.5em; text-align: right; border: none;\">\n",
              "                0.0425\n",
              "                \n",
              "                    &plusmn; 0.0174\n",
              "                \n",
              "            </td>\n",
              "            <td style=\"padding: 0 0.5em 0 0.5em; text-align: left; border: none;\">\n",
              "                chlorides\n",
              "            </td>\n",
              "        </tr>\n",
              "    \n",
              "        <tr style=\"background-color: hsl(120, 100.00%, 94.78%); border: none;\">\n",
              "            <td style=\"padding: 0 1em 0 0.5em; text-align: right; border: none;\">\n",
              "                0.0278\n",
              "                \n",
              "                    &plusmn; 0.0195\n",
              "                \n",
              "            </td>\n",
              "            <td style=\"padding: 0 0.5em 0 0.5em; text-align: left; border: none;\">\n",
              "                residual sugar\n",
              "            </td>\n",
              "        </tr>\n",
              "    \n",
              "        <tr style=\"background-color: hsl(120, 100.00%, 97.34%); border: none;\">\n",
              "            <td style=\"padding: 0 1em 0 0.5em; text-align: right; border: none;\">\n",
              "                0.0106\n",
              "                \n",
              "                    &plusmn; 0.0000\n",
              "                \n",
              "            </td>\n",
              "            <td style=\"padding: 0 0.5em 0 0.5em; text-align: left; border: none;\">\n",
              "                fixed acidity\n",
              "            </td>\n",
              "        </tr>\n",
              "    \n",
              "        <tr style=\"background-color: hsl(120, 100.00%, 97.41%); border: none;\">\n",
              "            <td style=\"padding: 0 1em 0 0.5em; text-align: right; border: none;\">\n",
              "                0.0102\n",
              "                \n",
              "                    &plusmn; 0.0106\n",
              "                \n",
              "            </td>\n",
              "            <td style=\"padding: 0 0.5em 0 0.5em; text-align: left; border: none;\">\n",
              "                density\n",
              "            </td>\n",
              "        </tr>\n",
              "    \n",
              "        <tr style=\"background-color: hsl(120, 100.00%, 97.76%); border: none;\">\n",
              "            <td style=\"padding: 0 1em 0 0.5em; text-align: right; border: none;\">\n",
              "                0.0083\n",
              "                \n",
              "                    &plusmn; 0.0122\n",
              "                \n",
              "            </td>\n",
              "            <td style=\"padding: 0 0.5em 0 0.5em; text-align: left; border: none;\">\n",
              "                pH_sulphate\n",
              "            </td>\n",
              "        </tr>\n",
              "    \n",
              "        <tr style=\"background-color: hsl(120, 100.00%, 98.05%); border: none;\">\n",
              "            <td style=\"padding: 0 1em 0 0.5em; text-align: right; border: none;\">\n",
              "                0.0068\n",
              "                \n",
              "                    &plusmn; 0.0143\n",
              "                \n",
              "            </td>\n",
              "            <td style=\"padding: 0 0.5em 0 0.5em; text-align: left; border: none;\">\n",
              "                total acidity\n",
              "            </td>\n",
              "        </tr>\n",
              "    \n",
              "    \n",
              "    </tbody>\n",
              "</table>\n",
              "    \n",
              "\n",
              "    \n",
              "\n",
              "\n",
              "    \n",
              "\n",
              "    \n",
              "\n",
              "    \n",
              "\n",
              "    \n",
              "\n",
              "    \n",
              "\n",
              "    \n",
              "\n",
              "\n",
              "\n"
            ],
            "text/plain": [
              "<IPython.core.display.HTML object>"
            ]
          },
          "metadata": {
            "tags": []
          },
          "execution_count": 34
        }
      ]
    },
    {
      "cell_type": "markdown",
      "metadata": {
        "id": "uxgw25FWO8J2",
        "colab_type": "text"
      },
      "source": [
        "<p> All features are important in classifying Quality Red Wines.</p>\n",
        "<p>Thus, no further feature selection is necessary for the Decision Tree Classifier.</p>"
      ]
    },
    {
      "cell_type": "code",
      "metadata": {
        "id": "ZpcBT4i5OpyB",
        "colab_type": "code",
        "colab": {}
      },
      "source": [
        ""
      ],
      "execution_count": 0,
      "outputs": []
    }
  ]
}