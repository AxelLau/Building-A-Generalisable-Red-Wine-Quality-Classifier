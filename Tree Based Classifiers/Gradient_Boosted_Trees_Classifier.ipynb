{
  "nbformat": 4,
  "nbformat_minor": 0,
  "metadata": {
    "colab": {
      "name": "Gradient Boosted Trees Classifier.ipynb",
      "provenance": [],
      "collapsed_sections": [],
      "include_colab_link": true
    },
    "kernelspec": {
      "name": "python3",
      "display_name": "Python 3"
    }
  },
  "cells": [
    {
      "cell_type": "markdown",
      "metadata": {
        "id": "view-in-github",
        "colab_type": "text"
      },
      "source": [
        "<a href=\"https://colab.research.google.com/github/ChristopherLiew/Classifying-Red-Wine-Quality/blob/master/Gradient_Boosted_Trees_Classifier.ipynb\" target=\"_parent\"><img src=\"https://colab.research.google.com/assets/colab-badge.svg\" alt=\"Open In Colab\"/></a>"
      ]
    },
    {
      "cell_type": "markdown",
      "metadata": {
        "id": "bY4ofvotH1US",
        "colab_type": "text"
      },
      "source": [
        "<h1> The Gradient Boosted Trees Classifier </h1>\n",
        "<h3> Strengths of the Gradient Boosted Trees: </h3>\n",
        "\n",
        "1.   Uses many shallow trees, i.e. 8-32 leaf nodes at max. , thus it circumvents high variance as compared to random forests or decision trees.\n",
        "2.   Grows sequentially, and thus iteratively corrects the errors of previous trees. Thus possibly more accurate than other ensemble methods like Random Forests.\n",
        "\n",
        "\n",
        "<h3> Weaknesses of the Gradient Boosted Trees: </h3>\n",
        "\n",
        "1.   Take longer to train due to sequential building of trees.\n",
        "\n",
        "\n"
      ]
    },
    {
      "cell_type": "code",
      "metadata": {
        "id": "ec8PdPJxK8OL",
        "colab_type": "code",
        "colab": {
          "base_uri": "https://localhost:8080/",
          "height": 377
        },
        "outputId": "463d4fa8-fecc-4fc3-ca77-dcd7dd3b9eb8"
      },
      "source": [
        "# Import Libraries\n",
        "import pandas as pd\n",
        "import numpy as np\n",
        "import matplotlib as mpl\n",
        "import matplotlib.pyplot as plt\n",
        "%matplotlib inline\n",
        "mpl.style.use('ggplot') # optional: for ggplot-like style\n",
        "from sklearn.preprocessing import RobustScaler\n",
        "from sklearn.preprocessing import StandardScaler\n",
        "from sklearn.model_selection import train_test_split\n",
        "from sklearn.model_selection import GridSearchCV\n",
        "from sklearn.model_selection import RandomizedSearchCV\n",
        "from sklearn.ensemble import GradientBoostingClassifier\n",
        "from sklearn.metrics import classification_report\n",
        "from sklearn.metrics import roc_curve\n",
        "from sklearn.metrics import roc_auc_score\n",
        "from sklearn.metrics import precision_recall_curve\n",
        "!pip install eli5\n",
        "import eli5"
      ],
      "execution_count": 3,
      "outputs": [
        {
          "output_type": "stream",
          "text": [
            "Collecting eli5\n",
            "\u001b[?25l  Downloading https://files.pythonhosted.org/packages/97/2f/c85c7d8f8548e460829971785347e14e45fa5c6617da374711dec8cb38cc/eli5-0.10.1-py2.py3-none-any.whl (105kB)\n",
            "\r\u001b[K     |███                             | 10kB 19.1MB/s eta 0:00:01\r\u001b[K     |██████▏                         | 20kB 1.7MB/s eta 0:00:01\r\u001b[K     |█████████▎                      | 30kB 2.5MB/s eta 0:00:01\r\u001b[K     |████████████▍                   | 40kB 1.7MB/s eta 0:00:01\r\u001b[K     |███████████████▌                | 51kB 2.1MB/s eta 0:00:01\r\u001b[K     |██████████████████▋             | 61kB 2.5MB/s eta 0:00:01\r\u001b[K     |█████████████████████▊          | 71kB 2.8MB/s eta 0:00:01\r\u001b[K     |████████████████████████▊       | 81kB 2.2MB/s eta 0:00:01\r\u001b[K     |███████████████████████████▉    | 92kB 2.5MB/s eta 0:00:01\r\u001b[K     |███████████████████████████████ | 102kB 2.7MB/s eta 0:00:01\r\u001b[K     |████████████████████████████████| 112kB 2.7MB/s \n",
            "\u001b[?25hRequirement already satisfied: six in /usr/local/lib/python3.6/dist-packages (from eli5) (1.12.0)\n",
            "Requirement already satisfied: tabulate>=0.7.7 in /usr/local/lib/python3.6/dist-packages (from eli5) (0.8.7)\n",
            "Requirement already satisfied: numpy>=1.9.0 in /usr/local/lib/python3.6/dist-packages (from eli5) (1.18.3)\n",
            "Requirement already satisfied: attrs>16.0.0 in /usr/local/lib/python3.6/dist-packages (from eli5) (19.3.0)\n",
            "Requirement already satisfied: jinja2 in /usr/local/lib/python3.6/dist-packages (from eli5) (2.11.2)\n",
            "Requirement already satisfied: graphviz in /usr/local/lib/python3.6/dist-packages (from eli5) (0.10.1)\n",
            "Requirement already satisfied: scipy in /usr/local/lib/python3.6/dist-packages (from eli5) (1.4.1)\n",
            "Requirement already satisfied: scikit-learn>=0.18 in /usr/local/lib/python3.6/dist-packages (from eli5) (0.22.2.post1)\n",
            "Requirement already satisfied: MarkupSafe>=0.23 in /usr/local/lib/python3.6/dist-packages (from jinja2->eli5) (1.1.1)\n",
            "Requirement already satisfied: joblib>=0.11 in /usr/local/lib/python3.6/dist-packages (from scikit-learn>=0.18->eli5) (0.14.1)\n",
            "Installing collected packages: eli5\n",
            "Successfully installed eli5-0.10.1\n"
          ],
          "name": "stdout"
        },
        {
          "output_type": "stream",
          "text": [
            "/usr/local/lib/python3.6/dist-packages/sklearn/utils/deprecation.py:144: FutureWarning: The sklearn.metrics.scorer module is  deprecated in version 0.22 and will be removed in version 0.24. The corresponding classes / functions should instead be imported from sklearn.metrics. Anything that cannot be imported from sklearn.metrics is now part of the private API.\n",
            "  warnings.warn(message, FutureWarning)\n",
            "/usr/local/lib/python3.6/dist-packages/sklearn/utils/deprecation.py:144: FutureWarning: The sklearn.feature_selection.base module is  deprecated in version 0.22 and will be removed in version 0.24. The corresponding classes / functions should instead be imported from sklearn.feature_selection. Anything that cannot be imported from sklearn.feature_selection is now part of the private API.\n",
            "  warnings.warn(message, FutureWarning)\n",
            "Using TensorFlow backend.\n"
          ],
          "name": "stderr"
        }
      ]
    },
    {
      "cell_type": "code",
      "metadata": {
        "id": "mL9Fj14_LGn-",
        "colab_type": "code",
        "outputId": "28c2e9b7-ef8b-48ae-ea5f-576e971c2fe9",
        "colab": {
          "base_uri": "https://localhost:8080/",
          "height": 122
        }
      },
      "source": [
        "from google.colab import drive \n",
        "drive.mount('/content/gdrive')"
      ],
      "execution_count": 4,
      "outputs": [
        {
          "output_type": "stream",
          "text": [
            "Go to this URL in a browser: https://accounts.google.com/o/oauth2/auth?client_id=947318989803-6bn6qk8qdgf4n4g3pfee6491hc0brc4i.apps.googleusercontent.com&redirect_uri=urn%3aietf%3awg%3aoauth%3a2.0%3aoob&response_type=code&scope=email%20https%3a%2f%2fwww.googleapis.com%2fauth%2fdocs.test%20https%3a%2f%2fwww.googleapis.com%2fauth%2fdrive%20https%3a%2f%2fwww.googleapis.com%2fauth%2fdrive.photos.readonly%20https%3a%2f%2fwww.googleapis.com%2fauth%2fpeopleapi.readonly\n",
            "\n",
            "Enter your authorization code:\n",
            "··········\n",
            "Mounted at /content/gdrive\n"
          ],
          "name": "stdout"
        }
      ]
    },
    {
      "cell_type": "code",
      "metadata": {
        "id": "bJ07yj0qLTbO",
        "colab_type": "code",
        "colab": {}
      },
      "source": [
        "wine_df = pd.read_csv(\"/content/gdrive/My Drive/Business Analytics Stuff/BT2101 Group Project/winequality-red.csv\")"
      ],
      "execution_count": 0,
      "outputs": []
    },
    {
      "cell_type": "markdown",
      "metadata": {
        "id": "947Jnm2UH_h0",
        "colab_type": "text"
      },
      "source": [
        "<h2>Wrangled & Processed Red Wine Quality Dataset</h2>\n",
        "<p> The gradient boosting algorithm which is predicated upon gradient descent, is sensitive to the magnitude of our values. Thus, it would benefit from feature scaling to expedite our gradient boosting algorithm. </p>\n",
        "<p></p>\n",
        "<p>Additionally, since Tree-based methods utilise entropy and information gain to essentially engage in 'automatic' feature selection, feature selection will not be used. Instead, we will compute the feature importance and iteratively remove any features which have an insignificant amount of feature importance.</p>"
      ]
    },
    {
      "cell_type": "code",
      "metadata": {
        "id": "Oe9mEM0bLoKh",
        "colab_type": "code",
        "outputId": "ecbbbf64-58b9-42ee-b18c-dd9b01435805",
        "colab": {
          "base_uri": "https://localhost:8080/",
          "height": 221
        }
      },
      "source": [
        "# Creating the Binary Target Variable\n",
        "wine_df[\"good_quality\"] = wine_df[\"quality\"] >= 7\n",
        "\n",
        "# Target Variable\n",
        "target = wine_df.loc[:, 'good_quality']\n",
        "target = target.astype(int)  # 1 = good quality & 0 = other quality\n",
        "target\n",
        "\n",
        "# Interaction Terms\n",
        "wine_df['total_acidity'] = wine_df['fixed acidity'] + wine_df['volatile acidity']\n",
        "wine_df['pH_sulphate'] = wine_df['pH'] * wine_df['sulphates']\n",
        "\n",
        "wine_df.head(5)"
      ],
      "execution_count": 39,
      "outputs": [
        {
          "output_type": "execute_result",
          "data": {
            "text/html": [
              "<div>\n",
              "<style scoped>\n",
              "    .dataframe tbody tr th:only-of-type {\n",
              "        vertical-align: middle;\n",
              "    }\n",
              "\n",
              "    .dataframe tbody tr th {\n",
              "        vertical-align: top;\n",
              "    }\n",
              "\n",
              "    .dataframe thead th {\n",
              "        text-align: right;\n",
              "    }\n",
              "</style>\n",
              "<table border=\"1\" class=\"dataframe\">\n",
              "  <thead>\n",
              "    <tr style=\"text-align: right;\">\n",
              "      <th></th>\n",
              "      <th>fixed acidity</th>\n",
              "      <th>volatile acidity</th>\n",
              "      <th>citric acid</th>\n",
              "      <th>residual sugar</th>\n",
              "      <th>chlorides</th>\n",
              "      <th>free sulfur dioxide</th>\n",
              "      <th>total sulfur dioxide</th>\n",
              "      <th>density</th>\n",
              "      <th>pH</th>\n",
              "      <th>sulphates</th>\n",
              "      <th>alcohol</th>\n",
              "      <th>quality</th>\n",
              "      <th>good_quality</th>\n",
              "      <th>pH_sulphate</th>\n",
              "      <th>total_acidity</th>\n",
              "    </tr>\n",
              "  </thead>\n",
              "  <tbody>\n",
              "    <tr>\n",
              "      <th>0</th>\n",
              "      <td>7.4</td>\n",
              "      <td>0.70</td>\n",
              "      <td>0.00</td>\n",
              "      <td>1.9</td>\n",
              "      <td>0.076</td>\n",
              "      <td>11.0</td>\n",
              "      <td>34.0</td>\n",
              "      <td>0.9978</td>\n",
              "      <td>3.51</td>\n",
              "      <td>0.56</td>\n",
              "      <td>9.4</td>\n",
              "      <td>5</td>\n",
              "      <td>False</td>\n",
              "      <td>1.9656</td>\n",
              "      <td>8.10</td>\n",
              "    </tr>\n",
              "    <tr>\n",
              "      <th>1</th>\n",
              "      <td>7.8</td>\n",
              "      <td>0.88</td>\n",
              "      <td>0.00</td>\n",
              "      <td>2.6</td>\n",
              "      <td>0.098</td>\n",
              "      <td>25.0</td>\n",
              "      <td>67.0</td>\n",
              "      <td>0.9968</td>\n",
              "      <td>3.20</td>\n",
              "      <td>0.68</td>\n",
              "      <td>9.8</td>\n",
              "      <td>5</td>\n",
              "      <td>False</td>\n",
              "      <td>2.1760</td>\n",
              "      <td>8.68</td>\n",
              "    </tr>\n",
              "    <tr>\n",
              "      <th>2</th>\n",
              "      <td>7.8</td>\n",
              "      <td>0.76</td>\n",
              "      <td>0.04</td>\n",
              "      <td>2.3</td>\n",
              "      <td>0.092</td>\n",
              "      <td>15.0</td>\n",
              "      <td>54.0</td>\n",
              "      <td>0.9970</td>\n",
              "      <td>3.26</td>\n",
              "      <td>0.65</td>\n",
              "      <td>9.8</td>\n",
              "      <td>5</td>\n",
              "      <td>False</td>\n",
              "      <td>2.1190</td>\n",
              "      <td>8.56</td>\n",
              "    </tr>\n",
              "    <tr>\n",
              "      <th>3</th>\n",
              "      <td>11.2</td>\n",
              "      <td>0.28</td>\n",
              "      <td>0.56</td>\n",
              "      <td>1.9</td>\n",
              "      <td>0.075</td>\n",
              "      <td>17.0</td>\n",
              "      <td>60.0</td>\n",
              "      <td>0.9980</td>\n",
              "      <td>3.16</td>\n",
              "      <td>0.58</td>\n",
              "      <td>9.8</td>\n",
              "      <td>6</td>\n",
              "      <td>False</td>\n",
              "      <td>1.8328</td>\n",
              "      <td>11.48</td>\n",
              "    </tr>\n",
              "    <tr>\n",
              "      <th>4</th>\n",
              "      <td>7.4</td>\n",
              "      <td>0.70</td>\n",
              "      <td>0.00</td>\n",
              "      <td>1.9</td>\n",
              "      <td>0.076</td>\n",
              "      <td>11.0</td>\n",
              "      <td>34.0</td>\n",
              "      <td>0.9978</td>\n",
              "      <td>3.51</td>\n",
              "      <td>0.56</td>\n",
              "      <td>9.4</td>\n",
              "      <td>5</td>\n",
              "      <td>False</td>\n",
              "      <td>1.9656</td>\n",
              "      <td>8.10</td>\n",
              "    </tr>\n",
              "  </tbody>\n",
              "</table>\n",
              "</div>"
            ],
            "text/plain": [
              "   fixed acidity  volatile acidity  ...  pH_sulphate  total_acidity\n",
              "0            7.4              0.70  ...       1.9656           8.10\n",
              "1            7.8              0.88  ...       2.1760           8.68\n",
              "2            7.8              0.76  ...       2.1190           8.56\n",
              "3           11.2              0.28  ...       1.8328          11.48\n",
              "4            7.4              0.70  ...       1.9656           8.10\n",
              "\n",
              "[5 rows x 15 columns]"
            ]
          },
          "metadata": {
            "tags": []
          },
          "execution_count": 39
        }
      ]
    },
    {
      "cell_type": "markdown",
      "metadata": {
        "id": "b1nqDzvbIGFv",
        "colab_type": "text"
      },
      "source": [
        "<h2>Train-Test Data</h2>\n",
        "<p> Train: 75% & Test: 25%</p>"
      ]
    },
    {
      "cell_type": "code",
      "metadata": {
        "id": "fsRzjuvYMQBZ",
        "colab_type": "code",
        "colab": {}
      },
      "source": [
        "X_train, X_test, y_train, y_test = train_test_split(wine_df.drop(columns=['quality', 'good_quality']), target, test_size=0.25,random_state=0)"
      ],
      "execution_count": 0,
      "outputs": []
    },
    {
      "cell_type": "markdown",
      "metadata": {
        "id": "Of3H28aqgAU1",
        "colab_type": "text"
      },
      "source": [
        "<h2>Feature Scaling & Normalisation</h2>"
      ]
    },
    {
      "cell_type": "code",
      "metadata": {
        "id": "mucVEf4rgDr7",
        "colab_type": "code",
        "colab": {
          "base_uri": "https://localhost:8080/",
          "height": 204
        },
        "outputId": "edb1713d-08e0-407a-81fa-77c891735509"
      },
      "source": [
        "# Feature Scaling (For Gradient Descent Efficiency) \n",
        "robust = RobustScaler(quantile_range=(0.25, 0.75))  \n",
        "X_train_sc = pd.DataFrame(robust.fit_transform(X_train), columns=X_train.columns)\n",
        "\n",
        "X_test_sc = pd.DataFrame(robust.fit_transform(X_test), columns=X_test.columns)\n",
        "\n",
        "# Standardisation\n",
        "col_names = X_train.columns\n",
        "scaler = StandardScaler()\n",
        "X_train_sc = scaler.fit_transform(X_train_sc)\n",
        "X_train_sc = pd.DataFrame(X_train_sc, columns=col_names)\n",
        "\n",
        "X_test_sc = scaler.fit_transform(X_test)\n",
        "X_test_sc = pd.DataFrame(X_test_sc, columns=col_names)\n",
        "\n",
        "X_train_sc.head(5)\n",
        "X_test_sc.head(5)"
      ],
      "execution_count": 41,
      "outputs": [
        {
          "output_type": "execute_result",
          "data": {
            "text/html": [
              "<div>\n",
              "<style scoped>\n",
              "    .dataframe tbody tr th:only-of-type {\n",
              "        vertical-align: middle;\n",
              "    }\n",
              "\n",
              "    .dataframe tbody tr th {\n",
              "        vertical-align: top;\n",
              "    }\n",
              "\n",
              "    .dataframe thead th {\n",
              "        text-align: right;\n",
              "    }\n",
              "</style>\n",
              "<table border=\"1\" class=\"dataframe\">\n",
              "  <thead>\n",
              "    <tr style=\"text-align: right;\">\n",
              "      <th></th>\n",
              "      <th>fixed acidity</th>\n",
              "      <th>volatile acidity</th>\n",
              "      <th>citric acid</th>\n",
              "      <th>residual sugar</th>\n",
              "      <th>chlorides</th>\n",
              "      <th>free sulfur dioxide</th>\n",
              "      <th>total sulfur dioxide</th>\n",
              "      <th>density</th>\n",
              "      <th>pH</th>\n",
              "      <th>sulphates</th>\n",
              "      <th>alcohol</th>\n",
              "      <th>pH_sulphate</th>\n",
              "      <th>total_acidity</th>\n",
              "    </tr>\n",
              "  </thead>\n",
              "  <tbody>\n",
              "    <tr>\n",
              "      <th>0</th>\n",
              "      <td>1.445794</td>\n",
              "      <td>-0.304042</td>\n",
              "      <td>0.814401</td>\n",
              "      <td>-0.322967</td>\n",
              "      <td>1.895162</td>\n",
              "      <td>1.197176</td>\n",
              "      <td>0.762305</td>\n",
              "      <td>0.779197</td>\n",
              "      <td>-0.957272</td>\n",
              "      <td>0.714156</td>\n",
              "      <td>0.306234</td>\n",
              "      <td>0.502211</td>\n",
              "      <td>1.438163</td>\n",
              "    </tr>\n",
              "    <tr>\n",
              "      <th>1</th>\n",
              "      <td>-0.093801</td>\n",
              "      <td>1.818945</td>\n",
              "      <td>-1.385300</td>\n",
              "      <td>1.369621</td>\n",
              "      <td>0.155956</td>\n",
              "      <td>-1.016556</td>\n",
              "      <td>-1.019862</td>\n",
              "      <td>0.957542</td>\n",
              "      <td>0.273113</td>\n",
              "      <td>-0.870178</td>\n",
              "      <td>-0.821441</td>\n",
              "      <td>-0.841156</td>\n",
              "      <td>0.078335</td>\n",
              "    </tr>\n",
              "    <tr>\n",
              "      <th>2</th>\n",
              "      <td>0.476419</td>\n",
              "      <td>-1.395864</td>\n",
              "      <td>0.302843</td>\n",
              "      <td>-0.365282</td>\n",
              "      <td>-0.576341</td>\n",
              "      <td>-0.211562</td>\n",
              "      <td>-0.574320</td>\n",
              "      <td>-0.815417</td>\n",
              "      <td>-0.374458</td>\n",
              "      <td>1.265228</td>\n",
              "      <td>1.151990</td>\n",
              "      <td>1.205961</td>\n",
              "      <td>0.350301</td>\n",
              "    </tr>\n",
              "    <tr>\n",
              "      <th>3</th>\n",
              "      <td>1.103662</td>\n",
              "      <td>0.757452</td>\n",
              "      <td>0.456310</td>\n",
              "      <td>-0.576855</td>\n",
              "      <td>-0.805183</td>\n",
              "      <td>-1.016556</td>\n",
              "      <td>-1.019862</td>\n",
              "      <td>0.779197</td>\n",
              "      <td>-0.957272</td>\n",
              "      <td>-1.627903</td>\n",
              "      <td>-0.445549</td>\n",
              "      <td>-1.801864</td>\n",
              "      <td>1.192237</td>\n",
              "    </tr>\n",
              "    <tr>\n",
              "      <th>4</th>\n",
              "      <td>2.244103</td>\n",
              "      <td>-0.425356</td>\n",
              "      <td>1.121336</td>\n",
              "      <td>-0.915373</td>\n",
              "      <td>-0.301729</td>\n",
              "      <td>-1.217804</td>\n",
              "      <td>-1.294042</td>\n",
              "      <td>0.097290</td>\n",
              "      <td>-1.216301</td>\n",
              "      <td>-0.181337</td>\n",
              "      <td>-0.069657</td>\n",
              "      <td>-0.432630</td>\n",
              "      <td>2.236701</td>\n",
              "    </tr>\n",
              "  </tbody>\n",
              "</table>\n",
              "</div>"
            ],
            "text/plain": [
              "   fixed acidity  volatile acidity  ...  pH_sulphate  total_acidity\n",
              "0       1.445794         -0.304042  ...     0.502211       1.438163\n",
              "1      -0.093801          1.818945  ...    -0.841156       0.078335\n",
              "2       0.476419         -1.395864  ...     1.205961       0.350301\n",
              "3       1.103662          0.757452  ...    -1.801864       1.192237\n",
              "4       2.244103         -0.425356  ...    -0.432630       2.236701\n",
              "\n",
              "[5 rows x 13 columns]"
            ]
          },
          "metadata": {
            "tags": []
          },
          "execution_count": 41
        }
      ]
    },
    {
      "cell_type": "markdown",
      "metadata": {
        "id": "B91wnq69JIHu",
        "colab_type": "text"
      },
      "source": [
        "<h2>Hyperparameter Tuning with RandomisedSearchCV</h2>"
      ]
    },
    {
      "cell_type": "code",
      "metadata": {
        "id": "7ETJt6vLhUqn",
        "colab_type": "code",
        "colab": {
          "base_uri": "https://localhost:8080/",
          "height": 476
        },
        "outputId": "d5cf6ad5-7907-4295-d4c3-c77e82e4b446"
      },
      "source": [
        "# Random Forest Classifier\n",
        "GB_classifier = GradientBoostingClassifier()\n",
        "\n",
        "# Hyperparameter Tuning with RandomSearchCV only since GridSearchCV on an iterative algo would be too time expensive\n",
        "rnd_param = {\n",
        "    'n_estimators': [100, 300, 500, 800, 1000, 1200, 1400],\n",
        "    'learning_rate': [0.01, 0.05, 0.1, 0.5],\n",
        "    'max_leaf_nodes': [8,16,24,32],\n",
        "    'max_depth': [10, 15, 20, 30, 40, 50, 60, 70, 80, 90, 100],\n",
        "}\n",
        "\n",
        "rnd_sr = RandomizedSearchCV(estimator=GB_classifier,\n",
        "                            param_distributions=rnd_param,\n",
        "                            scoring=\"f1_macro\",\n",
        "                            n_iter=100,\n",
        "                            cv=5,\n",
        "                            n_jobs=-1)\n",
        "\n",
        "rnd_sr.fit(X_train_sc, y_train)"
      ],
      "execution_count": 42,
      "outputs": [
        {
          "output_type": "execute_result",
          "data": {
            "text/plain": [
              "RandomizedSearchCV(cv=5, error_score=nan,\n",
              "                   estimator=GradientBoostingClassifier(ccp_alpha=0.0,\n",
              "                                                        criterion='friedman_mse',\n",
              "                                                        init=None,\n",
              "                                                        learning_rate=0.1,\n",
              "                                                        loss='deviance',\n",
              "                                                        max_depth=3,\n",
              "                                                        max_features=None,\n",
              "                                                        max_leaf_nodes=None,\n",
              "                                                        min_impurity_decrease=0.0,\n",
              "                                                        min_impurity_split=None,\n",
              "                                                        min_samples_leaf=1,\n",
              "                                                        min_samples_split=2,\n",
              "                                                        min_weight_fraction_leaf=0.0,\n",
              "                                                        n_estimators=100,\n",
              "                                                        n_ite...\n",
              "                                                        verbose=0,\n",
              "                                                        warm_start=False),\n",
              "                   iid='deprecated', n_iter=100, n_jobs=-1,\n",
              "                   param_distributions={'learning_rate': [0.01, 0.05, 0.1, 0.5],\n",
              "                                        'max_depth': [10, 15, 20, 30, 40, 50,\n",
              "                                                      60, 70, 80, 90, 100],\n",
              "                                        'max_leaf_nodes': [8, 16, 24, 32],\n",
              "                                        'n_estimators': [100, 300, 500, 800,\n",
              "                                                         1000, 1200, 1400]},\n",
              "                   pre_dispatch='2*n_jobs', random_state=None, refit=True,\n",
              "                   return_train_score=False, scoring='f1_macro', verbose=0)"
            ]
          },
          "metadata": {
            "tags": []
          },
          "execution_count": 42
        }
      ]
    },
    {
      "cell_type": "code",
      "metadata": {
        "id": "hzxB8Ps-mGO0",
        "colab_type": "code",
        "colab": {
          "base_uri": "https://localhost:8080/",
          "height": 51
        },
        "outputId": "2bf27695-61d7-4bef-817a-7a25dbbcfa5f"
      },
      "source": [
        "print(\"Best Parameters: \", rnd_sr.best_params_)\n",
        "print(\"Best Score: {:,.3f}\".format(rnd_sr.best_score_)) # GB Trees are skewing towards overfitting already"
      ],
      "execution_count": 43,
      "outputs": [
        {
          "output_type": "stream",
          "text": [
            "Best Parameters:  {'n_estimators': 1000, 'max_leaf_nodes': 32, 'max_depth': 50, 'learning_rate': 0.5}\n",
            "Best Score: 0.770\n"
          ],
          "name": "stdout"
        }
      ]
    },
    {
      "cell_type": "markdown",
      "metadata": {
        "id": "JhJHLQCoIUaI",
        "colab_type": "text"
      },
      "source": [
        "<h2>Training the Gradient Boosted Classifier</h2>\n",
        "<p>Max. leaf nodes set to 32 (given by GridSearchCV), to ensure 'shallowness' of trees and hence lower variance</p>"
      ]
    },
    {
      "cell_type": "code",
      "metadata": {
        "id": "3CvL8klQMX0g",
        "colab_type": "code",
        "colab": {}
      },
      "source": [
        "GB_classifier = GradientBoostingClassifier(random_state=0, learning_rate=0.5, max_depth=50, max_leaf_nodes=32, n_estimators=1000) # Based on GridSearchCV hyperparameter tuning\n",
        "GB_classifier.fit(X_train_sc, y_train)\n",
        "\n",
        "#Predicting the Test results\n",
        "y_pred = GB_classifier.predict(X_test_sc)"
      ],
      "execution_count": 0,
      "outputs": []
    },
    {
      "cell_type": "markdown",
      "metadata": {
        "id": "y53YYeeqIbY9",
        "colab_type": "text"
      },
      "source": [
        "<h2>Evaluating the Gradient Boosted Trees</h2>"
      ]
    },
    {
      "cell_type": "markdown",
      "metadata": {
        "id": "poIRD_HxImhd",
        "colab_type": "text"
      },
      "source": [
        "<h3>Classification Report</h3>"
      ]
    },
    {
      "cell_type": "code",
      "metadata": {
        "id": "EoGTMkcdYQzD",
        "colab_type": "code",
        "outputId": "fad9f1e5-06db-468b-ebf4-589fd63124d1",
        "colab": {
          "base_uri": "https://localhost:8080/",
          "height": 204
        }
      },
      "source": [
        "report = classification_report(y_test, y_pred, output_dict = True)\n",
        "report_df = pd.DataFrame(report).transpose()\n",
        "report_df"
      ],
      "execution_count": 46,
      "outputs": [
        {
          "output_type": "execute_result",
          "data": {
            "text/html": [
              "<div>\n",
              "<style scoped>\n",
              "    .dataframe tbody tr th:only-of-type {\n",
              "        vertical-align: middle;\n",
              "    }\n",
              "\n",
              "    .dataframe tbody tr th {\n",
              "        vertical-align: top;\n",
              "    }\n",
              "\n",
              "    .dataframe thead th {\n",
              "        text-align: right;\n",
              "    }\n",
              "</style>\n",
              "<table border=\"1\" class=\"dataframe\">\n",
              "  <thead>\n",
              "    <tr style=\"text-align: right;\">\n",
              "      <th></th>\n",
              "      <th>precision</th>\n",
              "      <th>recall</th>\n",
              "      <th>f1-score</th>\n",
              "      <th>support</th>\n",
              "    </tr>\n",
              "  </thead>\n",
              "  <tbody>\n",
              "    <tr>\n",
              "      <th>0</th>\n",
              "      <td>0.953890</td>\n",
              "      <td>0.932394</td>\n",
              "      <td>0.943020</td>\n",
              "      <td>355.0</td>\n",
              "    </tr>\n",
              "    <tr>\n",
              "      <th>1</th>\n",
              "      <td>0.547170</td>\n",
              "      <td>0.644444</td>\n",
              "      <td>0.591837</td>\n",
              "      <td>45.0</td>\n",
              "    </tr>\n",
              "    <tr>\n",
              "      <th>accuracy</th>\n",
              "      <td>0.900000</td>\n",
              "      <td>0.900000</td>\n",
              "      <td>0.900000</td>\n",
              "      <td>0.9</td>\n",
              "    </tr>\n",
              "    <tr>\n",
              "      <th>macro avg</th>\n",
              "      <td>0.750530</td>\n",
              "      <td>0.788419</td>\n",
              "      <td>0.767428</td>\n",
              "      <td>400.0</td>\n",
              "    </tr>\n",
              "    <tr>\n",
              "      <th>weighted avg</th>\n",
              "      <td>0.908134</td>\n",
              "      <td>0.900000</td>\n",
              "      <td>0.903512</td>\n",
              "      <td>400.0</td>\n",
              "    </tr>\n",
              "  </tbody>\n",
              "</table>\n",
              "</div>"
            ],
            "text/plain": [
              "              precision    recall  f1-score  support\n",
              "0              0.953890  0.932394  0.943020    355.0\n",
              "1              0.547170  0.644444  0.591837     45.0\n",
              "accuracy       0.900000  0.900000  0.900000      0.9\n",
              "macro avg      0.750530  0.788419  0.767428    400.0\n",
              "weighted avg   0.908134  0.900000  0.903512    400.0"
            ]
          },
          "metadata": {
            "tags": []
          },
          "execution_count": 46
        }
      ]
    },
    {
      "cell_type": "markdown",
      "metadata": {
        "id": "VVPExg1IJAHy",
        "colab_type": "text"
      },
      "source": [
        "<h3>ROC & AUC</h3>"
      ]
    },
    {
      "cell_type": "code",
      "metadata": {
        "id": "yVx_KOGTODhd",
        "colab_type": "code",
        "outputId": "c7becc28-0c50-4029-d67f-4443098aec70",
        "colab": {
          "base_uri": "https://localhost:8080/",
          "height": 316
        }
      },
      "source": [
        "# prediction probabilities\n",
        "gb_probs = GB_classifier.predict_proba(X_test_sc)\n",
        "# generate a no skill prediction (majority class)\n",
        "ns_probs = [0 for _ in range(len(y_test))]\n",
        "# keep probabilities for the positive outcome only\n",
        "gb_probs = gb_probs[:, 1]\n",
        "# calculate scores\n",
        "gb_auc = roc_auc_score(y_test, gb_probs)\n",
        "ns_auc = roc_auc_score(y_test, ns_probs)\n",
        "# summarize scores\n",
        "print('Gradient Boosted Trees: ROC AUC=%.3f' % (gb_auc))\n",
        "print('No Model: ROC AUC=%.3f' % (ns_auc))\n",
        "# calculate ROC curves\n",
        "gb_fpr, gb_tpr, _ = roc_curve(y_test, gb_probs)\n",
        "ns_fpr, ns_tpr, _ = roc_curve(y_test, ns_probs)\n",
        "# plot the ROC curve for the Gradient Boosted Classifier\n",
        "plt.plot(gb_fpr, gb_tpr, marker='.', label='Gradient Boosted Trees')\n",
        "plt.plot(ns_fpr, ns_tpr, linestyle='--', label='No Model')\n",
        "# axis labels\n",
        "plt.xlabel('False Positive Rate')\n",
        "plt.ylabel('True Positive Rate')\n",
        "# show the legend\n",
        "plt.legend()\n",
        "# show the plot\n",
        "plt.show()"
      ],
      "execution_count": 47,
      "outputs": [
        {
          "output_type": "stream",
          "text": [
            "Gradient Boosted Trees: ROC AUC=0.917\n",
            "No Model: ROC AUC=0.500\n"
          ],
          "name": "stdout"
        },
        {
          "output_type": "display_data",
          "data": {
            "image/png": "[encoded data removed]",
            "text/plain": [
              "<Figure size 432x288 with 1 Axes>"
            ]
          },
          "metadata": {
            "tags": []
          }
        }
      ]
    },
    {
      "cell_type": "markdown",
      "metadata": {
        "id": "YPIH-Vv4fEZO",
        "colab_type": "text"
      },
      "source": [
        "<h3>Precision Recall Curve</h3>"
      ]
    },
    {
      "cell_type": "code",
      "metadata": {
        "id": "xz9CYcGgfHM_",
        "colab_type": "code",
        "colab": {
          "base_uri": "https://localhost:8080/",
          "height": 299
        },
        "outputId": "14d752da-8a89-44e5-f541-bcdf0b631998"
      },
      "source": [
        "gb_probs = GB_classifier.predict_proba(X_test_sc)\n",
        "gb_probs = gb_probs[:, 1] # Keep probability predictions for good quality (=1) class only\n",
        "precisions, recalls, _ = precision_recall_curve(y_test, gb_probs)\n",
        "\n",
        "# Plot PR-Curve\n",
        "no_skill = len(y_test[y_test==1]) / len(y_test)\n",
        "plt.plot([0, 1], [no_skill, no_skill], linestyle='--', label='No Skill')\n",
        "plt.plot(recalls, precisions, marker='.', label='Gradient Boosted Trees')\n",
        "# axis labels\n",
        "plt.xlabel('Recall')\n",
        "plt.ylabel('Precision')\n",
        "# show the legend\n",
        "plt.legend()\n",
        "# annotate optimised model's recall and precision\n",
        "# Title\n",
        "plt.title(\"Precision Recall Curve of Gradient Boosted Trees\")\n",
        "# show the plot\n",
        "plt.show()"
      ],
      "execution_count": 48,
      "outputs": [
        {
          "output_type": "display_data",
          "data": {
            "image/png": "[encoded data removed]",
            "text/plain": [
              "<Figure size 432x288 with 1 Axes>"
            ]
          },
          "metadata": {
            "tags": []
          }
        }
      ]
    },
    {
      "cell_type": "markdown",
      "metadata": {
        "id": "byg7uxsqJ_K-",
        "colab_type": "text"
      },
      "source": [
        "<h2>Feature Importance (Testing our Hypotheses)</h2>\n",
        "<p> https://stackoverflow.com/questions/49170296/scikit-learn-feature-importance-calculation-in-decision-trees </p>\n",
        "<p> https://medium.com/the-artificial-impostor/feature-importance-measures-for-tree-models-part-i-47f187c1a2c3</p>\n",
        "<p>Feature Importance is measured by GINI importance which is in turn calculated by the Mean Decrease in Impurity = the sum over the number of splits (across all tress) that include the feature, proportionally to the number of samples it splits.</p>"
      ]
    },
    {
      "cell_type": "code",
      "metadata": {
        "id": "92w6ir6GHvDO",
        "colab_type": "code",
        "outputId": "82dfc238-538d-4cc1-ab3a-a5d97ca0398b",
        "colab": {
          "base_uri": "https://localhost:8080/",
          "height": 238
        }
      },
      "source": [
        "for name, importance in zip(X_test_sc.columns, GB_classifier.feature_importances_):\n",
        "...     print(name, \"=\", importance)"
      ],
      "execution_count": 49,
      "outputs": [
        {
          "output_type": "stream",
          "text": [
            "fixed acidity = 0.01244158224489539\n",
            "volatile acidity = 0.12339754504461788\n",
            "citric acid = 0.061193080101442074\n",
            "residual sugar = 0.08562858518497529\n",
            "chlorides = 0.05617115618453518\n",
            "free sulfur dioxide = 0.07149574519786421\n",
            "total sulfur dioxide = 0.04151083683852671\n",
            "density = 0.03435460370764705\n",
            "pH = 0.07383648143725491\n",
            "sulphates = 0.10217841163448924\n",
            "alcohol = 0.23090277268260884\n",
            "pH_sulphate = 0.04076285604640819\n",
            "total_acidity = 0.066126343694735\n"
          ],
          "name": "stdout"
        }
      ]
    },
    {
      "cell_type": "code",
      "metadata": {
        "id": "G1BxATl8PLmj",
        "colab_type": "code",
        "outputId": "98ba037e-0500-4db9-dc3f-fd8b7c59a43c",
        "colab": {
          "base_uri": "https://localhost:8080/",
          "height": 299
        }
      },
      "source": [
        "features = X_test_sc.columns\n",
        "importances = GB_classifier.feature_importances_\n",
        "indices = np.argsort(importances)\n",
        "\n",
        "#Graphing it\n",
        "plt.title('Feature Importances')\n",
        "plt.barh(range(len(indices)), importances[indices], color='b', align='center')\n",
        "plt.yticks(range(len(indices)), [features[i] for i in indices])\n",
        "plt.xlabel('Relative Importance')\n",
        "plt.show()"
      ],
      "execution_count": 50,
      "outputs": [
        {
          "output_type": "display_data",
          "data": {
            "image/png": "[encoded data removed]",
            "text/plain": [
              "<Figure size 432x288 with 1 Axes>"
            ]
          },
          "metadata": {
            "tags": []
          }
        }
      ]
    },
    {
      "cell_type": "markdown",
      "metadata": {
        "id": "2rFQaK4ce-On",
        "colab_type": "text"
      },
      "source": [
        "<h2>Permutation Importance</h2>"
      ]
    },
    {
      "cell_type": "code",
      "metadata": {
        "id": "WCQX0WFde9XV",
        "colab_type": "code",
        "colab": {
          "base_uri": "https://localhost:8080/",
          "height": 255
        },
        "outputId": "e626407c-63c3-4e37-8f62-efc840b29f15"
      },
      "source": [
        "# Permutation Importance (eli5)\n",
        "import eli5\n",
        "from eli5.sklearn import PermutationImportance\n",
        "GB_classifier = GradientBoostingClassifier(random_state=0, learning_rate=0.1, max_depth=90, max_leaf_nodes=32, n_estimators=1400)\n",
        "GB_classifier.fit(X_train_sc, y_train)\n",
        "perm = PermutationImportance(GB_classifier, random_state=1, scoring=\"f1_macro\", n_iter=10).fit(X_test_sc, y_test)\n",
        "eli5.show_weights(perm, feature_names = X_test_sc.columns.tolist()) # See on Jupyter Notebook\n"
      ],
      "execution_count": 51,
      "outputs": [
        {
          "output_type": "execute_result",
          "data": {
            "text/html": [
              "\n",
              "    <style>\n",
              "    table.eli5-weights tr:hover {\n",
              "        filter: brightness(85%);\n",
              "    }\n",
              "</style>\n",
              "\n",
              "\n",
              "\n",
              "    \n",
              "\n",
              "    \n",
              "\n",
              "    \n",
              "\n",
              "    \n",
              "\n",
              "    \n",
              "\n",
              "    \n",
              "\n",
              "\n",
              "    \n",
              "\n",
              "    \n",
              "\n",
              "    \n",
              "\n",
              "    \n",
              "\n",
              "    \n",
              "\n",
              "    \n",
              "\n",
              "\n",
              "    \n",
              "\n",
              "    \n",
              "\n",
              "    \n",
              "\n",
              "    \n",
              "\n",
              "    \n",
              "        <table class=\"eli5-weights eli5-feature-importances\" style=\"border-collapse: collapse; border: none; margin-top: 0em; table-layout: auto;\">\n",
              "    <thead>\n",
              "    <tr style=\"border: none;\">\n",
              "        <th style=\"padding: 0 1em 0 0.5em; text-align: right; border: none;\">Weight</th>\n",
              "        <th style=\"padding: 0 0.5em 0 0.5em; text-align: left; border: none;\">Feature</th>\n",
              "    </tr>\n",
              "    </thead>\n",
              "    <tbody>\n",
              "    \n",
              "        <tr style=\"background-color: hsl(120, 100.00%, 80.00%); border: none;\">\n",
              "            <td style=\"padding: 0 1em 0 0.5em; text-align: right; border: none;\">\n",
              "                0.1397\n",
              "                \n",
              "                    &plusmn; 0.0611\n",
              "                \n",
              "            </td>\n",
              "            <td style=\"padding: 0 0.5em 0 0.5em; text-align: left; border: none;\">\n",
              "                alcohol\n",
              "            </td>\n",
              "        </tr>\n",
              "    \n",
              "        <tr style=\"background-color: hsl(120, 100.00%, 87.59%); border: none;\">\n",
              "            <td style=\"padding: 0 1em 0 0.5em; text-align: right; border: none;\">\n",
              "                0.0707\n",
              "                \n",
              "                    &plusmn; 0.0553\n",
              "                \n",
              "            </td>\n",
              "            <td style=\"padding: 0 0.5em 0 0.5em; text-align: left; border: none;\">\n",
              "                volatile acidity\n",
              "            </td>\n",
              "        </tr>\n",
              "    \n",
              "        <tr style=\"background-color: hsl(120, 100.00%, 89.96%); border: none;\">\n",
              "            <td style=\"padding: 0 1em 0 0.5em; text-align: right; border: none;\">\n",
              "                0.0522\n",
              "                \n",
              "                    &plusmn; 0.0359\n",
              "                \n",
              "            </td>\n",
              "            <td style=\"padding: 0 0.5em 0 0.5em; text-align: left; border: none;\">\n",
              "                total sulfur dioxide\n",
              "            </td>\n",
              "        </tr>\n",
              "    \n",
              "        <tr style=\"background-color: hsl(120, 100.00%, 90.29%); border: none;\">\n",
              "            <td style=\"padding: 0 1em 0 0.5em; text-align: right; border: none;\">\n",
              "                0.0497\n",
              "                \n",
              "                    &plusmn; 0.0350\n",
              "                \n",
              "            </td>\n",
              "            <td style=\"padding: 0 0.5em 0 0.5em; text-align: left; border: none;\">\n",
              "                sulphates\n",
              "            </td>\n",
              "        </tr>\n",
              "    \n",
              "        <tr style=\"background-color: hsl(120, 100.00%, 93.39%); border: none;\">\n",
              "            <td style=\"padding: 0 1em 0 0.5em; text-align: right; border: none;\">\n",
              "                0.0287\n",
              "                \n",
              "                    &plusmn; 0.0240\n",
              "                \n",
              "            </td>\n",
              "            <td style=\"padding: 0 0.5em 0 0.5em; text-align: left; border: none;\">\n",
              "                chlorides\n",
              "            </td>\n",
              "        </tr>\n",
              "    \n",
              "        <tr style=\"background-color: hsl(120, 100.00%, 96.02%); border: none;\">\n",
              "            <td style=\"padding: 0 1em 0 0.5em; text-align: right; border: none;\">\n",
              "                0.0139\n",
              "                \n",
              "                    &plusmn; 0.0263\n",
              "                \n",
              "            </td>\n",
              "            <td style=\"padding: 0 0.5em 0 0.5em; text-align: left; border: none;\">\n",
              "                density\n",
              "            </td>\n",
              "        </tr>\n",
              "    \n",
              "        <tr style=\"background-color: hsl(120, 100.00%, 96.62%); border: none;\">\n",
              "            <td style=\"padding: 0 1em 0 0.5em; text-align: right; border: none;\">\n",
              "                0.0110\n",
              "                \n",
              "                    &plusmn; 0.0338\n",
              "                \n",
              "            </td>\n",
              "            <td style=\"padding: 0 0.5em 0 0.5em; text-align: left; border: none;\">\n",
              "                citric acid\n",
              "            </td>\n",
              "        </tr>\n",
              "    \n",
              "        <tr style=\"background-color: hsl(120, 100.00%, 97.29%); border: none;\">\n",
              "            <td style=\"padding: 0 1em 0 0.5em; text-align: right; border: none;\">\n",
              "                0.0080\n",
              "                \n",
              "                    &plusmn; 0.0287\n",
              "                \n",
              "            </td>\n",
              "            <td style=\"padding: 0 0.5em 0 0.5em; text-align: left; border: none;\">\n",
              "                residual sugar\n",
              "            </td>\n",
              "        </tr>\n",
              "    \n",
              "        <tr style=\"background-color: hsl(120, 100.00%, 97.58%); border: none;\">\n",
              "            <td style=\"padding: 0 1em 0 0.5em; text-align: right; border: none;\">\n",
              "                0.0068\n",
              "                \n",
              "                    &plusmn; 0.0258\n",
              "                \n",
              "            </td>\n",
              "            <td style=\"padding: 0 0.5em 0 0.5em; text-align: left; border: none;\">\n",
              "                pH_sulphate\n",
              "            </td>\n",
              "        </tr>\n",
              "    \n",
              "        <tr style=\"background-color: hsl(120, 100.00%, 97.70%); border: none;\">\n",
              "            <td style=\"padding: 0 1em 0 0.5em; text-align: right; border: none;\">\n",
              "                0.0064\n",
              "                \n",
              "                    &plusmn; 0.0206\n",
              "                \n",
              "            </td>\n",
              "            <td style=\"padding: 0 0.5em 0 0.5em; text-align: left; border: none;\">\n",
              "                pH\n",
              "            </td>\n",
              "        </tr>\n",
              "    \n",
              "        <tr style=\"background-color: hsl(120, 100.00%, 97.72%); border: none;\">\n",
              "            <td style=\"padding: 0 1em 0 0.5em; text-align: right; border: none;\">\n",
              "                0.0063\n",
              "                \n",
              "                    &plusmn; 0.0134\n",
              "                \n",
              "            </td>\n",
              "            <td style=\"padding: 0 0.5em 0 0.5em; text-align: left; border: none;\">\n",
              "                free sulfur dioxide\n",
              "            </td>\n",
              "        </tr>\n",
              "    \n",
              "        <tr style=\"background-color: hsl(120, 100.00%, 98.93%); border: none;\">\n",
              "            <td style=\"padding: 0 1em 0 0.5em; text-align: right; border: none;\">\n",
              "                0.0021\n",
              "                \n",
              "                    &plusmn; 0.0221\n",
              "                \n",
              "            </td>\n",
              "            <td style=\"padding: 0 0.5em 0 0.5em; text-align: left; border: none;\">\n",
              "                total_acidity\n",
              "            </td>\n",
              "        </tr>\n",
              "    \n",
              "        <tr style=\"background-color: hsl(0, 100.00%, 96.66%); border: none;\">\n",
              "            <td style=\"padding: 0 1em 0 0.5em; text-align: right; border: none;\">\n",
              "                -0.0108\n",
              "                \n",
              "                    &plusmn; 0.0130\n",
              "                \n",
              "            </td>\n",
              "            <td style=\"padding: 0 0.5em 0 0.5em; text-align: left; border: none;\">\n",
              "                fixed acidity\n",
              "            </td>\n",
              "        </tr>\n",
              "    \n",
              "    \n",
              "    </tbody>\n",
              "</table>\n",
              "    \n",
              "\n",
              "    \n",
              "\n",
              "\n",
              "    \n",
              "\n",
              "    \n",
              "\n",
              "    \n",
              "\n",
              "    \n",
              "\n",
              "    \n",
              "\n",
              "    \n",
              "\n",
              "\n",
              "\n"
            ],
            "text/plain": [
              "<IPython.core.display.HTML object>"
            ]
          },
          "metadata": {
            "tags": []
          },
          "execution_count": 51
        }
      ]
    },
    {
      "cell_type": "code",
      "metadata": {
        "id": "RKSgaSDHm9_h",
        "colab_type": "code",
        "colab": {
          "base_uri": "https://localhost:8080/",
          "height": 204
        },
        "outputId": "98d9ebf6-ad9b-4068-8751-e0eacb1faf35"
      },
      "source": [
        "# Results from Perm Importance ELI5 Feature Selection\n",
        "X_train_eli5 = X_train_sc.copy()\n",
        "X_train_eli5 = X_train_eli5.drop(columns = ['fixed acidity'])\n",
        "GB_classifier_eli5 = GradientBoostingClassifier(random_state=0, learning_rate=0.5, max_depth=50, max_leaf_nodes=32, n_estimators=1000) \n",
        "GB_classifier_eli5.fit(X_train_eli5, y_train)\n",
        "y_pred = GB_classifier_eli5.predict(X_test_sc.drop(columns = ['fixed acidity']))\n",
        "pd.DataFrame(classification_report(y_test, y_pred, output_dict=True)).transpose()"
      ],
      "execution_count": 53,
      "outputs": [
        {
          "output_type": "execute_result",
          "data": {
            "text/html": [
              "<div>\n",
              "<style scoped>\n",
              "    .dataframe tbody tr th:only-of-type {\n",
              "        vertical-align: middle;\n",
              "    }\n",
              "\n",
              "    .dataframe tbody tr th {\n",
              "        vertical-align: top;\n",
              "    }\n",
              "\n",
              "    .dataframe thead th {\n",
              "        text-align: right;\n",
              "    }\n",
              "</style>\n",
              "<table border=\"1\" class=\"dataframe\">\n",
              "  <thead>\n",
              "    <tr style=\"text-align: right;\">\n",
              "      <th></th>\n",
              "      <th>precision</th>\n",
              "      <th>recall</th>\n",
              "      <th>f1-score</th>\n",
              "      <th>support</th>\n",
              "    </tr>\n",
              "  </thead>\n",
              "  <tbody>\n",
              "    <tr>\n",
              "      <th>0</th>\n",
              "      <td>0.946023</td>\n",
              "      <td>0.938028</td>\n",
              "      <td>0.942008</td>\n",
              "      <td>355.0000</td>\n",
              "    </tr>\n",
              "    <tr>\n",
              "      <th>1</th>\n",
              "      <td>0.541667</td>\n",
              "      <td>0.577778</td>\n",
              "      <td>0.559140</td>\n",
              "      <td>45.0000</td>\n",
              "    </tr>\n",
              "    <tr>\n",
              "      <th>accuracy</th>\n",
              "      <td>0.897500</td>\n",
              "      <td>0.897500</td>\n",
              "      <td>0.897500</td>\n",
              "      <td>0.8975</td>\n",
              "    </tr>\n",
              "    <tr>\n",
              "      <th>macro avg</th>\n",
              "      <td>0.743845</td>\n",
              "      <td>0.757903</td>\n",
              "      <td>0.750574</td>\n",
              "      <td>400.0000</td>\n",
              "    </tr>\n",
              "    <tr>\n",
              "      <th>weighted avg</th>\n",
              "      <td>0.900533</td>\n",
              "      <td>0.897500</td>\n",
              "      <td>0.898936</td>\n",
              "      <td>400.0000</td>\n",
              "    </tr>\n",
              "  </tbody>\n",
              "</table>\n",
              "</div>"
            ],
            "text/plain": [
              "              precision    recall  f1-score   support\n",
              "0              0.946023  0.938028  0.942008  355.0000\n",
              "1              0.541667  0.577778  0.559140   45.0000\n",
              "accuracy       0.897500  0.897500  0.897500    0.8975\n",
              "macro avg      0.743845  0.757903  0.750574  400.0000\n",
              "weighted avg   0.900533  0.897500  0.898936  400.0000"
            ]
          },
          "metadata": {
            "tags": []
          },
          "execution_count": 53
        }
      ]
    },
    {
      "cell_type": "markdown",
      "metadata": {
        "id": "b9k1tD46qt1J",
        "colab_type": "text"
      },
      "source": [
        "<p>No improvement in key evaluation metrics: Good Quality f1-score and Macro Averaged f1-score</p>"
      ]
    },
    {
      "cell_type": "code",
      "metadata": {
        "id": "l2jSx1B9qiZw",
        "colab_type": "code",
        "colab": {}
      },
      "source": [
        ""
      ],
      "execution_count": 0,
      "outputs": []
    }
  ]
}
