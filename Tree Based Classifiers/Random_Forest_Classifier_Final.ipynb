{
  "nbformat": 4,
  "nbformat_minor": 0,
  "metadata": {
    "colab": {
      "name": "Random_Forest_Classifier_Final.ipynb",
      "provenance": [],
      "collapsed_sections": [],
      "include_colab_link": true
    },
    "kernelspec": {
      "name": "python3",
      "display_name": "Python 3"
    }
  },
  "cells": [
    {
      "cell_type": "markdown",
      "metadata": {
        "id": "view-in-github",
        "colab_type": "text"
      },
      "source": [
        "<a href=\"https://colab.research.google.com/github/ChristopherLiew/Classifying-Red-Wine-Quality/blob/master/Random_Forest_Classifier_Final.ipynb\" target=\"_parent\"><img src=\"https://colab.research.google.com/assets/colab-badge.svg\" alt=\"Open In Colab\"/></a>"
      ]
    },
    {
      "cell_type": "markdown",
      "metadata": {
        "id": "f3muYE82khlD",
        "colab_type": "text"
      },
      "source": [
        "<h1>Random Forest Classifier</h1>\n"
      ]
    },
    {
      "cell_type": "markdown",
      "metadata": {
        "id": "VUwlHCBuknLM",
        "colab_type": "text"
      },
      "source": [
        "<h2>Import Libraries & Load the data</h2>"
      ]
    },
    {
      "cell_type": "code",
      "metadata": {
        "id": "Oba4sOcCkO6r",
        "colab_type": "code",
        "colab": {}
      },
      "source": [
        "import pandas as pd\n",
        "import numpy as np\n",
        "import matplotlib.pyplot as plt\n",
        "from sklearn.model_selection import train_test_split, validation_curve\n",
        "from sklearn.ensemble import RandomForestClassifier\n",
        "from sklearn.model_selection import RandomizedSearchCV\n",
        "from sklearn.model_selection import validation_curve\n",
        "from sklearn.model_selection import GridSearchCV\n",
        "from sklearn.metrics import classification_report, f1_score\n",
        "from sklearn.model_selection import cross_val_score\n",
        "from sklearn.metrics import roc_curve\n",
        "from sklearn.metrics import roc_auc_score\n",
        "from sklearn.feature_selection import SelectFromModel #Further feature selection using feat. importance\n",
        "from sklearn.inspection import permutation_importance"
      ],
      "execution_count": 0,
      "outputs": []
    },
    {
      "cell_type": "code",
      "metadata": {
        "id": "7GML3Q6Gj8kU",
        "colab_type": "code",
        "outputId": "a923c3aa-d8f3-4ed7-87c9-30957eadb19b",
        "colab": {
          "base_uri": "https://localhost:8080/",
          "height": 122
        }
      },
      "source": [
        "from google.colab import drive \n",
        "drive.mount('/content/gdrive')"
      ],
      "execution_count": 0,
      "outputs": [
        {
          "output_type": "stream",
          "text": [
            "Go to this URL in a browser: https://accounts.google.com/o/oauth2/auth?client_id=947318989803-6bn6qk8qdgf4n4g3pfee6491hc0brc4i.apps.googleusercontent.com&redirect_uri=urn%3aietf%3awg%3aoauth%3a2.0%3aoob&response_type=code&scope=email%20https%3a%2f%2fwww.googleapis.com%2fauth%2fdocs.test%20https%3a%2f%2fwww.googleapis.com%2fauth%2fdrive%20https%3a%2f%2fwww.googleapis.com%2fauth%2fdrive.photos.readonly%20https%3a%2f%2fwww.googleapis.com%2fauth%2fpeopleapi.readonly\n",
            "\n",
            "Enter your authorization code:\n",
            "··········\n",
            "Mounted at /content/gdrive\n"
          ],
          "name": "stdout"
        }
      ]
    },
    {
      "cell_type": "code",
      "metadata": {
        "id": "-FG6KIVAkN1-",
        "colab_type": "code",
        "colab": {}
      },
      "source": [
        "wine_df = pd.read_csv(\"/content/gdrive/My Drive/Business Analytics Stuff/BT2101 Group Project/winequality-red.csv\")"
      ],
      "execution_count": 0,
      "outputs": []
    },
    {
      "cell_type": "markdown",
      "metadata": {
        "id": "XZ0PUnVpkeZE",
        "colab_type": "text"
      },
      "source": [
        "<h2>Preprocessing & Splitting the data into Training & Testing sets</h2>"
      ]
    },
    {
      "cell_type": "code",
      "metadata": {
        "id": "M9JHTf1ikUBm",
        "colab_type": "code",
        "colab": {}
      },
      "source": [
        "# Creating the Binary Target Variable\n",
        "wine_df[\"good_quality\"] = wine_df[\"quality\"] >= 7\n",
        "\n",
        "# Target Variable\n",
        "target = wine_df.loc[:, 'good_quality']\n",
        "target = target.astype(int)  # 1 = good quality & 0 = other quality\n",
        "\n",
        "# Interaction Terms\n",
        "final_df = wine_df.drop(columns=['quality', 'good_quality']).copy()\n",
        "final_df['total acidity'] = final_df['fixed acidity'] + final_df['volatile acidity']\n",
        "final_df['pH_sulphate'] = final_df['pH'] * final_df['sulphates']\n",
        "\n",
        "# Train Test Split\n",
        "X_train, X_test, y_train, y_test = train_test_split(final_df, target, test_size=0.25,random_state=0)"
      ],
      "execution_count": 0,
      "outputs": []
    },
    {
      "cell_type": "markdown",
      "metadata": {
        "id": "FbflVLcNka3U",
        "colab_type": "text"
      },
      "source": [
        "<h2> Optimising Random Forest with Hyperparameter Tuning using Random & Grid Search</h2>"
      ]
    },
    {
      "cell_type": "code",
      "metadata": {
        "id": "KuOgrI6UkXCd",
        "colab_type": "code",
        "colab": {}
      },
      "source": [
        "# Random Forest Classifier\n",
        "RF_classifier = RandomForestClassifier()\n",
        "\n",
        "# Hyperparameter Tuning with RandomSearchCV & GridSearchCV\n",
        "# 1. Reduce parameter search soace using RandomSearchCV first\n",
        "rnd_param = {\n",
        "    'n_estimators': [100, 300, 500, 800, 1000, 1200, 1400],\n",
        "    'criterion': ['gini', 'entropy'],\n",
        "    'bootstrap': [True, False],\n",
        "    'max_depth': [10, 15, 20, 30, 40, 50, 60, 70, 80, 90, 100],\n",
        "    'class_weight': ['balanced_subsample', 'balanced', None]\n",
        "}\n",
        "\n",
        "rnd_sr = RandomizedSearchCV(estimator=RF_classifier,\n",
        "                            param_distributions=rnd_param,\n",
        "                            scoring=\"f1_macro\",\n",
        "                            n_iter=100,\n",
        "                            cv=5,\n",
        "                            n_jobs=-1)\n",
        "\n",
        "rnd_sr.fit(X_train, y_train)\n",
        "\n",
        "rnd_sr.best_score_ # 0.78059\n",
        "rnd_sr.best_params_ # Optimal Parameters {'n_estimators': 800, 'max_depth': 10, 'criterion': 'gini', 'class_weight': 'balanced_subsample', 'bootstrap': True}\n",
        "\n",
        "# 2. Search shrunken parameter space with GridSearchCV\n",
        "grid_param = {\n",
        "    'n_estimators': [600, 700, 800, 900, 1000],\n",
        "    'max_depth': [5, 10, 15, 20],\n",
        "    'class_weight': ['balanced_subsample', 'balanced', None]\n",
        "}\n",
        "gd_sr = GridSearchCV(estimator=RF_classifier,\n",
        "                     param_grid=grid_param,\n",
        "                     scoring='f1_macro',\n",
        "                     cv=10,\n",
        "                     n_jobs=-1)\n",
        "\n",
        "gd_sr.fit(X_train, y_train)\n",
        "\n",
        "gd_sr.best_params_ # Final Optimal Parameters: {'class_weight': 'balanced', 'max_depth': 10, 'n_estimators': 800}\n",
        "gd_sr.best_score_ # 0.78731"
      ],
      "execution_count": 0,
      "outputs": []
    },
    {
      "cell_type": "markdown",
      "metadata": {
        "id": "sJ02Rhkvk7bL",
        "colab_type": "text"
      },
      "source": [
        "<h2>Training the Optimised Random Forest Classifier</h2>"
      ]
    },
    {
      "cell_type": "code",
      "metadata": {
        "id": "NHHH1FMZlAP1",
        "colab_type": "code",
        "colab": {}
      },
      "source": [
        "# Train Optimised Random Forest Classifier\n",
        "RF_classifier = RandomForestClassifier(n_estimators=800, criterion=\"gini\", random_state=0, bootstrap=True, max_depth=10, class_weight=\"balanced\", oob_score=True)\n",
        "RF_classifier.fit(X_train, y_train)\n",
        "\n",
        "# Predicting the Test set results\n",
        "y_pred = RF_classifier.predict(X_test)"
      ],
      "execution_count": 0,
      "outputs": []
    },
    {
      "cell_type": "markdown",
      "metadata": {
        "id": "Ln4Bi_jklB6m",
        "colab_type": "text"
      },
      "source": [
        "<h2> Validation Curve with respect to n_estimators</h2>"
      ]
    },
    {
      "cell_type": "code",
      "metadata": {
        "id": "Q46rPqqLlGVG",
        "colab_type": "code",
        "outputId": "9d6761a2-5cd8-41cf-9826-a7f996160721",
        "colab": {
          "base_uri": "https://localhost:8080/",
          "height": 297
        }
      },
      "source": [
        "# Validation Curve wrt n_estimators\n",
        "param_range = np.arange(600, 1000, 10)\n",
        "train_scores, test_scores = validation_curve(RF_classifier,\n",
        "                                             X_train,\n",
        "                                             y_train,\n",
        "                                             param_name=\"n_estimators\",\n",
        "                                             param_range=param_range,\n",
        "                                             cv=5,\n",
        "                                             scoring=\"f1_macro\",\n",
        "                                             n_jobs=-1)\n",
        "train_mean = np.mean(train_scores, axis=1)\n",
        "train_std = np.std(train_scores, axis=1)\n",
        "test_mean = np.mean(test_scores, axis=1)\n",
        "test_std = np.std(test_scores, axis=1)\n",
        "\n",
        "# Plot mean f1_macro scores for training and test sets\n",
        "plt.plot(param_range, train_mean, label=\"Training score\", color=\"red\")\n",
        "plt.plot(param_range, test_mean, label=\"Cross-validation score\", color=\"dimgrey\")\n",
        "\n",
        "# Plot f1_macro bands for training and test sets\n",
        "plt.fill_between(param_range, train_mean - train_std, train_mean + train_std, color=\"gray\")\n",
        "plt.fill_between(param_range, test_mean - test_std, test_mean + test_std, color=\"gainsboro\")\n",
        "\n",
        "# Create plot\n",
        "plt.title(\"Validation Curve With Random Forest\")\n",
        "plt.xlabel(\"Number Of Trees\")\n",
        "plt.ylabel(\"f1 Macro Averaged Score\")\n",
        "plt.tight_layout()\n",
        "plt.legend(loc=\"best\")\n",
        "plt.show()"
      ],
      "execution_count": 0,
      "outputs": [
        {
          "output_type": "display_data",
          "data": {
            "image/png": "[encoded data removed]",
            "text/plain": [
              "<Figure size 432x288 with 1 Axes>"
            ]
          },
          "metadata": {
            "tags": [],
            "needs_background": "light"
          }
        }
      ]
    },
    {
      "cell_type": "markdown",
      "metadata": {
        "id": "tE6LcC5wlJAt",
        "colab_type": "text"
      },
      "source": [
        "<h2> Evaluating Random Forests</h2>"
      ]
    },
    {
      "cell_type": "code",
      "metadata": {
        "id": "wK0Tg4rRlNGt",
        "colab_type": "code",
        "outputId": "8a998943-65c0-4878-988d-9e202e9bf725",
        "colab": {
          "base_uri": "https://localhost:8080/",
          "height": 204
        }
      },
      "source": [
        "# Evaluating the Random Forest Classifier using Classification Report\n",
        "report = classification_report(y_test, y_pred, output_dict = True)\n",
        "report_df = pd.DataFrame(report).transpose()\n",
        "report_df"
      ],
      "execution_count": 0,
      "outputs": [
        {
          "output_type": "execute_result",
          "data": {
            "text/html": [
              "<div>\n",
              "<style scoped>\n",
              "    .dataframe tbody tr th:only-of-type {\n",
              "        vertical-align: middle;\n",
              "    }\n",
              "\n",
              "    .dataframe tbody tr th {\n",
              "        vertical-align: top;\n",
              "    }\n",
              "\n",
              "    .dataframe thead th {\n",
              "        text-align: right;\n",
              "    }\n",
              "</style>\n",
              "<table border=\"1\" class=\"dataframe\">\n",
              "  <thead>\n",
              "    <tr style=\"text-align: right;\">\n",
              "      <th></th>\n",
              "      <th>precision</th>\n",
              "      <th>recall</th>\n",
              "      <th>f1-score</th>\n",
              "      <th>support</th>\n",
              "    </tr>\n",
              "  </thead>\n",
              "  <tbody>\n",
              "    <tr>\n",
              "      <th>0</th>\n",
              "      <td>0.954545</td>\n",
              "      <td>0.946479</td>\n",
              "      <td>0.950495</td>\n",
              "      <td>355.0000</td>\n",
              "    </tr>\n",
              "    <tr>\n",
              "      <th>1</th>\n",
              "      <td>0.604167</td>\n",
              "      <td>0.644444</td>\n",
              "      <td>0.623656</td>\n",
              "      <td>45.0000</td>\n",
              "    </tr>\n",
              "    <tr>\n",
              "      <th>accuracy</th>\n",
              "      <td>0.912500</td>\n",
              "      <td>0.912500</td>\n",
              "      <td>0.912500</td>\n",
              "      <td>0.9125</td>\n",
              "    </tr>\n",
              "    <tr>\n",
              "      <th>macro avg</th>\n",
              "      <td>0.779356</td>\n",
              "      <td>0.795462</td>\n",
              "      <td>0.787075</td>\n",
              "      <td>400.0000</td>\n",
              "    </tr>\n",
              "    <tr>\n",
              "      <th>weighted avg</th>\n",
              "      <td>0.915128</td>\n",
              "      <td>0.912500</td>\n",
              "      <td>0.913726</td>\n",
              "      <td>400.0000</td>\n",
              "    </tr>\n",
              "  </tbody>\n",
              "</table>\n",
              "</div>"
            ],
            "text/plain": [
              "              precision    recall  f1-score   support\n",
              "0              0.954545  0.946479  0.950495  355.0000\n",
              "1              0.604167  0.644444  0.623656   45.0000\n",
              "accuracy       0.912500  0.912500  0.912500    0.9125\n",
              "macro avg      0.779356  0.795462  0.787075  400.0000\n",
              "weighted avg   0.915128  0.912500  0.913726  400.0000"
            ]
          },
          "metadata": {
            "tags": []
          },
          "execution_count": 6
        }
      ]
    },
    {
      "cell_type": "code",
      "metadata": {
        "id": "rlMCj3mJoLuj",
        "colab_type": "code",
        "outputId": "41222e1c-0ee7-420f-83ff-0d27b4907c63",
        "colab": {
          "base_uri": "https://localhost:8080/",
          "height": 85
        }
      },
      "source": [
        "# Cross Validated Score (f1_macro & f1 - Skewed by imbalanced data)\n",
        "cv_score_f1_macro = cross_val_score(RF_classifier, final_df, target, cv=10, scoring=\"f1_macro\")\n",
        "print(\"Cross-Val F1-macro Score: %0.3f\" % (np.mean(cv_score_f1_macro))) # 0.696\n",
        "cv_score_f1 = cross_val_score(RF_classifier, final_df, target, cv=10, scoring=\"f1\")\n",
        "print(\"Cross-Val F1 Score: %0.3f\" % (np.mean(cv_score_f1))) # 0.46594\n",
        "cv_score_recall = cross_val_score(RF_classifier, final_df, target, cv=10, scoring=\"recall\")\n",
        "print(\"Cross-Val Recall Score: %0.3f\" % (np.mean(cv_score_recall))) # 0.4222\n",
        "cv_score_prec = cross_val_score(RF_classifier, final_df, target, cv=10, scoring=\"precision\")\n",
        "print(\"Cross-Val Precision Score: %0.3f\" % (np.mean(cv_score_prec)))  # 0.6243"
      ],
      "execution_count": 0,
      "outputs": [
        {
          "output_type": "stream",
          "text": [
            "Cross-Val F1-macro Score: 0.696\n",
            "Cross-Val F1 Score: 0.466\n",
            "Cross-Val Recall Score: 0.422\n",
            "Cross-Val Precision Score: 0.624\n"
          ],
          "name": "stdout"
        }
      ]
    },
    {
      "cell_type": "code",
      "metadata": {
        "id": "HIeOjqYMlSsJ",
        "colab_type": "code",
        "outputId": "5fdef5c8-3591-413f-bec6-156d8b3af07f",
        "colab": {
          "base_uri": "https://localhost:8080/",
          "height": 296
        }
      },
      "source": [
        "# ROC AUC\n",
        "# prediction probabilities\n",
        "rf_probs = RF_classifier.predict_proba(X_test)\n",
        "# generate no skill prediction (majority class)\n",
        "ns_probs = [0 for _ in range(len(y_test))]\n",
        "# keep probabilities for the positive outcome only\n",
        "rf_probs = rf_probs[:, 1]\n",
        "# calculate scores\n",
        "rf_auc = roc_auc_score(y_test, rf_probs) # AUC = 0.921\n",
        "ns_auc = roc_auc_score(y_test, ns_probs)\n",
        "# summarize scores\n",
        "print('Random Forest AUROC: %.3f' % (rf_auc))\n",
        "# calculate ROC curves\n",
        "rf_fpr, rf_tpr, _ = roc_curve(y_test, rf_probs)\n",
        "ns_fpr, ns_tpr, _ = roc_curve(y_test, ns_probs)\n",
        "# plot the ROC curve for the Random Forest Classifier\n",
        "#plt.plot([], [], ' ', label=\"AUROC: 0.921\")\n",
        "plt.plot(rf_fpr, rf_tpr, marker='.', label='Random Forest', color = \"red\")\n",
        "plt.plot(ns_fpr, ns_tpr, linestyle='--', label='No Skill', color = \"black\")\n",
        "# axis labels\n",
        "plt.xlabel('False Positive Rate')\n",
        "plt.ylabel('True Positive Rate')\n",
        "# show the legend\n",
        "plt.legend()\n",
        "# show the plot\n",
        "plt.show()"
      ],
      "execution_count": 0,
      "outputs": [
        {
          "output_type": "stream",
          "text": [
            "Random Forest AUROC: 0.921\n"
          ],
          "name": "stdout"
        },
        {
          "output_type": "display_data",
          "data": {
            "image/png": "[encoded data removed]",
            "text/plain": [
              "<Figure size 432x288 with 1 Axes>"
            ]
          },
          "metadata": {
            "tags": [],
            "needs_background": "light"
          }
        }
      ]
    },
    {
      "cell_type": "markdown",
      "metadata": {
        "id": "gYNezJRxd5Sj",
        "colab_type": "text"
      },
      "source": [
        "<h3> Precision Recall Curve</h3>"
      ]
    },
    {
      "cell_type": "code",
      "metadata": {
        "id": "wNaaDncJd90g",
        "colab_type": "code",
        "colab": {}
      },
      "source": [
        "from sklearn.metrics import precision_recall_curve"
      ],
      "execution_count": 0,
      "outputs": []
    },
    {
      "cell_type": "code",
      "metadata": {
        "id": "fPpRZuBjeBjT",
        "colab_type": "code",
        "outputId": "2df18c99-97ac-4332-b33e-5d36b539542c",
        "colab": {
          "base_uri": "https://localhost:8080/",
          "height": 294
        }
      },
      "source": [
        "rf_probs = RF_classifier.predict_proba(X_test)\n",
        "rf_probs = rf_probs[:, 1] # Keep probability predictions for good quality (=1) class only\n",
        "precisions, recalls, _ = precision_recall_curve(y_test, rf_probs)\n",
        "\n",
        "# Plot PR-Curve\n",
        "no_skill = len(y_test[y_test==1]) / len(y_test)\n",
        "plt.plot([0, 1], [no_skill, no_skill], linestyle='--', label='No Skill')\n",
        "plt.plot(recalls, precisions, marker='.', label='Random Forest')\n",
        "# axis labels\n",
        "plt.xlabel('Recall')\n",
        "plt.ylabel('Precision')\n",
        "# show the legend\n",
        "plt.legend()\n",
        "# annotate optimised model's recall and precision\n",
        "# Title\n",
        "plt.title(\"Precision Recall Curve of Random Forest\")\n",
        "# show the plot\n",
        "plt.show()"
      ],
      "execution_count": 0,
      "outputs": [
        {
          "output_type": "display_data",
          "data": {
            "image/png": "[encoded data removed]",
            "text/plain": [
              "<Figure size 432x288 with 1 Axes>"
            ]
          },
          "metadata": {
            "tags": [],
            "needs_background": "light"
          }
        }
      ]
    },
    {
      "cell_type": "code",
      "metadata": {
        "id": "kQ4EYUkanu00",
        "colab_type": "code",
        "outputId": "35ab2462-aa4a-4ddd-9b1d-baf3154dfbe5",
        "colab": {
          "base_uri": "https://localhost:8080/",
          "height": 36
        }
      },
      "source": [
        "np.where(np.round(precisions, 8) == 0.60416667) #126\n",
        "np.where(np.round(recalls, 8) == 0.64444444) #126"
      ],
      "execution_count": 0,
      "outputs": [
        {
          "output_type": "execute_result",
          "data": {
            "text/plain": [
              "(array([124, 125, 126, 127]),)"
            ]
          },
          "metadata": {
            "tags": []
          },
          "execution_count": 75
        }
      ]
    },
    {
      "cell_type": "markdown",
      "metadata": {
        "id": "BuSk9f39lU5F",
        "colab_type": "text"
      },
      "source": [
        "<h2> Feature Importance & Hypotheses Testing </h2>"
      ]
    },
    {
      "cell_type": "markdown",
      "metadata": {
        "id": "sIgg33Ggldbd",
        "colab_type": "text"
      },
      "source": [
        "<h3>Feature Importance (Based on MDI)</h3>"
      ]
    },
    {
      "cell_type": "code",
      "metadata": {
        "id": "Tt1Nn2KBlbLb",
        "colab_type": "code",
        "outputId": "a393a983-1e25-4e23-8f10-01e76cd91f4e",
        "colab": {
          "base_uri": "https://localhost:8080/",
          "height": 537
        }
      },
      "source": [
        "# Feature Importance (Hypotheses Test as well)\n",
        "for name, importance in zip(final_df.columns, RF_classifier.feature_importances_):\n",
        "    print(name, \"=\", importance)\n",
        "\n",
        "features = final_df.columns\n",
        "importances = RF_classifier.feature_importances_\n",
        "indices = np.argsort(importances)\n",
        "\n",
        "# Graphing it\n",
        "plt.title('Feature Importances')\n",
        "plt.barh(range(len(indices)), importances[indices], color='b', align='center')\n",
        "plt.yticks(range(len(indices)), [features[i] for i in indices])\n",
        "plt.xlabel('Relative Importance')\n",
        "plt.show()"
      ],
      "execution_count": 0,
      "outputs": [
        {
          "output_type": "stream",
          "text": [
            "fixed acidity = 0.04380730039422046\n",
            "volatile acidity = 0.12236288677124622\n",
            "citric acid = 0.07754877814621361\n",
            "residual sugar = 0.042887346068360914\n",
            "chlorides = 0.05648488574229379\n",
            "free sulfur dioxide = 0.04171485361163986\n",
            "total sulfur dioxide = 0.06457645754149643\n",
            "density = 0.0612053137218189\n",
            "pH = 0.043301573199190736\n",
            "sulphates = 0.10089026653155889\n",
            "alcohol = 0.2009553429222048\n",
            "total acidity = 0.047401050680537106\n",
            "pH_sulphate = 0.09686394466921823\n"
          ],
          "name": "stdout"
        },
        {
          "output_type": "display_data",
          "data": {
            "image/png": "[encoded data removed]",
            "text/plain": [
              "<Figure size 432x288 with 1 Axes>"
            ]
          },
          "metadata": {
            "tags": [],
            "needs_background": "light"
          }
        }
      ]
    },
    {
      "cell_type": "markdown",
      "metadata": {
        "id": "nLMJjPqalmTV",
        "colab_type": "text"
      },
      "source": [
        "<h3>Further Feature Selection using Feature Importance</h3>"
      ]
    },
    {
      "cell_type": "code",
      "metadata": {
        "id": "RN-PL072lukf",
        "colab_type": "code",
        "outputId": "5ac4910c-8f34-47c9-b43c-8b92375162f5",
        "colab": {
          "base_uri": "https://localhost:8080/",
          "height": 268
        }
      },
      "source": [
        "# Further Feature Selection for optimisation using Feat. Importance\n",
        "selector = SelectFromModel(RF_classifier, threshold=0.10)\n",
        "X_important = selector.fit_transform(X_train, y_train)\n",
        "RF_classifier.fit(X_important, y_train)\n",
        "X_important_test = X_test.loc[:, [\"alcohol\", \"volatile acidity\", \"sulphates\"]]\n",
        "y_pred2 = RF_classifier.predict(X_important_test)\n",
        "pd.DataFrame(classification_report(y_test, y_pred2, output_dict=True)).transpose()"
      ],
      "execution_count": 0,
      "outputs": [
        {
          "output_type": "stream",
          "text": [
            "/usr/local/lib/python3.6/dist-packages/sklearn/metrics/_classification.py:1272: UndefinedMetricWarning: Precision and F-score are ill-defined and being set to 0.0 in labels with no predicted samples. Use `zero_division` parameter to control this behavior.\n",
            "  _warn_prf(average, modifier, msg_start, len(result))\n"
          ],
          "name": "stderr"
        },
        {
          "output_type": "execute_result",
          "data": {
            "text/html": [
              "<div>\n",
              "<style scoped>\n",
              "    .dataframe tbody tr th:only-of-type {\n",
              "        vertical-align: middle;\n",
              "    }\n",
              "\n",
              "    .dataframe tbody tr th {\n",
              "        vertical-align: top;\n",
              "    }\n",
              "\n",
              "    .dataframe thead th {\n",
              "        text-align: right;\n",
              "    }\n",
              "</style>\n",
              "<table border=\"1\" class=\"dataframe\">\n",
              "  <thead>\n",
              "    <tr style=\"text-align: right;\">\n",
              "      <th></th>\n",
              "      <th>precision</th>\n",
              "      <th>recall</th>\n",
              "      <th>f1-score</th>\n",
              "      <th>support</th>\n",
              "    </tr>\n",
              "  </thead>\n",
              "  <tbody>\n",
              "    <tr>\n",
              "      <th>0</th>\n",
              "      <td>0.887500</td>\n",
              "      <td>1.0000</td>\n",
              "      <td>0.940397</td>\n",
              "      <td>355.0000</td>\n",
              "    </tr>\n",
              "    <tr>\n",
              "      <th>1</th>\n",
              "      <td>0.000000</td>\n",
              "      <td>0.0000</td>\n",
              "      <td>0.000000</td>\n",
              "      <td>45.0000</td>\n",
              "    </tr>\n",
              "    <tr>\n",
              "      <th>accuracy</th>\n",
              "      <td>0.887500</td>\n",
              "      <td>0.8875</td>\n",
              "      <td>0.887500</td>\n",
              "      <td>0.8875</td>\n",
              "    </tr>\n",
              "    <tr>\n",
              "      <th>macro avg</th>\n",
              "      <td>0.443750</td>\n",
              "      <td>0.5000</td>\n",
              "      <td>0.470199</td>\n",
              "      <td>400.0000</td>\n",
              "    </tr>\n",
              "    <tr>\n",
              "      <th>weighted avg</th>\n",
              "      <td>0.787656</td>\n",
              "      <td>0.8875</td>\n",
              "      <td>0.834603</td>\n",
              "      <td>400.0000</td>\n",
              "    </tr>\n",
              "  </tbody>\n",
              "</table>\n",
              "</div>"
            ],
            "text/plain": [
              "              precision  recall  f1-score   support\n",
              "0              0.887500  1.0000  0.940397  355.0000\n",
              "1              0.000000  0.0000  0.000000   45.0000\n",
              "accuracy       0.887500  0.8875  0.887500    0.8875\n",
              "macro avg      0.443750  0.5000  0.470199  400.0000\n",
              "weighted avg   0.787656  0.8875  0.834603  400.0000"
            ]
          },
          "metadata": {
            "tags": []
          },
          "execution_count": 17
        }
      ]
    },
    {
      "cell_type": "code",
      "metadata": {
        "id": "9RHvKmq-ptVd",
        "colab_type": "code",
        "outputId": "5139a7c8-f03b-4cf1-ff95-1e05b3b7657a",
        "colab": {
          "base_uri": "https://localhost:8080/",
          "height": 36
        }
      },
      "source": [
        "print(\"Cross Val F1-macro Score:  %0.3f\" % np.mean(cross_val_score(RF_classifier, final_df, target, cv=10, scoring=\"f1_macro\")))\n",
        "# We observe that feature importances are highly biased by the dominant class\n",
        "# Solutions: 1) Balance the dataset with SMOTE 2) Class wise feature importance"
      ],
      "execution_count": 0,
      "outputs": [
        {
          "output_type": "stream",
          "text": [
            "Cross Val F1-macro Score:  0.696\n"
          ],
          "name": "stdout"
        }
      ]
    },
    {
      "cell_type": "markdown",
      "metadata": {
        "id": "HrAzCgDtlxKV",
        "colab_type": "text"
      },
      "source": [
        "<h3>Permutation Importance</h3>"
      ]
    },
    {
      "cell_type": "code",
      "metadata": {
        "id": "ciad_varp-4j",
        "colab_type": "code",
        "outputId": "18ed9496-564d-4bdc-c392-978ee5e251f0",
        "colab": {
          "base_uri": "https://localhost:8080/",
          "height": 292
        }
      },
      "source": [
        "!pip install eli5"
      ],
      "execution_count": 0,
      "outputs": [
        {
          "output_type": "stream",
          "text": [
            "Collecting eli5\n",
            "\u001b[?25l  Downloading https://files.pythonhosted.org/packages/97/2f/c85c7d8f8548e460829971785347e14e45fa5c6617da374711dec8cb38cc/eli5-0.10.1-py2.py3-none-any.whl (105kB)\n",
            "\r\u001b[K     |███                             | 10kB 17.5MB/s eta 0:00:01\r\u001b[K     |██████▏                         | 20kB 1.7MB/s eta 0:00:01\r\u001b[K     |█████████▎                      | 30kB 2.5MB/s eta 0:00:01\r\u001b[K     |████████████▍                   | 40kB 1.7MB/s eta 0:00:01\r\u001b[K     |███████████████▌                | 51kB 2.1MB/s eta 0:00:01\r\u001b[K     |██████████████████▋             | 61kB 2.5MB/s eta 0:00:01\r\u001b[K     |█████████████████████▊          | 71kB 2.8MB/s eta 0:00:01\r\u001b[K     |████████████████████████▊       | 81kB 2.2MB/s eta 0:00:01\r\u001b[K     |███████████████████████████▉    | 92kB 2.5MB/s eta 0:00:01\r\u001b[K     |███████████████████████████████ | 102kB 2.8MB/s eta 0:00:01\r\u001b[K     |████████████████████████████████| 112kB 2.8MB/s \n",
            "\u001b[?25hRequirement already satisfied: scipy in /usr/local/lib/python3.6/dist-packages (from eli5) (1.4.1)\n",
            "Requirement already satisfied: graphviz in /usr/local/lib/python3.6/dist-packages (from eli5) (0.10.1)\n",
            "Requirement already satisfied: six in /usr/local/lib/python3.6/dist-packages (from eli5) (1.12.0)\n",
            "Requirement already satisfied: scikit-learn>=0.18 in /usr/local/lib/python3.6/dist-packages (from eli5) (0.22.2.post1)\n",
            "Requirement already satisfied: numpy>=1.9.0 in /usr/local/lib/python3.6/dist-packages (from eli5) (1.18.2)\n",
            "Requirement already satisfied: attrs>16.0.0 in /usr/local/lib/python3.6/dist-packages (from eli5) (19.3.0)\n",
            "Requirement already satisfied: tabulate>=0.7.7 in /usr/local/lib/python3.6/dist-packages (from eli5) (0.8.7)\n",
            "Requirement already satisfied: jinja2 in /usr/local/lib/python3.6/dist-packages (from eli5) (2.11.2)\n",
            "Requirement already satisfied: joblib>=0.11 in /usr/local/lib/python3.6/dist-packages (from scikit-learn>=0.18->eli5) (0.14.1)\n",
            "Requirement already satisfied: MarkupSafe>=0.23 in /usr/local/lib/python3.6/dist-packages (from jinja2->eli5) (1.1.1)\n",
            "Installing collected packages: eli5\n",
            "Successfully installed eli5-0.10.1\n"
          ],
          "name": "stdout"
        }
      ]
    },
    {
      "cell_type": "code",
      "metadata": {
        "id": "dnyqt8bgl7LS",
        "colab_type": "code",
        "outputId": "10be3b70-57ee-4699-e9bc-1f658b535369",
        "colab": {
          "base_uri": "https://localhost:8080/",
          "height": 360
        }
      },
      "source": [
        "# Permutation Importance (eli5)\n",
        "import eli5\n",
        "from eli5.sklearn import PermutationImportance\n",
        "RF_classifier = RandomForestClassifier(n_estimators=800, criterion=\"gini\", random_state=0, bootstrap=True, max_depth=10, class_weight=\"balanced\", oob_score=True)\n",
        "RF_classifier.fit(X_train, y_train)\n",
        "perm = PermutationImportance(RF_classifier, random_state=1, scoring=\"f1_macro\", n_iter=10).fit(X_test, y_test)\n",
        "eli5.show_weights(perm, feature_names = X_test.columns.tolist()) # See on Jupyter Notebook\n"
      ],
      "execution_count": 0,
      "outputs": [
        {
          "output_type": "stream",
          "text": [
            "/usr/local/lib/python3.6/dist-packages/sklearn/utils/deprecation.py:144: FutureWarning: The sklearn.metrics.scorer module is  deprecated in version 0.22 and will be removed in version 0.24. The corresponding classes / functions should instead be imported from sklearn.metrics. Anything that cannot be imported from sklearn.metrics is now part of the private API.\n",
            "  warnings.warn(message, FutureWarning)\n",
            "/usr/local/lib/python3.6/dist-packages/sklearn/utils/deprecation.py:144: FutureWarning: The sklearn.feature_selection.base module is  deprecated in version 0.22 and will be removed in version 0.24. The corresponding classes / functions should instead be imported from sklearn.feature_selection. Anything that cannot be imported from sklearn.feature_selection is now part of the private API.\n",
            "  warnings.warn(message, FutureWarning)\n",
            "Using TensorFlow backend.\n"
          ],
          "name": "stderr"
        },
        {
          "output_type": "execute_result",
          "data": {
            "text/html": [
              "\n",
              "    <style>\n",
              "    table.eli5-weights tr:hover {\n",
              "        filter: brightness(85%);\n",
              "    }\n",
              "</style>\n",
              "\n",
              "\n",
              "\n",
              "    \n",
              "\n",
              "    \n",
              "\n",
              "    \n",
              "\n",
              "    \n",
              "\n",
              "    \n",
              "\n",
              "    \n",
              "\n",
              "\n",
              "    \n",
              "\n",
              "    \n",
              "\n",
              "    \n",
              "\n",
              "    \n",
              "\n",
              "    \n",
              "\n",
              "    \n",
              "\n",
              "\n",
              "    \n",
              "\n",
              "    \n",
              "\n",
              "    \n",
              "\n",
              "    \n",
              "\n",
              "    \n",
              "        <table class=\"eli5-weights eli5-feature-importances\" style=\"border-collapse: collapse; border: none; margin-top: 0em; table-layout: auto;\">\n",
              "    <thead>\n",
              "    <tr style=\"border: none;\">\n",
              "        <th style=\"padding: 0 1em 0 0.5em; text-align: right; border: none;\">Weight</th>\n",
              "        <th style=\"padding: 0 0.5em 0 0.5em; text-align: left; border: none;\">Feature</th>\n",
              "    </tr>\n",
              "    </thead>\n",
              "    <tbody>\n",
              "    \n",
              "        <tr style=\"background-color: hsl(120, 100.00%, 80.00%); border: none;\">\n",
              "            <td style=\"padding: 0 1em 0 0.5em; text-align: right; border: none;\">\n",
              "                0.1255\n",
              "                \n",
              "                    &plusmn; 0.0711\n",
              "                \n",
              "            </td>\n",
              "            <td style=\"padding: 0 0.5em 0 0.5em; text-align: left; border: none;\">\n",
              "                alcohol\n",
              "            </td>\n",
              "        </tr>\n",
              "    \n",
              "        <tr style=\"background-color: hsl(120, 100.00%, 87.13%); border: none;\">\n",
              "            <td style=\"padding: 0 1em 0 0.5em; text-align: right; border: none;\">\n",
              "                0.0669\n",
              "                \n",
              "                    &plusmn; 0.0530\n",
              "                \n",
              "            </td>\n",
              "            <td style=\"padding: 0 0.5em 0 0.5em; text-align: left; border: none;\">\n",
              "                sulphates\n",
              "            </td>\n",
              "        </tr>\n",
              "    \n",
              "        <tr style=\"background-color: hsl(120, 100.00%, 87.96%); border: none;\">\n",
              "            <td style=\"padding: 0 1em 0 0.5em; text-align: right; border: none;\">\n",
              "                0.0608\n",
              "                \n",
              "                    &plusmn; 0.0474\n",
              "                \n",
              "            </td>\n",
              "            <td style=\"padding: 0 0.5em 0 0.5em; text-align: left; border: none;\">\n",
              "                volatile acidity\n",
              "            </td>\n",
              "        </tr>\n",
              "    \n",
              "        <tr style=\"background-color: hsl(120, 100.00%, 91.19%); border: none;\">\n",
              "            <td style=\"padding: 0 1em 0 0.5em; text-align: right; border: none;\">\n",
              "                0.0389\n",
              "                \n",
              "                    &plusmn; 0.0363\n",
              "                \n",
              "            </td>\n",
              "            <td style=\"padding: 0 0.5em 0 0.5em; text-align: left; border: none;\">\n",
              "                citric acid\n",
              "            </td>\n",
              "        </tr>\n",
              "    \n",
              "        <tr style=\"background-color: hsl(120, 100.00%, 92.28%); border: none;\">\n",
              "            <td style=\"padding: 0 1em 0 0.5em; text-align: right; border: none;\">\n",
              "                0.0322\n",
              "                \n",
              "                    &plusmn; 0.0426\n",
              "                \n",
              "            </td>\n",
              "            <td style=\"padding: 0 0.5em 0 0.5em; text-align: left; border: none;\">\n",
              "                pH_sulphate\n",
              "            </td>\n",
              "        </tr>\n",
              "    \n",
              "        <tr style=\"background-color: hsl(120, 100.00%, 93.86%); border: none;\">\n",
              "            <td style=\"padding: 0 1em 0 0.5em; text-align: right; border: none;\">\n",
              "                0.0232\n",
              "                \n",
              "                    &plusmn; 0.0250\n",
              "                \n",
              "            </td>\n",
              "            <td style=\"padding: 0 0.5em 0 0.5em; text-align: left; border: none;\">\n",
              "                chlorides\n",
              "            </td>\n",
              "        </tr>\n",
              "    \n",
              "        <tr style=\"background-color: hsl(120, 100.00%, 94.72%); border: none;\">\n",
              "            <td style=\"padding: 0 1em 0 0.5em; text-align: right; border: none;\">\n",
              "                0.0187\n",
              "                \n",
              "                    &plusmn; 0.0258\n",
              "                \n",
              "            </td>\n",
              "            <td style=\"padding: 0 0.5em 0 0.5em; text-align: left; border: none;\">\n",
              "                density\n",
              "            </td>\n",
              "        </tr>\n",
              "    \n",
              "        <tr style=\"background-color: hsl(120, 100.00%, 95.40%); border: none;\">\n",
              "            <td style=\"padding: 0 1em 0 0.5em; text-align: right; border: none;\">\n",
              "                0.0154\n",
              "                \n",
              "                    &plusmn; 0.0234\n",
              "                \n",
              "            </td>\n",
              "            <td style=\"padding: 0 0.5em 0 0.5em; text-align: left; border: none;\">\n",
              "                residual sugar\n",
              "            </td>\n",
              "        </tr>\n",
              "    \n",
              "        <tr style=\"background-color: hsl(120, 100.00%, 95.66%); border: none;\">\n",
              "            <td style=\"padding: 0 1em 0 0.5em; text-align: right; border: none;\">\n",
              "                0.0142\n",
              "                \n",
              "                    &plusmn; 0.0261\n",
              "                \n",
              "            </td>\n",
              "            <td style=\"padding: 0 0.5em 0 0.5em; text-align: left; border: none;\">\n",
              "                total sulfur dioxide\n",
              "            </td>\n",
              "        </tr>\n",
              "    \n",
              "        <tr style=\"background-color: hsl(120, 100.00%, 95.81%); border: none;\">\n",
              "            <td style=\"padding: 0 1em 0 0.5em; text-align: right; border: none;\">\n",
              "                0.0135\n",
              "                \n",
              "                    &plusmn; 0.0157\n",
              "                \n",
              "            </td>\n",
              "            <td style=\"padding: 0 0.5em 0 0.5em; text-align: left; border: none;\">\n",
              "                fixed acidity\n",
              "            </td>\n",
              "        </tr>\n",
              "    \n",
              "        <tr style=\"background-color: hsl(120, 100.00%, 96.21%); border: none;\">\n",
              "            <td style=\"padding: 0 1em 0 0.5em; text-align: right; border: none;\">\n",
              "                0.0116\n",
              "                \n",
              "                    &plusmn; 0.0147\n",
              "                \n",
              "            </td>\n",
              "            <td style=\"padding: 0 0.5em 0 0.5em; text-align: left; border: none;\">\n",
              "                total acidity\n",
              "            </td>\n",
              "        </tr>\n",
              "    \n",
              "        <tr style=\"background-color: hsl(0, 100.00%, 99.54%); border: none;\">\n",
              "            <td style=\"padding: 0 1em 0 0.5em; text-align: right; border: none;\">\n",
              "                -0.0006\n",
              "                \n",
              "                    &plusmn; 0.0288\n",
              "                \n",
              "            </td>\n",
              "            <td style=\"padding: 0 0.5em 0 0.5em; text-align: left; border: none;\">\n",
              "                pH\n",
              "            </td>\n",
              "        </tr>\n",
              "    \n",
              "        <tr style=\"background-color: hsl(0, 100.00%, 98.78%); border: none;\">\n",
              "            <td style=\"padding: 0 1em 0 0.5em; text-align: right; border: none;\">\n",
              "                -0.0023\n",
              "                \n",
              "                    &plusmn; 0.0161\n",
              "                \n",
              "            </td>\n",
              "            <td style=\"padding: 0 0.5em 0 0.5em; text-align: left; border: none;\">\n",
              "                free sulfur dioxide\n",
              "            </td>\n",
              "        </tr>\n",
              "    \n",
              "    \n",
              "    </tbody>\n",
              "</table>\n",
              "    \n",
              "\n",
              "    \n",
              "\n",
              "\n",
              "    \n",
              "\n",
              "    \n",
              "\n",
              "    \n",
              "\n",
              "    \n",
              "\n",
              "    \n",
              "\n",
              "    \n",
              "\n",
              "\n",
              "\n"
            ],
            "text/plain": [
              "<IPython.core.display.HTML object>"
            ]
          },
          "metadata": {
            "tags": []
          },
          "execution_count": 8
        }
      ]
    },
    {
      "cell_type": "code",
      "metadata": {
        "id": "OEbQGDtS0T3J",
        "colab_type": "code",
        "outputId": "5c2d3026-1add-4b73-fe9b-600d562fd928",
        "colab": {
          "base_uri": "https://localhost:8080/",
          "height": 204
        }
      },
      "source": [
        "# Results from Perm Importance ELI5 Feature Selection\n",
        "X_train_eli5 = X_train.copy()\n",
        "X_train_eli5 = X_train_eli5.drop(columns = ['pH', 'free sulfur dioxide'])\n",
        "RF_classifier_eli5 = RandomForestClassifier(n_estimators=800, criterion=\"gini\", random_state=0, bootstrap=True, max_depth=10, class_weight=\"balanced\", oob_score=True)\n",
        "RF_classifier_eli5.fit(X_train_eli5, y_train)\n",
        "y_pred = RF_classifier_eli5.predict(X_test.drop(columns =  ['pH', 'free sulfur dioxide']))\n",
        "pd.DataFrame(classification_report(y_test, y_pred, output_dict=True)).transpose()"
      ],
      "execution_count": 0,
      "outputs": [
        {
          "output_type": "execute_result",
          "data": {
            "text/html": [
              "<div>\n",
              "<style scoped>\n",
              "    .dataframe tbody tr th:only-of-type {\n",
              "        vertical-align: middle;\n",
              "    }\n",
              "\n",
              "    .dataframe tbody tr th {\n",
              "        vertical-align: top;\n",
              "    }\n",
              "\n",
              "    .dataframe thead th {\n",
              "        text-align: right;\n",
              "    }\n",
              "</style>\n",
              "<table border=\"1\" class=\"dataframe\">\n",
              "  <thead>\n",
              "    <tr style=\"text-align: right;\">\n",
              "      <th></th>\n",
              "      <th>precision</th>\n",
              "      <th>recall</th>\n",
              "      <th>f1-score</th>\n",
              "      <th>support</th>\n",
              "    </tr>\n",
              "  </thead>\n",
              "  <tbody>\n",
              "    <tr>\n",
              "      <th>0</th>\n",
              "      <td>0.962751</td>\n",
              "      <td>0.946479</td>\n",
              "      <td>0.954545</td>\n",
              "      <td>355.00</td>\n",
              "    </tr>\n",
              "    <tr>\n",
              "      <th>1</th>\n",
              "      <td>0.627451</td>\n",
              "      <td>0.711111</td>\n",
              "      <td>0.666667</td>\n",
              "      <td>45.00</td>\n",
              "    </tr>\n",
              "    <tr>\n",
              "      <th>accuracy</th>\n",
              "      <td>0.920000</td>\n",
              "      <td>0.920000</td>\n",
              "      <td>0.920000</td>\n",
              "      <td>0.92</td>\n",
              "    </tr>\n",
              "    <tr>\n",
              "      <th>macro avg</th>\n",
              "      <td>0.795101</td>\n",
              "      <td>0.828795</td>\n",
              "      <td>0.810606</td>\n",
              "      <td>400.00</td>\n",
              "    </tr>\n",
              "    <tr>\n",
              "      <th>weighted avg</th>\n",
              "      <td>0.925029</td>\n",
              "      <td>0.920000</td>\n",
              "      <td>0.922159</td>\n",
              "      <td>400.00</td>\n",
              "    </tr>\n",
              "  </tbody>\n",
              "</table>\n",
              "</div>"
            ],
            "text/plain": [
              "              precision    recall  f1-score  support\n",
              "0              0.962751  0.946479  0.954545   355.00\n",
              "1              0.627451  0.711111  0.666667    45.00\n",
              "accuracy       0.920000  0.920000  0.920000     0.92\n",
              "macro avg      0.795101  0.828795  0.810606   400.00\n",
              "weighted avg   0.925029  0.920000  0.922159   400.00"
            ]
          },
          "metadata": {
            "tags": []
          },
          "execution_count": 9
        }
      ]
    },
    {
      "cell_type": "code",
      "metadata": {
        "id": "ASQgNzHo4neQ",
        "colab_type": "code",
        "outputId": "98d2744d-9acd-49a3-a8d7-89524e37318f",
        "colab": {
          "base_uri": "https://localhost:8080/",
          "height": 85
        }
      },
      "source": [
        "# Cross Val for Refined Model\n",
        "# Cross Validated Score \n",
        "final_df_eli5 = final_df.drop(columns = ['pH', 'free sulfur dioxide'])\n",
        "cv_score_f1_macro = cross_val_score(RF_classifier_eli5, final_df_eli5, target, cv=10, scoring=\"f1_macro\")\n",
        "print(\"Cross-Val F1-macro Score: %0.3f\" % (np.mean(cv_score_f1_macro))) # 0.700\n",
        "cv_score_f1 = cross_val_score(RF_classifier_eli5, final_df_eli5, target, cv=10, scoring=\"f1\")\n",
        "print(\"Cross-Val F1 Score: %0.3f\" % (np.mean(cv_score_f1))) # 0.473\n",
        "cv_score_recall = cross_val_score(RF_classifier_eli5, final_df_eli5, target, cv=10, scoring=\"recall\")\n",
        "print(\"Cross-Val Recall Score: %0.3f\" % (np.mean(cv_score_recall))) # 0.436\n",
        "cv_score_prec = cross_val_score(RF_classifier_eli5, final_df_eli5, target, cv=10, scoring=\"precision\")\n",
        "print(\"Cross-Val Precision Score: %0.3f\" % (np.mean(cv_score_prec)))  # 0.625"
      ],
      "execution_count": 0,
      "outputs": [
        {
          "output_type": "stream",
          "text": [
            "Cross-Val F1-macro Score: 0.700\n",
            "Cross-Val F1 Score: 0.473\n",
            "Cross-Val Recall Score: 0.436\n",
            "Cross-Val Precision Score: 0.625\n"
          ],
          "name": "stdout"
        }
      ]
    },
    {
      "cell_type": "markdown",
      "metadata": {
        "id": "PxVeIgBi2bJj",
        "colab_type": "text"
      },
      "source": [
        "<p> f1_macro, recall and precision all improve with negative perm importance features dropped</p>"
      ]
    },
    {
      "cell_type": "markdown",
      "metadata": {
        "id": "38fXhkcTl9Ca",
        "colab_type": "text"
      },
      "source": [
        "<h3>Drop Column Feature Importance (Measured using fall in f1-macro)</h3>"
      ]
    },
    {
      "cell_type": "code",
      "metadata": {
        "id": "xjayHHWamCrG",
        "colab_type": "code",
        "outputId": "68c0c78a-b091-4c77-cc27-7d1f7b07411d",
        "colab": {
          "base_uri": "https://localhost:8080/",
          "height": 265
        }
      },
      "source": [
        "# Drop Column Feature Importance\n",
        "from sklearn.base import clone\n",
        "\n",
        "# Helper Function\n",
        "def imp_df(column_names, importances):\n",
        "    df = pd.DataFrame({'feature': column_names,\n",
        "                       'feature_importance': importances}).sort_values('feature_importance', ascending = False).reset_index(drop = True)\n",
        "    return df\n",
        "\n",
        "# Drop Col Feat Importance Function\n",
        "from sklearn.metrics import f1_score\n",
        "\n",
        "def drop_col_feat_imp(model, X_train, y_train, X_test, y_test, random_state=42):\n",
        "    # clone the model to have the exact same specification as the one initially trained\n",
        "    model_clone = clone(model)\n",
        "    # set random_state for comparability\n",
        "    model_clone.random_state = random_state\n",
        "    # training and scoring the benchmark model\n",
        "    model_clone.fit(X_train, y_train)\n",
        "    # y_pred\n",
        "    y_pred = model_clone.predict(X_test) # *\n",
        "    benchmark_score = f1_score(y_test, y_pred, average='macro') #model_clone.score(X_train, y_train)\n",
        "    # list for storing feature importances\n",
        "    importances = []\n",
        "\n",
        "    # iterating over all columns and storing feature importance (difference between benchmark and new model)\n",
        "    for col in X_train.columns:\n",
        "        model_clone = clone(model)\n",
        "        model_clone.random_state = random_state\n",
        "        model_clone.fit(X_train.drop(col, axis=1), y_train)\n",
        "        y_pred = model_clone.predict(X_test.drop(col, axis=1)) # *\n",
        "        drop_col_score = f1_score(y_test, y_pred, average='macro') #model_clone.score(X_train.drop(col, axis=1), y_train)\n",
        "        importances.append(benchmark_score - drop_col_score)\n",
        "\n",
        "    importances_df = imp_df(X_train.columns, importances)\n",
        "    return importances_df\n",
        "\n",
        "drop_col_results = drop_col_feat_imp(RF_classifier, X_train, y_train, X_test, y_test)\n",
        "\n",
        "# Graphing it\n",
        "drop_col_results.plot.barh(x='feature', y='feature_importance')\n",
        "plt.show()"
      ],
      "execution_count": 0,
      "outputs": [
        {
          "output_type": "display_data",
          "data": {
            "image/png": "[encoded data removed]",
            "text/plain": [
              "<Figure size 432x288 with 1 Axes>"
            ]
          },
          "metadata": {
            "tags": [],
            "needs_background": "light"
          }
        }
      ]
    },
    {
      "cell_type": "code",
      "metadata": {
        "id": "rijYG_qCpTeH",
        "colab_type": "code",
        "colab": {}
      },
      "source": [
        ""
      ],
      "execution_count": 0,
      "outputs": []
    }
  ]
}
