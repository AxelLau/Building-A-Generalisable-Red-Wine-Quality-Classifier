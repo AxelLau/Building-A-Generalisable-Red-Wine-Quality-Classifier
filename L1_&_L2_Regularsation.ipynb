{
  "nbformat": 4,
  "nbformat_minor": 0,
  "metadata": {
    "colab": {
      "name": "L1 & L2 Regularsation.ipynb",
      "provenance": [],
      "collapsed_sections": [],
      "authorship_tag": "ABX9TyOFTGbuCQ0DVy6e1wI+iUQZ",
      "include_colab_link": true
    },
    "kernelspec": {
      "name": "python3",
      "display_name": "Python 3"
    }
  },
  "cells": [
    {
      "cell_type": "markdown",
      "metadata": {
        "id": "view-in-github",
        "colab_type": "text"
      },
      "source": [
        "<a href=\"https://colab.research.google.com/github/ChristopherLiew/Building-A-Generalisable-Red-Wine-Quality-Classifier/blob/master/L1_%26_L2_Regularsation.ipynb\" target=\"_parent\"><img src=\"https://colab.research.google.com/assets/colab-badge.svg\" alt=\"Open In Colab\"/></a>"
      ]
    },
    {
      "cell_type": "markdown",
      "metadata": {
        "id": "EUEFV4e5VUBo",
        "colab_type": "text"
      },
      "source": [
        "<h1>Lasso (L1) & Ridge (L2) Regression</h1>\n"
      ]
    },
    {
      "cell_type": "code",
      "metadata": {
        "id": "58rzm0jAVF0G",
        "colab_type": "code",
        "colab": {}
      },
      "source": [
        "# Import Libraries\n",
        "import pandas as pd\n",
        "import numpy as np\n",
        "import matplotlib as mpl\n",
        "import matplotlib.pyplot as plt\n",
        "import seaborn as sns\n",
        "%matplotlib inline\n",
        "mpl.style.use('ggplot') # optional: for ggplot-like style\n",
        "from sklearn.model_selection import train_test_split, validation_curve\n",
        "from sklearn.model_selection import cross_val_score\n",
        "from sklearn.metrics import roc_curve\n",
        "from sklearn.metrics import roc_auc_score\n",
        "from sklearn.metrics import roc_curve, auc\n",
        "from sklearn.metrics import classification_report\n",
        "from sklearn.linear_model import Ridge\n",
        "from sklearn.linear_model import RidgeCV\n",
        "from sklearn.preprocessing import scale\n",
        "from sklearn.linear_model import Lasso, LassoCV"
      ],
      "execution_count": 0,
      "outputs": []
    },
    {
      "cell_type": "code",
      "metadata": {
        "id": "iMW8RY-NViQ5",
        "colab_type": "code",
        "outputId": "44bfa816-808a-429c-f84a-1ddeedeea6ad",
        "colab": {
          "base_uri": "https://localhost:8080/",
          "height": 34
        }
      },
      "source": [
        "from google.colab import drive \n",
        "drive.mount('/content/gdrive')"
      ],
      "execution_count": 12,
      "outputs": [
        {
          "output_type": "stream",
          "text": [
            "Drive already mounted at /content/gdrive; to attempt to forcibly remount, call drive.mount(\"/content/gdrive\", force_remount=True).\n"
          ],
          "name": "stdout"
        }
      ]
    },
    {
      "cell_type": "code",
      "metadata": {
        "id": "hHXafr5CWk4k",
        "colab_type": "code",
        "colab": {}
      },
      "source": [
        "wine_df = pd.read_csv(\"/content/gdrive/My Drive/Business Analytics Stuff/BT2101 Group Project/winequality-red.csv\")"
      ],
      "execution_count": 0,
      "outputs": []
    },
    {
      "cell_type": "markdown",
      "metadata": {
        "id": "5s7nPD8AXIde",
        "colab_type": "text"
      },
      "source": [
        "<h2>Data Preprocessing</h2>"
      ]
    },
    {
      "cell_type": "code",
      "metadata": {
        "id": "MPVOKGR0XKzl",
        "colab_type": "code",
        "outputId": "4fb315b7-24a4-4e4c-fee0-a229d7b191d2",
        "colab": {
          "base_uri": "https://localhost:8080/",
          "height": 597
        }
      },
      "source": [
        "# Target Variable\n",
        "wine_df[\"good_quality\"] = wine_df[\"quality\"] >= 7\n",
        "target = wine_df.loc[:, 'good_quality']\n",
        "target = target.astype(int)  # 1 = good quality & 0 = other quality\n",
        "target\n",
        "\n",
        "# Feature Scaling \n",
        "from sklearn.preprocessing import RobustScaler\n",
        "robust = RobustScaler(quantile_range=(0.25, 0.75))  \n",
        "norm_df = wine_df.drop(columns=['quality', 'good_quality']).copy()\n",
        "norm_df = pd.DataFrame(robust.fit_transform(norm_df), columns=norm_df.columns)\n",
        "\n",
        "# Interaction Terms\n",
        "norm_df['total acidity'] = norm_df['fixed acidity'] + norm_df['volatile acidity']\n",
        "norm_df['pH_sulphate'] = norm_df['pH'] * norm_df['sulphates']\n",
        "\n",
        "# Standardisation\n",
        "col_names = norm_df.columns\n",
        "\n",
        "from sklearn import preprocessing\n",
        "scaler = preprocessing.StandardScaler()\n",
        "scaled_df = scaler.fit_transform(norm_df)\n",
        "scaled_df = pd.DataFrame(scaled_df, columns=col_names)\n",
        "\n",
        "# Feature Selection vis VIF\n",
        "from statsmodels.stats.outliers_influence import variance_inflation_factor\n",
        "def calculate_VIF(x):\n",
        "    threshold = 5\n",
        "    selected_var = pd.DataFrame()\n",
        "    ncol = len(x.columns)\n",
        "    vif = [variance_inflation_factor(x.values, i) for i in range(ncol)]\n",
        "    for i in range(1, ncol):\n",
        "        print(\"Iteration Number: \", i)\n",
        "        print(vif)\n",
        "        a = np.argmax(vif)\n",
        "        print(\"Max. VIF is for variable number: \", a)\n",
        "        if (vif[a] <= threshold):\n",
        "            break\n",
        "        if (i == 1):\n",
        "            selected_var = x.drop(x.columns[a], axis=1)\n",
        "            vif = [variance_inflation_factor(selected_var.values, j) for j in range(selected_var.shape[1])]\n",
        "        elif (i > 1):\n",
        "            selected_var = selected_var.drop(selected_var.columns[a], axis=1)\n",
        "            vif = [variance_inflation_factor(selected_var.values, j) for j in range(selected_var.shape[1])]\n",
        "    return (selected_var)\n",
        "\n",
        "selected_features = calculate_VIF(scaled_df)# Target Variable\n",
        "selected_features_df = pd.DataFrame(selected_features.columns.values.tolist(), columns=[\"Selected Features\"])\n",
        "selected_features_df"
      ],
      "execution_count": 14,
      "outputs": [
        {
          "output_type": "stream",
          "text": [
            "Iteration Number:  1\n",
            "[inf, inf, 3.1281290523158005, 1.7050146798119519, 1.5807565886372779, 1.972946740703337, 2.1911132550421315, 6.401378378562339, 3.418075290279779, 1.9294858502023096, 3.0471893581144673, inf, 1.8901278619471857]\n",
            "Max. VIF is for variable number:  0\n",
            "Iteration Number:  2\n",
            "[4.067156019844889, 3.128129052315802, 1.7050146798119514, 1.5807565886372779, 1.9729467407033374, 2.1911132550421315, 6.401378378562339, 3.4180752902797775, 1.9294858502023091, 3.0471893581144673, 7.777465491607318, 1.8901278619471857]\n",
            "Max. VIF is for variable number:  10\n",
            "Iteration Number:  3\n",
            "[1.827863418227597, 2.780556884999453, 1.387967806076385, 1.4970809929155795, 1.9486290731175169, 2.0729809127030068, 2.4729891934935195, 1.712529070657663, 1.8920293970498296, 2.1483565167017966, 1.8896051346682705]\n",
            "Max. VIF is for variable number:  1\n"
          ],
          "name": "stdout"
        },
        {
          "output_type": "stream",
          "text": [
            "/usr/local/lib/python3.6/dist-packages/statsmodels/stats/outliers_influence.py:185: RuntimeWarning: divide by zero encountered in double_scalars\n",
            "  vif = 1. / (1. - r_squared_i)\n"
          ],
          "name": "stderr"
        },
        {
          "output_type": "execute_result",
          "data": {
            "text/html": [
              "<div>\n",
              "<style scoped>\n",
              "    .dataframe tbody tr th:only-of-type {\n",
              "        vertical-align: middle;\n",
              "    }\n",
              "\n",
              "    .dataframe tbody tr th {\n",
              "        vertical-align: top;\n",
              "    }\n",
              "\n",
              "    .dataframe thead th {\n",
              "        text-align: right;\n",
              "    }\n",
              "</style>\n",
              "<table border=\"1\" class=\"dataframe\">\n",
              "  <thead>\n",
              "    <tr style=\"text-align: right;\">\n",
              "      <th></th>\n",
              "      <th>Selected Features</th>\n",
              "    </tr>\n",
              "  </thead>\n",
              "  <tbody>\n",
              "    <tr>\n",
              "      <th>0</th>\n",
              "      <td>volatile acidity</td>\n",
              "    </tr>\n",
              "    <tr>\n",
              "      <th>1</th>\n",
              "      <td>citric acid</td>\n",
              "    </tr>\n",
              "    <tr>\n",
              "      <th>2</th>\n",
              "      <td>residual sugar</td>\n",
              "    </tr>\n",
              "    <tr>\n",
              "      <th>3</th>\n",
              "      <td>chlorides</td>\n",
              "    </tr>\n",
              "    <tr>\n",
              "      <th>4</th>\n",
              "      <td>free sulfur dioxide</td>\n",
              "    </tr>\n",
              "    <tr>\n",
              "      <th>5</th>\n",
              "      <td>total sulfur dioxide</td>\n",
              "    </tr>\n",
              "    <tr>\n",
              "      <th>6</th>\n",
              "      <td>density</td>\n",
              "    </tr>\n",
              "    <tr>\n",
              "      <th>7</th>\n",
              "      <td>pH</td>\n",
              "    </tr>\n",
              "    <tr>\n",
              "      <th>8</th>\n",
              "      <td>sulphates</td>\n",
              "    </tr>\n",
              "    <tr>\n",
              "      <th>9</th>\n",
              "      <td>alcohol</td>\n",
              "    </tr>\n",
              "    <tr>\n",
              "      <th>10</th>\n",
              "      <td>pH_sulphate</td>\n",
              "    </tr>\n",
              "  </tbody>\n",
              "</table>\n",
              "</div>"
            ],
            "text/plain": [
              "       Selected Features\n",
              "0       volatile acidity\n",
              "1            citric acid\n",
              "2         residual sugar\n",
              "3              chlorides\n",
              "4    free sulfur dioxide\n",
              "5   total sulfur dioxide\n",
              "6                density\n",
              "7                     pH\n",
              "8              sulphates\n",
              "9                alcohol\n",
              "10           pH_sulphate"
            ]
          },
          "metadata": {
            "tags": []
          },
          "execution_count": 14
        }
      ]
    },
    {
      "cell_type": "code",
      "metadata": {
        "id": "e2giormbXjp-",
        "colab_type": "code",
        "outputId": "e24e197e-55bc-4835-cc3c-348111a7c8b8",
        "colab": {
          "base_uri": "https://localhost:8080/",
          "height": 204
        }
      },
      "source": [
        "# Unscaled Red Wine Dataset\n",
        "new_df = wine_df.copy()\n",
        "target = wine_df.good_quality.copy() \n",
        "new_df.drop(columns=[\"quality\", \"good_quality\"], inplace=True)\n",
        "\n",
        "# Create interaction terms\n",
        "new_df[\"total_acidity\"] = new_df[\"fixed acidity\"] + new_df[\"volatile acidity\"]\n",
        "new_df['pH_sulphate'] = new_df['pH'] * new_df['sulphates']\n",
        "new_df = new_df.loc[:, selected_features.columns.values.tolist()]\n",
        "new_df.head()"
      ],
      "execution_count": 15,
      "outputs": [
        {
          "output_type": "execute_result",
          "data": {
            "text/html": [
              "<div>\n",
              "<style scoped>\n",
              "    .dataframe tbody tr th:only-of-type {\n",
              "        vertical-align: middle;\n",
              "    }\n",
              "\n",
              "    .dataframe tbody tr th {\n",
              "        vertical-align: top;\n",
              "    }\n",
              "\n",
              "    .dataframe thead th {\n",
              "        text-align: right;\n",
              "    }\n",
              "</style>\n",
              "<table border=\"1\" class=\"dataframe\">\n",
              "  <thead>\n",
              "    <tr style=\"text-align: right;\">\n",
              "      <th></th>\n",
              "      <th>volatile acidity</th>\n",
              "      <th>citric acid</th>\n",
              "      <th>residual sugar</th>\n",
              "      <th>chlorides</th>\n",
              "      <th>free sulfur dioxide</th>\n",
              "      <th>total sulfur dioxide</th>\n",
              "      <th>density</th>\n",
              "      <th>pH</th>\n",
              "      <th>sulphates</th>\n",
              "      <th>alcohol</th>\n",
              "      <th>pH_sulphate</th>\n",
              "    </tr>\n",
              "  </thead>\n",
              "  <tbody>\n",
              "    <tr>\n",
              "      <th>0</th>\n",
              "      <td>0.70</td>\n",
              "      <td>0.00</td>\n",
              "      <td>1.9</td>\n",
              "      <td>0.076</td>\n",
              "      <td>11.0</td>\n",
              "      <td>34.0</td>\n",
              "      <td>0.9978</td>\n",
              "      <td>3.51</td>\n",
              "      <td>0.56</td>\n",
              "      <td>9.4</td>\n",
              "      <td>1.9656</td>\n",
              "    </tr>\n",
              "    <tr>\n",
              "      <th>1</th>\n",
              "      <td>0.88</td>\n",
              "      <td>0.00</td>\n",
              "      <td>2.6</td>\n",
              "      <td>0.098</td>\n",
              "      <td>25.0</td>\n",
              "      <td>67.0</td>\n",
              "      <td>0.9968</td>\n",
              "      <td>3.20</td>\n",
              "      <td>0.68</td>\n",
              "      <td>9.8</td>\n",
              "      <td>2.1760</td>\n",
              "    </tr>\n",
              "    <tr>\n",
              "      <th>2</th>\n",
              "      <td>0.76</td>\n",
              "      <td>0.04</td>\n",
              "      <td>2.3</td>\n",
              "      <td>0.092</td>\n",
              "      <td>15.0</td>\n",
              "      <td>54.0</td>\n",
              "      <td>0.9970</td>\n",
              "      <td>3.26</td>\n",
              "      <td>0.65</td>\n",
              "      <td>9.8</td>\n",
              "      <td>2.1190</td>\n",
              "    </tr>\n",
              "    <tr>\n",
              "      <th>3</th>\n",
              "      <td>0.28</td>\n",
              "      <td>0.56</td>\n",
              "      <td>1.9</td>\n",
              "      <td>0.075</td>\n",
              "      <td>17.0</td>\n",
              "      <td>60.0</td>\n",
              "      <td>0.9980</td>\n",
              "      <td>3.16</td>\n",
              "      <td>0.58</td>\n",
              "      <td>9.8</td>\n",
              "      <td>1.8328</td>\n",
              "    </tr>\n",
              "    <tr>\n",
              "      <th>4</th>\n",
              "      <td>0.70</td>\n",
              "      <td>0.00</td>\n",
              "      <td>1.9</td>\n",
              "      <td>0.076</td>\n",
              "      <td>11.0</td>\n",
              "      <td>34.0</td>\n",
              "      <td>0.9978</td>\n",
              "      <td>3.51</td>\n",
              "      <td>0.56</td>\n",
              "      <td>9.4</td>\n",
              "      <td>1.9656</td>\n",
              "    </tr>\n",
              "  </tbody>\n",
              "</table>\n",
              "</div>"
            ],
            "text/plain": [
              "   volatile acidity  citric acid  ...  alcohol  pH_sulphate\n",
              "0              0.70         0.00  ...      9.4       1.9656\n",
              "1              0.88         0.00  ...      9.8       2.1760\n",
              "2              0.76         0.04  ...      9.8       2.1190\n",
              "3              0.28         0.56  ...      9.8       1.8328\n",
              "4              0.70         0.00  ...      9.4       1.9656\n",
              "\n",
              "[5 rows x 11 columns]"
            ]
          },
          "metadata": {
            "tags": []
          },
          "execution_count": 15
        }
      ]
    },
    {
      "cell_type": "code",
      "metadata": {
        "id": "aOhVwUyFXqpH",
        "colab_type": "code",
        "colab": {}
      },
      "source": [
        "from sklearn.model_selection import train_test_split\n",
        "X_train, X_test, y_train, y_test = train_test_split(new_df, target, test_size=0.25,random_state=0)\n",
        "\n",
        "from sklearn.preprocessing import RobustScaler\n",
        "robust = RobustScaler(quantile_range=(0.25, 0.75))  \n",
        "X_train_scaled = pd.DataFrame(robust.fit_transform(X_train), columns=X_train.columns)\n",
        "X_test_scaled = pd.DataFrame(robust.fit_transform(X_test), columns=X_test.columns)"
      ],
      "execution_count": 0,
      "outputs": []
    },
    {
      "cell_type": "markdown",
      "metadata": {
        "id": "x1GcDLdEV5ka",
        "colab_type": "text"
      },
      "source": [
        "<h2> Ridge Regression</h2>"
      ]
    },
    {
      "cell_type": "markdown",
      "metadata": {
        "id": "74giahn9YFot",
        "colab_type": "text"
      },
      "source": [
        "<h3>Finding the Optimal Regularisation Parameter</h3>"
      ]
    },
    {
      "cell_type": "code",
      "metadata": {
        "id": "Ylgd0cGyXDKB",
        "colab_type": "code",
        "outputId": "cefb9986-fe42-4134-96ef-19729838a0ca",
        "colab": {
          "base_uri": "https://localhost:8080/",
          "height": 34
        }
      },
      "source": [
        "# Finding optimal alpha (penalty parameter) via Cross Validation\n",
        "alphas = 10**np.linspace(10,-2,100)*0.5 \n",
        "ridgecv = RidgeCV(alphas = alphas, scoring = 'neg_mean_squared_error', normalize = True)\n",
        "ridgecv.fit(X_train_scaled, y_train)\n",
        "ridgecv.alpha_"
      ],
      "execution_count": 17,
      "outputs": [
        {
          "output_type": "execute_result",
          "data": {
            "text/plain": [
              "0.005"
            ]
          },
          "metadata": {
            "tags": []
          },
          "execution_count": 17
        }
      ]
    },
    {
      "cell_type": "markdown",
      "metadata": {
        "id": "52qUV0y2X_xc",
        "colab_type": "text"
      },
      "source": [
        "<h3>Training the Ridge Regression model</h3>"
      ]
    },
    {
      "cell_type": "code",
      "metadata": {
        "id": "sIhKRalVX-yc",
        "colab_type": "code",
        "colab": {}
      },
      "source": [
        "rr = Ridge(alpha = ridgecv.alpha_, normalize = True)\n",
        "rr.fit(X_train_scaled, y_train)\n",
        "y_prob = rr.predict(X_test_scaled) \n",
        "y_pred = np.where(y_prob > 0, 1, 0) "
      ],
      "execution_count": 0,
      "outputs": []
    },
    {
      "cell_type": "markdown",
      "metadata": {
        "id": "Ie9c3MzeYeJL",
        "colab_type": "text"
      },
      "source": [
        "<h3>Evaluating Ridge</h3>"
      ]
    },
    {
      "cell_type": "code",
      "metadata": {
        "id": "tIUpwxSmYhC1",
        "colab_type": "code",
        "outputId": "78b0ac39-da83-4c1f-9bbc-f7238b0c25b7",
        "colab": {
          "base_uri": "https://localhost:8080/",
          "height": 204
        }
      },
      "source": [
        "report = classification_report(y_test, y_pred, output_dict = True)\n",
        "report_df = pd.DataFrame(report).transpose()\n",
        "report_df"
      ],
      "execution_count": 19,
      "outputs": [
        {
          "output_type": "execute_result",
          "data": {
            "text/html": [
              "<div>\n",
              "<style scoped>\n",
              "    .dataframe tbody tr th:only-of-type {\n",
              "        vertical-align: middle;\n",
              "    }\n",
              "\n",
              "    .dataframe tbody tr th {\n",
              "        vertical-align: top;\n",
              "    }\n",
              "\n",
              "    .dataframe thead th {\n",
              "        text-align: right;\n",
              "    }\n",
              "</style>\n",
              "<table border=\"1\" class=\"dataframe\">\n",
              "  <thead>\n",
              "    <tr style=\"text-align: right;\">\n",
              "      <th></th>\n",
              "      <th>precision</th>\n",
              "      <th>recall</th>\n",
              "      <th>f1-score</th>\n",
              "      <th>support</th>\n",
              "    </tr>\n",
              "  </thead>\n",
              "  <tbody>\n",
              "    <tr>\n",
              "      <th>False</th>\n",
              "      <td>0.979167</td>\n",
              "      <td>0.529577</td>\n",
              "      <td>0.687386</td>\n",
              "      <td>355.0000</td>\n",
              "    </tr>\n",
              "    <tr>\n",
              "      <th>True</th>\n",
              "      <td>0.197115</td>\n",
              "      <td>0.911111</td>\n",
              "      <td>0.324111</td>\n",
              "      <td>45.0000</td>\n",
              "    </tr>\n",
              "    <tr>\n",
              "      <th>accuracy</th>\n",
              "      <td>0.572500</td>\n",
              "      <td>0.572500</td>\n",
              "      <td>0.572500</td>\n",
              "      <td>0.5725</td>\n",
              "    </tr>\n",
              "    <tr>\n",
              "      <th>macro avg</th>\n",
              "      <td>0.588141</td>\n",
              "      <td>0.720344</td>\n",
              "      <td>0.505748</td>\n",
              "      <td>400.0000</td>\n",
              "    </tr>\n",
              "    <tr>\n",
              "      <th>weighted avg</th>\n",
              "      <td>0.891186</td>\n",
              "      <td>0.572500</td>\n",
              "      <td>0.646517</td>\n",
              "      <td>400.0000</td>\n",
              "    </tr>\n",
              "  </tbody>\n",
              "</table>\n",
              "</div>"
            ],
            "text/plain": [
              "              precision    recall  f1-score   support\n",
              "False          0.979167  0.529577  0.687386  355.0000\n",
              "True           0.197115  0.911111  0.324111   45.0000\n",
              "accuracy       0.572500  0.572500  0.572500    0.5725\n",
              "macro avg      0.588141  0.720344  0.505748  400.0000\n",
              "weighted avg   0.891186  0.572500  0.646517  400.0000"
            ]
          },
          "metadata": {
            "tags": []
          },
          "execution_count": 19
        }
      ]
    },
    {
      "cell_type": "markdown",
      "metadata": {
        "id": "Sh1UKgaBYmdf",
        "colab_type": "text"
      },
      "source": [
        "<h3>ROC & AUC</h3>"
      ]
    },
    {
      "cell_type": "code",
      "metadata": {
        "id": "byARdFG2YluW",
        "colab_type": "code",
        "outputId": "e49552d2-66a3-4894-cbf8-cc9b25771d3a",
        "colab": {
          "base_uri": "https://localhost:8080/",
          "height": 643
        }
      },
      "source": [
        "false_positive_rate, true_positive_rate, thresholds = roc_curve(y_test, y_prob)\n",
        "roc_auc_ridge = auc(false_positive_rate, true_positive_rate)\n",
        "plt.figure(figsize=(10,10))\n",
        "plt.title('Receiver Operating Characteristic')\n",
        "plt.plot(false_positive_rate,true_positive_rate, color='red',label = 'AUC = %0.2f' % roc_auc_ridge)\n",
        "plt.legend(loc = 'lower right')\n",
        "plt.plot([0, 1], [0, 1],linestyle='--', color='black')\n",
        "plt.axis('tight')\n",
        "plt.ylabel('True Positive Rate')\n",
        "plt.xlabel('False Positive Rate')"
      ],
      "execution_count": 20,
      "outputs": [
        {
          "output_type": "execute_result",
          "data": {
            "text/plain": [
              "Text(0.5, 0, 'False Positive Rate')"
            ]
          },
          "metadata": {
            "tags": []
          },
          "execution_count": 20
        },
        {
          "output_type": "display_data",
          "data": {
            "image/png": "[encoded data removed]",
            "text/plain": [
              "<Figure size 720x720 with 1 Axes>"
            ]
          },
          "metadata": {
            "tags": []
          }
        }
      ]
    },
    {
      "cell_type": "markdown",
      "metadata": {
        "colab_type": "text",
        "id": "qv88Q-E8WVwu"
      },
      "source": [
        "<h2> LASSO Regression</h2>\n"
      ]
    },
    {
      "cell_type": "markdown",
      "metadata": {
        "id": "CEx9uVwCZVxA",
        "colab_type": "text"
      },
      "source": [
        "<h3>Training the LASSO Regression Model</h3>"
      ]
    },
    {
      "cell_type": "code",
      "metadata": {
        "id": "OvwOg4n8WX8i",
        "colab_type": "code",
        "colab": {}
      },
      "source": [
        "lasso = Lasso(max_iter = 10000, normalize = True)\n",
        "coefs = []\n",
        "\n",
        "for a in alphas:\n",
        "    lasso.set_params(alpha=a)\n",
        "    lasso.fit(scale(X_train_scaled), y_train)\n",
        "    coefs.append(lasso.coef_)"
      ],
      "execution_count": 0,
      "outputs": []
    },
    {
      "cell_type": "code",
      "metadata": {
        "id": "GppzE6JCZU83",
        "colab_type": "code",
        "colab": {}
      },
      "source": [
        "lassocv = LassoCV(alphas = None, cv = 10, max_iter = 100000, normalize = True)\n",
        "lassocv.fit(X_train_scaled, y_train)\n",
        "lasso.set_params(alpha=lassocv.alpha_)\n",
        "lasso.fit(X_train_scaled, y_train)\n",
        "l_prob = lasso.predict(X_test_scaled) \n",
        "l_pred = np.where(l_prob > 0, 1, 0)  "
      ],
      "execution_count": 0,
      "outputs": []
    },
    {
      "cell_type": "markdown",
      "metadata": {
        "id": "zB8mETwzZw9L",
        "colab_type": "text"
      },
      "source": [
        "<h3>Evaluating LASSO Regression</h3>"
      ]
    },
    {
      "cell_type": "code",
      "metadata": {
        "id": "ZachBSgxZuae",
        "colab_type": "code",
        "outputId": "c87dca98-63bd-4c8e-cee6-3fe8d9c1cb1e",
        "colab": {
          "base_uri": "https://localhost:8080/",
          "height": 204
        }
      },
      "source": [
        "report = classification_report(y_test, l_pred, output_dict = True)\n",
        "report_df_lasso = pd.DataFrame(report).transpose()\n",
        "report_df_lasso"
      ],
      "execution_count": 23,
      "outputs": [
        {
          "output_type": "execute_result",
          "data": {
            "text/html": [
              "<div>\n",
              "<style scoped>\n",
              "    .dataframe tbody tr th:only-of-type {\n",
              "        vertical-align: middle;\n",
              "    }\n",
              "\n",
              "    .dataframe tbody tr th {\n",
              "        vertical-align: top;\n",
              "    }\n",
              "\n",
              "    .dataframe thead th {\n",
              "        text-align: right;\n",
              "    }\n",
              "</style>\n",
              "<table border=\"1\" class=\"dataframe\">\n",
              "  <thead>\n",
              "    <tr style=\"text-align: right;\">\n",
              "      <th></th>\n",
              "      <th>precision</th>\n",
              "      <th>recall</th>\n",
              "      <th>f1-score</th>\n",
              "      <th>support</th>\n",
              "    </tr>\n",
              "  </thead>\n",
              "  <tbody>\n",
              "    <tr>\n",
              "      <th>False</th>\n",
              "      <td>0.979487</td>\n",
              "      <td>0.538028</td>\n",
              "      <td>0.694545</td>\n",
              "      <td>355.00</td>\n",
              "    </tr>\n",
              "    <tr>\n",
              "      <th>True</th>\n",
              "      <td>0.200000</td>\n",
              "      <td>0.911111</td>\n",
              "      <td>0.328000</td>\n",
              "      <td>45.00</td>\n",
              "    </tr>\n",
              "    <tr>\n",
              "      <th>accuracy</th>\n",
              "      <td>0.580000</td>\n",
              "      <td>0.580000</td>\n",
              "      <td>0.580000</td>\n",
              "      <td>0.58</td>\n",
              "    </tr>\n",
              "    <tr>\n",
              "      <th>macro avg</th>\n",
              "      <td>0.589744</td>\n",
              "      <td>0.724570</td>\n",
              "      <td>0.511273</td>\n",
              "      <td>400.00</td>\n",
              "    </tr>\n",
              "    <tr>\n",
              "      <th>weighted avg</th>\n",
              "      <td>0.891795</td>\n",
              "      <td>0.580000</td>\n",
              "      <td>0.653309</td>\n",
              "      <td>400.00</td>\n",
              "    </tr>\n",
              "  </tbody>\n",
              "</table>\n",
              "</div>"
            ],
            "text/plain": [
              "              precision    recall  f1-score  support\n",
              "False          0.979487  0.538028  0.694545   355.00\n",
              "True           0.200000  0.911111  0.328000    45.00\n",
              "accuracy       0.580000  0.580000  0.580000     0.58\n",
              "macro avg      0.589744  0.724570  0.511273   400.00\n",
              "weighted avg   0.891795  0.580000  0.653309   400.00"
            ]
          },
          "metadata": {
            "tags": []
          },
          "execution_count": 23
        }
      ]
    },
    {
      "cell_type": "code",
      "metadata": {
        "id": "rLwCgMM-Zzt0",
        "colab_type": "code",
        "outputId": "cfab60a9-d3d4-4691-b7dc-d5d05d50f82a",
        "colab": {
          "base_uri": "https://localhost:8080/",
          "height": 34
        }
      },
      "source": [
        "false_positive_rate, true_positive_rate, thresholds = roc_curve(y_test, l_prob)\n",
        "roc_auc_lasso = auc(false_positive_rate, true_positive_rate)\n",
        "roc_auc_lasso"
      ],
      "execution_count": 24,
      "outputs": [
        {
          "output_type": "execute_result",
          "data": {
            "text/plain": [
              "0.8503286384976525"
            ]
          },
          "metadata": {
            "tags": []
          },
          "execution_count": 24
        }
      ]
    },
    {
      "cell_type": "code",
      "metadata": {
        "id": "Mw4PxaZjZ19c",
        "colab_type": "code",
        "outputId": "e6757bab-c948-40e2-fce8-d8496f036eba",
        "colab": {
          "base_uri": "https://localhost:8080/",
          "height": 643
        }
      },
      "source": [
        "plt.figure(figsize=(10,10))\n",
        "plt.title('Receiver Operating Characteristic')\n",
        "plt.plot(false_positive_rate,true_positive_rate, color='red',label = 'AUC = %0.2f' % roc_auc_lasso)\n",
        "plt.legend(loc = 'lower right')\n",
        "plt.plot([0, 1], [0, 1],linestyle='--', color='black')\n",
        "plt.axis('tight')\n",
        "plt.ylabel('True Positive Rate')\n",
        "plt.xlabel('False Positive Rate')"
      ],
      "execution_count": 25,
      "outputs": [
        {
          "output_type": "execute_result",
          "data": {
            "text/plain": [
              "Text(0.5, 0, 'False Positive Rate')"
            ]
          },
          "metadata": {
            "tags": []
          },
          "execution_count": 25
        },
        {
          "output_type": "display_data",
          "data": {
            "image/png": "[encoded data removed]",
            "text/plain": [
              "<Figure size 720x720 with 1 Axes>"
            ]
          },
          "metadata": {
            "tags": []
          }
        }
      ]
    },
    {
      "cell_type": "code",
      "metadata": {
        "id": "u6NCke_nZ3d2",
        "colab_type": "code",
        "colab": {}
      },
      "source": [
        ""
      ],
      "execution_count": 0,
      "outputs": []
    }
  ]
}