{
  "nbformat": 4,
  "nbformat_minor": 0,
  "metadata": {
    "colab": {
      "name": "Logistic Regression.ipynb",
      "provenance": [],
      "collapsed_sections": [],
      "authorship_tag": "ABX9TyPLRA4yPaWF2ykRzUYMvkXM",
      "include_colab_link": true
    },
    "kernelspec": {
      "name": "python3",
      "display_name": "Python 3"
    }
  },
  "cells": [
    {
      "cell_type": "markdown",
      "metadata": {
        "id": "view-in-github",
        "colab_type": "text"
      },
      "source": [
        "<a href=\"https://colab.research.google.com/github/ChristopherLiew/Building-A-Generalisable-Red-Wine-Quality-Classifier/blob/master/Logistic_Regression.ipynb\" target=\"_parent\"><img src=\"https://colab.research.google.com/assets/colab-badge.svg\" alt=\"Open In Colab\"/></a>"
      ]
    },
    {
      "cell_type": "markdown",
      "metadata": {
        "id": "1BmvNvx9mnjB",
        "colab_type": "text"
      },
      "source": [
        "<h1>Logistic Regression with & without L2 Regularisation</h1>"
      ]
    },
    {
      "cell_type": "markdown",
      "metadata": {
        "id": "ewlQgaH0ggTt",
        "colab_type": "text"
      },
      "source": [
        "<h2>Import Libraries & Load the Red Wine Quality dataset</h2>"
      ]
    },
    {
      "cell_type": "code",
      "metadata": {
        "id": "mfwHeC-IgbMm",
        "colab_type": "code",
        "colab": {}
      },
      "source": [
        "import pandas as pd\n",
        "import numpy as np\n",
        "import matplotlib.pyplot as plt\n",
        "from sklearn.model_selection import train_test_split\n",
        "from sklearn.linear_model import LogisticRegression, LogisticRegressionCV\n",
        "from sklearn.metrics import classification_report, f1_score\n",
        "from sklearn.model_selection import cross_val_score\n",
        "from sklearn.metrics import roc_curve\n",
        "from sklearn.metrics import roc_auc_score\n",
        "from sklearn.metrics import precision_recall_curve\n",
        "from sklearn.feature_selection import f_classif\n",
        "from sklearn.preprocessing import MinMaxScaler\n",
        "from sklearn.model_selection import train_test_split\n",
        "from sklearn.preprocessing import RobustScaler\n",
        "from sklearn.preprocessing import StandardScaler"
      ],
      "execution_count": 0,
      "outputs": []
    },
    {
      "cell_type": "code",
      "metadata": {
        "id": "J7m6LOabgbXm",
        "colab_type": "code",
        "colab": {
          "base_uri": "https://localhost:8080/",
          "height": 34
        },
        "outputId": "4a68e0d7-19fb-46d3-ffd6-7a84b4b4cc2d"
      },
      "source": [
        "from google.colab import drive \n",
        "drive.mount('/content/gdrive')"
      ],
      "execution_count": 75,
      "outputs": [
        {
          "output_type": "stream",
          "text": [
            "Drive already mounted at /content/gdrive; to attempt to forcibly remount, call drive.mount(\"/content/gdrive\", force_remount=True).\n"
          ],
          "name": "stdout"
        }
      ]
    },
    {
      "cell_type": "code",
      "metadata": {
        "id": "dp3VQslTgz_T",
        "colab_type": "code",
        "colab": {
          "base_uri": "https://localhost:8080/",
          "height": 85
        },
        "outputId": "2440a92b-775f-4d3b-b87f-1a91a0eb6179"
      },
      "source": [
        "wine_df = pd.read_csv(\"/content/gdrive/My Drive/Business Analytics Stuff/BT2101 Group Project/winequality-red.csv\")\n",
        "wine_df.columns"
      ],
      "execution_count": 76,
      "outputs": [
        {
          "output_type": "execute_result",
          "data": {
            "text/plain": [
              "Index(['fixed acidity', 'volatile acidity', 'citric acid', 'residual sugar',\n",
              "       'chlorides', 'free sulfur dioxide', 'total sulfur dioxide', 'density',\n",
              "       'pH', 'sulphates', 'alcohol', 'quality'],\n",
              "      dtype='object')"
            ]
          },
          "metadata": {
            "tags": []
          },
          "execution_count": 76
        }
      ]
    },
    {
      "cell_type": "markdown",
      "metadata": {
        "id": "6Is57kuZg38s",
        "colab_type": "text"
      },
      "source": [
        "<h2>Data Preprocessing</h2>"
      ]
    },
    {
      "cell_type": "code",
      "metadata": {
        "id": "xuyKJ7Q8g7PS",
        "colab_type": "code",
        "colab": {}
      },
      "source": [
        "# Create Binary Target Variable\n",
        "wine_df['good_quality'] = wine_df['quality'] >= 7\n",
        "target = wine_df['good_quality'].astype(int)\n",
        "\n",
        "# Create interaction terms (Domain Knowledge)\n",
        "features_df = wine_df.iloc[:, :-2]\n",
        "scaler = MinMaxScaler()\n",
        "features_df_scaled = pd.DataFrame(scaler.fit_transform(features_df), columns=features_df.columns)\n",
        "features_df_scaled['total_acidity'] = features_df_scaled['volatile acidity'] + features_df_scaled['fixed acidity']\n",
        "features_df_scaled['pH_sulphate'] = features_df_scaled['pH']*features_df_scaled['sulphates']\n",
        "\n",
        "# Feature Selection with ANOVA\n",
        "anova_results = pd.DataFrame(f_classif(features_df_scaled, target), columns=features_df_scaled.columns)\n",
        "p_vals = anova_results.iloc[1,:]\n",
        "selected_features = (p_vals <= 0.05)\n",
        "selected_features = selected_features[selected_features == True]\n",
        "feat = p_vals[p_vals <= 0.05]\n",
        "feat.columns = [\"Selected Features\", \"P-Value\"]\n",
        "\n",
        "# Final unscaled dataset\n",
        "final_df = wine_df.iloc[:, :-2].copy()\n",
        "final_df['total_acidity'] = final_df['volatile acidity'] + final_df['fixed acidity']\n",
        "final_df['pH_sulphate'] = final_df['pH']*final_df['sulphates']\n",
        "final_df = final_df.loc[:, selected_features.index]\n",
        "final_df.head()\n",
        "\n",
        "# Train-Test data\n",
        "X_test, X_train, y_test, y_train = train_test_split(final_df, target, test_size=0.25, random_state=0)"
      ],
      "execution_count": 0,
      "outputs": []
    },
    {
      "cell_type": "markdown",
      "metadata": {
        "id": "Lgp4YjB2gOGi",
        "colab_type": "text"
      },
      "source": [
        "<h2>Logistic Regression CV</h2>"
      ]
    },
    {
      "cell_type": "code",
      "metadata": {
        "id": "yMJs3SEegJmQ",
        "colab_type": "code",
        "colab": {}
      },
      "source": [
        "log_model = LogisticRegressionCV(random_state=0, class_weight=\"balanced\", max_iter=1000)\n",
        "log_model.fit(X_train, y_train)\n",
        "y_pred = log_model.predict(X_test)"
      ],
      "execution_count": 0,
      "outputs": []
    },
    {
      "cell_type": "markdown",
      "metadata": {
        "id": "Z4iAymkWh1tc",
        "colab_type": "text"
      },
      "source": [
        "<h2>Evaluating Logistic Regression</h2>"
      ]
    },
    {
      "cell_type": "markdown",
      "metadata": {
        "id": "1B9yxqqKiQzS",
        "colab_type": "text"
      },
      "source": [
        "<h3>Classification Report</h3>"
      ]
    },
    {
      "cell_type": "code",
      "metadata": {
        "id": "zjMXZWpTh4Rk",
        "colab_type": "code",
        "colab": {
          "base_uri": "https://localhost:8080/",
          "height": 204
        },
        "outputId": "de4b74fe-7cb0-4d61-c27d-359584220500"
      },
      "source": [
        "pd.DataFrame(classification_report(y_test, y_pred, output_dict=True)).transpose()"
      ],
      "execution_count": 79,
      "outputs": [
        {
          "output_type": "execute_result",
          "data": {
            "text/html": [
              "<div>\n",
              "<style scoped>\n",
              "    .dataframe tbody tr th:only-of-type {\n",
              "        vertical-align: middle;\n",
              "    }\n",
              "\n",
              "    .dataframe tbody tr th {\n",
              "        vertical-align: top;\n",
              "    }\n",
              "\n",
              "    .dataframe thead th {\n",
              "        text-align: right;\n",
              "    }\n",
              "</style>\n",
              "<table border=\"1\" class=\"dataframe\">\n",
              "  <thead>\n",
              "    <tr style=\"text-align: right;\">\n",
              "      <th></th>\n",
              "      <th>precision</th>\n",
              "      <th>recall</th>\n",
              "      <th>f1-score</th>\n",
              "      <th>support</th>\n",
              "    </tr>\n",
              "  </thead>\n",
              "  <tbody>\n",
              "    <tr>\n",
              "      <th>0</th>\n",
              "      <td>0.950282</td>\n",
              "      <td>0.818890</td>\n",
              "      <td>0.879707</td>\n",
              "      <td>1027.000000</td>\n",
              "    </tr>\n",
              "    <tr>\n",
              "      <th>1</th>\n",
              "      <td>0.407643</td>\n",
              "      <td>0.744186</td>\n",
              "      <td>0.526749</td>\n",
              "      <td>172.000000</td>\n",
              "    </tr>\n",
              "    <tr>\n",
              "      <th>accuracy</th>\n",
              "      <td>0.808173</td>\n",
              "      <td>0.808173</td>\n",
              "      <td>0.808173</td>\n",
              "      <td>0.808173</td>\n",
              "    </tr>\n",
              "    <tr>\n",
              "      <th>macro avg</th>\n",
              "      <td>0.678963</td>\n",
              "      <td>0.781538</td>\n",
              "      <td>0.703228</td>\n",
              "      <td>1199.000000</td>\n",
              "    </tr>\n",
              "    <tr>\n",
              "      <th>weighted avg</th>\n",
              "      <td>0.872439</td>\n",
              "      <td>0.808173</td>\n",
              "      <td>0.829074</td>\n",
              "      <td>1199.000000</td>\n",
              "    </tr>\n",
              "  </tbody>\n",
              "</table>\n",
              "</div>"
            ],
            "text/plain": [
              "              precision    recall  f1-score      support\n",
              "0              0.950282  0.818890  0.879707  1027.000000\n",
              "1              0.407643  0.744186  0.526749   172.000000\n",
              "accuracy       0.808173  0.808173  0.808173     0.808173\n",
              "macro avg      0.678963  0.781538  0.703228  1199.000000\n",
              "weighted avg   0.872439  0.808173  0.829074  1199.000000"
            ]
          },
          "metadata": {
            "tags": []
          },
          "execution_count": 79
        }
      ]
    },
    {
      "cell_type": "markdown",
      "metadata": {
        "id": "0uwXjbHCkMn9",
        "colab_type": "text"
      },
      "source": [
        "<h3>ROC AUC</h3>"
      ]
    },
    {
      "cell_type": "markdown",
      "metadata": {
        "id": "zFbaWuIemlcX",
        "colab_type": "text"
      },
      "source": [
        ""
      ]
    },
    {
      "cell_type": "code",
      "metadata": {
        "id": "0N66vauqkPFh",
        "colab_type": "code",
        "colab": {
          "base_uri": "https://localhost:8080/",
          "height": 296
        },
        "outputId": "df743285-8904-4c98-a3cb-5d3d2a0d4bb1"
      },
      "source": [
        "# ROC AUC\n",
        "# prediction probabilities\n",
        "log_probs = log_model.predict_proba(X_test)\n",
        "# generate no skill prediction (majority class)\n",
        "ns_probs = [0 for _ in range(len(y_test))]\n",
        "# keep probabilities for the positive outcome only\n",
        "log_probs = log_probs[:, 1]\n",
        "# calculate scores\n",
        "log_auc = roc_auc_score(y_test, log_probs) # AUC = 0.921\n",
        "ns_auc = roc_auc_score(y_test, ns_probs)\n",
        "# summarize scores\n",
        "print('Random Forest AUROC: %.3f' % (log_auc))\n",
        "# calculate ROC curves\n",
        "log_fpr, log_tpr, _ = roc_curve(y_test, log_probs)\n",
        "ns_fpr, ns_tpr, _ = roc_curve(y_test, ns_probs)\n",
        "# plot the ROC curve for the Random Forest Classifier\n",
        "#plt.plot([], [], ' ', label=\"AUROC: 0.921\")\n",
        "plt.plot(log_fpr, log_tpr, marker='.', label='Logistic Regression', color = \"red\")\n",
        "plt.plot(ns_fpr, ns_tpr, linestyle='--', label='No Skill', color = \"black\")\n",
        "# axis labels\n",
        "plt.xlabel('False Positive Rate')\n",
        "plt.ylabel('True Positive Rate')\n",
        "# show the legend\n",
        "plt.legend()\n",
        "# show the plot\n",
        "plt.show()"
      ],
      "execution_count": 80,
      "outputs": [
        {
          "output_type": "stream",
          "text": [
            "Random Forest AUROC: 0.852\n"
          ],
          "name": "stdout"
        },
        {
          "output_type": "display_data",
          "data": {
            "image/png": "[encoded data removed]",
            "text/plain": [
              "<Figure size 432x288 with 1 Axes>"
            ]
          },
          "metadata": {
            "tags": [],
            "needs_background": "light"
          }
        }
      ]
    },
    {
      "cell_type": "markdown",
      "metadata": {
        "id": "j8bvY571k_pt",
        "colab_type": "text"
      },
      "source": [
        "<h3>Precision Recall Curve</h3>"
      ]
    },
    {
      "cell_type": "code",
      "metadata": {
        "id": "NAQRJh6qlCgb",
        "colab_type": "code",
        "colab": {
          "base_uri": "https://localhost:8080/",
          "height": 295
        },
        "outputId": "be26fc57-bc99-4ead-a96b-c1279f8dca1c"
      },
      "source": [
        "log_probs = log_model.predict_proba(X_test)\n",
        "log_probs = log_probs[:, 1] # Keep probability predictions for good quality (=1) class only\n",
        "precisions, recalls, _ = precision_recall_curve(y_test, log_probs)\n",
        "\n",
        "# Plot PR-Curve\n",
        "no_skill = len(y_test[y_test==1]) / len(y_test)\n",
        "plt.plot([0, 1], [no_skill, no_skill], linestyle='--', label='No Skill')\n",
        "plt.plot(recalls, precisions, marker='.', label='Logistic Regression')\n",
        "# axis labels\n",
        "plt.xlabel('Recall')\n",
        "plt.ylabel('Precision')\n",
        "# show the legend\n",
        "plt.legend()\n",
        "# annotate optimised model's recall and precision\n",
        "# Title\n",
        "plt.title(\"Precision Recall Curve of Logistic Regression\")\n",
        "# show the plot\n",
        "plt.show()"
      ],
      "execution_count": 81,
      "outputs": [
        {
          "output_type": "display_data",
          "data": {
            "image/png": "[encoded data removed]",
            "text/plain": [
              "<Figure size 432x288 with 1 Axes>"
            ]
          },
          "metadata": {
            "tags": [],
            "needs_background": "light"
          }
        }
      ]
    },
    {
      "cell_type": "markdown",
      "metadata": {
        "id": "a17_545JgWFD",
        "colab_type": "text"
      },
      "source": [
        "<h2>Regularised Logistic Regression</h2>"
      ]
    },
    {
      "cell_type": "code",
      "metadata": {
        "id": "JARxRJ7xgRCW",
        "colab_type": "code",
        "colab": {}
      },
      "source": [
        "log_model_reg = LogisticRegressionCV(random_state=0, class_weight=\"balanced\", max_iter=1000, penalty='l2') # Ridge since Shrinkage not needed given VIF \n",
        "log_model_reg.fit(X_train, y_train)\n",
        "y_pred_reg = log_model_reg.predict(X_test)"
      ],
      "execution_count": 0,
      "outputs": []
    },
    {
      "cell_type": "markdown",
      "metadata": {
        "id": "IlecYXrYj16W",
        "colab_type": "text"
      },
      "source": [
        "<h2>Classification Report</h2>"
      ]
    },
    {
      "cell_type": "code",
      "metadata": {
        "id": "t6vchjyLj0Qu",
        "colab_type": "code",
        "colab": {
          "base_uri": "https://localhost:8080/",
          "height": 204
        },
        "outputId": "30cf9cc5-8479-47f7-a33b-c19b03d9cc14"
      },
      "source": [
        "pd.DataFrame(classification_report(y_test, y_pred_reg, output_dict=True)).transpose()"
      ],
      "execution_count": 83,
      "outputs": [
        {
          "output_type": "execute_result",
          "data": {
            "text/html": [
              "<div>\n",
              "<style scoped>\n",
              "    .dataframe tbody tr th:only-of-type {\n",
              "        vertical-align: middle;\n",
              "    }\n",
              "\n",
              "    .dataframe tbody tr th {\n",
              "        vertical-align: top;\n",
              "    }\n",
              "\n",
              "    .dataframe thead th {\n",
              "        text-align: right;\n",
              "    }\n",
              "</style>\n",
              "<table border=\"1\" class=\"dataframe\">\n",
              "  <thead>\n",
              "    <tr style=\"text-align: right;\">\n",
              "      <th></th>\n",
              "      <th>precision</th>\n",
              "      <th>recall</th>\n",
              "      <th>f1-score</th>\n",
              "      <th>support</th>\n",
              "    </tr>\n",
              "  </thead>\n",
              "  <tbody>\n",
              "    <tr>\n",
              "      <th>0</th>\n",
              "      <td>0.950282</td>\n",
              "      <td>0.818890</td>\n",
              "      <td>0.879707</td>\n",
              "      <td>1027.000000</td>\n",
              "    </tr>\n",
              "    <tr>\n",
              "      <th>1</th>\n",
              "      <td>0.407643</td>\n",
              "      <td>0.744186</td>\n",
              "      <td>0.526749</td>\n",
              "      <td>172.000000</td>\n",
              "    </tr>\n",
              "    <tr>\n",
              "      <th>accuracy</th>\n",
              "      <td>0.808173</td>\n",
              "      <td>0.808173</td>\n",
              "      <td>0.808173</td>\n",
              "      <td>0.808173</td>\n",
              "    </tr>\n",
              "    <tr>\n",
              "      <th>macro avg</th>\n",
              "      <td>0.678963</td>\n",
              "      <td>0.781538</td>\n",
              "      <td>0.703228</td>\n",
              "      <td>1199.000000</td>\n",
              "    </tr>\n",
              "    <tr>\n",
              "      <th>weighted avg</th>\n",
              "      <td>0.872439</td>\n",
              "      <td>0.808173</td>\n",
              "      <td>0.829074</td>\n",
              "      <td>1199.000000</td>\n",
              "    </tr>\n",
              "  </tbody>\n",
              "</table>\n",
              "</div>"
            ],
            "text/plain": [
              "              precision    recall  f1-score      support\n",
              "0              0.950282  0.818890  0.879707  1027.000000\n",
              "1              0.407643  0.744186  0.526749   172.000000\n",
              "accuracy       0.808173  0.808173  0.808173     0.808173\n",
              "macro avg      0.678963  0.781538  0.703228  1199.000000\n",
              "weighted avg   0.872439  0.808173  0.829074  1199.000000"
            ]
          },
          "metadata": {
            "tags": []
          },
          "execution_count": 83
        }
      ]
    },
    {
      "cell_type": "markdown",
      "metadata": {
        "id": "hu2-6hfNkub9",
        "colab_type": "text"
      },
      "source": [
        "<h3>ROC AUC</h3>"
      ]
    },
    {
      "cell_type": "code",
      "metadata": {
        "id": "47n6oEUWkwn-",
        "colab_type": "code",
        "colab": {
          "base_uri": "https://localhost:8080/",
          "height": 296
        },
        "outputId": "a92da207-cf0b-4328-9f01-f5746d3f63e3"
      },
      "source": [
        "# ROC AUC\n",
        "# prediction probabilities\n",
        "log_probs = log_model_reg.predict_proba(X_test)\n",
        "# generate no skill prediction (majority class)\n",
        "ns_probs = [0 for _ in range(len(y_test))]\n",
        "# keep probabilities for the positive outcome only\n",
        "log_probs = log_probs[:, 1]\n",
        "# calculate scores\n",
        "log_auc = roc_auc_score(y_test, log_probs) # AUC = 0.921\n",
        "ns_auc = roc_auc_score(y_test, ns_probs)\n",
        "# summarize scores\n",
        "print('Random Forest AUROC: %.3f' % (log_auc))\n",
        "# calculate ROC curves\n",
        "log_fpr, log_tpr, _ = roc_curve(y_test, log_probs)\n",
        "ns_fpr, ns_tpr, _ = roc_curve(y_test, ns_probs)\n",
        "# plot the ROC curve for the Random Forest Classifier\n",
        "#plt.plot([], [], ' ', label=\"AUROC: 0.921\")\n",
        "plt.plot(log_fpr, log_tpr, marker='.', label='Regularised Logistic Regression', color = \"red\")\n",
        "plt.plot(ns_fpr, ns_tpr, linestyle='--', label='No Skill', color = \"black\")\n",
        "# axis labels\n",
        "plt.xlabel('False Positive Rate')\n",
        "plt.ylabel('True Positive Rate')\n",
        "# show the legend\n",
        "plt.legend()\n",
        "# show the plot\n",
        "plt.show()"
      ],
      "execution_count": 84,
      "outputs": [
        {
          "output_type": "stream",
          "text": [
            "Random Forest AUROC: 0.852\n"
          ],
          "name": "stdout"
        },
        {
          "output_type": "display_data",
          "data": {
            "image/png": "[encoded data removed]",
            "text/plain": [
              "<Figure size 432x288 with 1 Axes>"
            ]
          },
          "metadata": {
            "tags": [],
            "needs_background": "light"
          }
        }
      ]
    },
    {
      "cell_type": "markdown",
      "metadata": {
        "id": "4Du3EX_jkFFn",
        "colab_type": "text"
      },
      "source": [
        "<h3>No difference in results with regularisation</h3>"
      ]
    }
  ]
}