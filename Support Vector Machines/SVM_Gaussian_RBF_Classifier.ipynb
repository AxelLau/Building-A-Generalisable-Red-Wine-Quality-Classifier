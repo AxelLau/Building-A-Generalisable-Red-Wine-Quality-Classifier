{
  "nbformat": 4,
  "nbformat_minor": 0,
  "metadata": {
    "colab": {
      "name": "Gaussian_SVM_FINAL_2.ipynb",
      "provenance": [],
      "collapsed_sections": [],
      "include_colab_link": true
    },
    "kernelspec": {
      "display_name": "Python 3",
      "language": "python",
      "name": "python3"
    },
    "language_info": {
      "codemirror_mode": {
        "name": "ipython",
        "version": 3
      },
      "file_extension": ".py",
      "mimetype": "text/x-python",
      "name": "python",
      "nbconvert_exporter": "python",
      "pygments_lexer": "ipython3",
      "version": "3.7.3"
    }
  },
  "cells": [
    {
      "cell_type": "markdown",
      "metadata": {
        "id": "view-in-github",
        "colab_type": "text"
      },
      "source": [
        "<a href=\"https://colab.research.google.com/github/ChristopherLiew/Building-A-Generalisable-Red-Wine-Quality-Classifier/blob/master/SVM_Gaussian_RBF_Classifier.ipynb\" target=\"_parent\"><img src=\"https://colab.research.google.com/assets/colab-badge.svg\" alt=\"Open In Colab\"/></a>"
      ]
    },
    {
      "cell_type": "code",
      "metadata": {
        "colab_type": "code",
        "id": "uh-QTcIewsVa",
        "colab": {}
      },
      "source": [
        "import pandas as pd\n",
        "import numpy as np\n",
        "from sklearn.metrics import *\n",
        "from sklearn.model_selection import *\n",
        "from sklearn.feature_selection import f_classif\n",
        "from imblearn.over_sampling import SMOTE \n",
        "from sklearn.preprocessing import MinMaxScaler\n",
        "from sklearn.model_selection import cross_val_score"
      ],
      "execution_count": 0,
      "outputs": []
    },
    {
      "cell_type": "code",
      "metadata": {
        "id": "NhVIg6NCI6H3",
        "colab_type": "code",
        "outputId": "5e3b885b-b288-42af-9e68-038d83f59593",
        "colab": {
          "base_uri": "https://localhost:8080/",
          "height": 35
        }
      },
      "source": [
        "from google.colab import drive \n",
        "drive.mount('/content/gdrive')"
      ],
      "execution_count": 29,
      "outputs": [
        {
          "output_type": "stream",
          "text": [
            "Drive already mounted at /content/gdrive; to attempt to forcibly remount, call drive.mount(\"/content/gdrive\", force_remount=True).\n"
          ],
          "name": "stdout"
        }
      ]
    },
    {
      "cell_type": "code",
      "metadata": {
        "colab_type": "code",
        "id": "LqEk_HAOwsVg",
        "colab": {}
      },
      "source": [
        "##change this part to the drive location\n",
        "wine_df = pd.read_csv(\"/content/gdrive/My Drive/Business Analytics Stuff/BT2101 Group Project/winequality-red.csv\")"
      ],
      "execution_count": 0,
      "outputs": []
    },
    {
      "cell_type": "markdown",
      "metadata": {
        "id": "2GYsbbWYI2Ka",
        "colab_type": "text"
      },
      "source": [
        "<h2> Using ANOVA for feature selection </h2>"
      ]
    },
    {
      "cell_type": "code",
      "metadata": {
        "id": "5ZeEiAQuI2Kc",
        "colab_type": "code",
        "colab": {
          "base_uri": "https://localhost:8080/",
          "height": 198
        },
        "outputId": "cdea2f53-a068-466f-a19d-3a298f2ce96a"
      },
      "source": [
        "# Create Binary Target Variable\n",
        "wine_df['good_quality'] = wine_df['quality'] > 6\n",
        "target = wine_df['good_quality'].astype(int)\n",
        "\n",
        "# Create interaction terms\n",
        "features_df = wine_df.iloc[:, :-2]\n",
        "scaler = MinMaxScaler()\n",
        "features_df_scaled = pd.DataFrame(scaler.fit_transform(features_df), columns=features_df.columns)\n",
        "features_df_scaled['total_acidity'] = features_df_scaled['volatile acidity'] + features_df_scaled['fixed acidity']\n",
        "features_df_scaled['pH_sulphate'] = features_df_scaled['pH']*features_df_scaled['sulphates']\n",
        "\n",
        "# Feature Selection with ANOVA\n",
        "anova_results = pd.DataFrame(f_classif(features_df_scaled, target), columns=features_df_scaled.columns)\n",
        "p_vals = anova_results.iloc[1,:]\n",
        "f_score = anova_results.iloc[0,:]\n",
        "selected_features = (p_vals <= 0.05)\n",
        "selected_features = selected_features[selected_features == True]\n",
        "feat = p_vals[p_vals <= 0.05]\n",
        "feat.columns = [\"Selected Features\", \"P-Value\"]\n",
        "\n",
        "# Final unscaled dataset\n",
        "final_df = wine_df.iloc[:, :-2].copy()\n",
        "final_df['total_acidity'] = final_df['volatile acidity'] + final_df['fixed acidity']\n",
        "final_df['pH_sulphate'] = final_df['pH']*final_df['sulphates']\n",
        "final_df = final_df.loc[:, selected_features.index]\n",
        "final_df.head(5)"
      ],
      "execution_count": 31,
      "outputs": [
        {
          "output_type": "execute_result",
          "data": {
            "text/html": [
              "<div>\n",
              "<style scoped>\n",
              "    .dataframe tbody tr th:only-of-type {\n",
              "        vertical-align: middle;\n",
              "    }\n",
              "\n",
              "    .dataframe tbody tr th {\n",
              "        vertical-align: top;\n",
              "    }\n",
              "\n",
              "    .dataframe thead th {\n",
              "        text-align: right;\n",
              "    }\n",
              "</style>\n",
              "<table border=\"1\" class=\"dataframe\">\n",
              "  <thead>\n",
              "    <tr style=\"text-align: right;\">\n",
              "      <th></th>\n",
              "      <th>fixed acidity</th>\n",
              "      <th>volatile acidity</th>\n",
              "      <th>citric acid</th>\n",
              "      <th>chlorides</th>\n",
              "      <th>free sulfur dioxide</th>\n",
              "      <th>total sulfur dioxide</th>\n",
              "      <th>density</th>\n",
              "      <th>pH</th>\n",
              "      <th>sulphates</th>\n",
              "      <th>alcohol</th>\n",
              "      <th>total_acidity</th>\n",
              "      <th>pH_sulphate</th>\n",
              "    </tr>\n",
              "  </thead>\n",
              "  <tbody>\n",
              "    <tr>\n",
              "      <th>0</th>\n",
              "      <td>7.4</td>\n",
              "      <td>0.70</td>\n",
              "      <td>0.00</td>\n",
              "      <td>0.076</td>\n",
              "      <td>11.0</td>\n",
              "      <td>34.0</td>\n",
              "      <td>0.9978</td>\n",
              "      <td>3.51</td>\n",
              "      <td>0.56</td>\n",
              "      <td>9.4</td>\n",
              "      <td>8.10</td>\n",
              "      <td>1.9656</td>\n",
              "    </tr>\n",
              "    <tr>\n",
              "      <th>1</th>\n",
              "      <td>7.8</td>\n",
              "      <td>0.88</td>\n",
              "      <td>0.00</td>\n",
              "      <td>0.098</td>\n",
              "      <td>25.0</td>\n",
              "      <td>67.0</td>\n",
              "      <td>0.9968</td>\n",
              "      <td>3.20</td>\n",
              "      <td>0.68</td>\n",
              "      <td>9.8</td>\n",
              "      <td>8.68</td>\n",
              "      <td>2.1760</td>\n",
              "    </tr>\n",
              "    <tr>\n",
              "      <th>2</th>\n",
              "      <td>7.8</td>\n",
              "      <td>0.76</td>\n",
              "      <td>0.04</td>\n",
              "      <td>0.092</td>\n",
              "      <td>15.0</td>\n",
              "      <td>54.0</td>\n",
              "      <td>0.9970</td>\n",
              "      <td>3.26</td>\n",
              "      <td>0.65</td>\n",
              "      <td>9.8</td>\n",
              "      <td>8.56</td>\n",
              "      <td>2.1190</td>\n",
              "    </tr>\n",
              "    <tr>\n",
              "      <th>3</th>\n",
              "      <td>11.2</td>\n",
              "      <td>0.28</td>\n",
              "      <td>0.56</td>\n",
              "      <td>0.075</td>\n",
              "      <td>17.0</td>\n",
              "      <td>60.0</td>\n",
              "      <td>0.9980</td>\n",
              "      <td>3.16</td>\n",
              "      <td>0.58</td>\n",
              "      <td>9.8</td>\n",
              "      <td>11.48</td>\n",
              "      <td>1.8328</td>\n",
              "    </tr>\n",
              "    <tr>\n",
              "      <th>4</th>\n",
              "      <td>7.4</td>\n",
              "      <td>0.70</td>\n",
              "      <td>0.00</td>\n",
              "      <td>0.076</td>\n",
              "      <td>11.0</td>\n",
              "      <td>34.0</td>\n",
              "      <td>0.9978</td>\n",
              "      <td>3.51</td>\n",
              "      <td>0.56</td>\n",
              "      <td>9.4</td>\n",
              "      <td>8.10</td>\n",
              "      <td>1.9656</td>\n",
              "    </tr>\n",
              "  </tbody>\n",
              "</table>\n",
              "</div>"
            ],
            "text/plain": [
              "   fixed acidity  volatile acidity  ...  total_acidity  pH_sulphate\n",
              "0            7.4              0.70  ...           8.10       1.9656\n",
              "1            7.8              0.88  ...           8.68       2.1760\n",
              "2            7.8              0.76  ...           8.56       2.1190\n",
              "3           11.2              0.28  ...          11.48       1.8328\n",
              "4            7.4              0.70  ...           8.10       1.9656\n",
              "\n",
              "[5 rows x 12 columns]"
            ]
          },
          "metadata": {
            "tags": []
          },
          "execution_count": 31
        }
      ]
    },
    {
      "cell_type": "code",
      "metadata": {
        "id": "ocySA0e1I2Kk",
        "colab_type": "code",
        "colab": {}
      },
      "source": [
        "# Train-Test data\n",
        "from sklearn.model_selection import train_test_split\n",
        "X_train, X_test, y_train, y_test = train_test_split(final_df, target, test_size=0.25, random_state=0)\n",
        "\n",
        "# Scale the datasets independently\n",
        "from sklearn.preprocessing import RobustScaler\n",
        "rob_scaler = RobustScaler()\n",
        "X_test_sc = pd.DataFrame(rob_scaler.fit_transform(X_test), columns=X_test.columns)\n",
        "X_train_sc = pd.DataFrame(rob_scaler.fit_transform(X_train), columns=X_train.columns)\n"
      ],
      "execution_count": 0,
      "outputs": []
    },
    {
      "cell_type": "markdown",
      "metadata": {
        "id": "yo0kFej-I2K2",
        "colab_type": "text"
      },
      "source": [
        "<h2> Normalising & Scaling the Train and Test datasets </h2>"
      ]
    },
    {
      "cell_type": "code",
      "metadata": {
        "id": "1Yq8BpuZI2K3",
        "colab_type": "code",
        "colab": {}
      },
      "source": [
        "from sklearn.preprocessing import RobustScaler\n",
        "robust = RobustScaler(quantile_range=(0.1, 0.9))  # initialise with quantile range between 10% and 90%\n",
        "X_train_scaled = pd.DataFrame(robust.fit_transform(X_train), columns=X_train.columns)\n",
        "X_test_scaled = pd.DataFrame(robust.fit_transform(X_test), columns=X_test.columns)\n"
      ],
      "execution_count": 0,
      "outputs": []
    },
    {
      "cell_type": "code",
      "metadata": {
        "id": "mU1HAqK8I2K6",
        "colab_type": "code",
        "colab": {}
      },
      "source": [
        "from sklearn import preprocessing\n",
        "scaler = preprocessing.StandardScaler()\n",
        "norm_train_df = pd.DataFrame(scaler.fit_transform(X_train_scaled), columns=X_train_scaled.columns)\n",
        "norm_test_df = pd.DataFrame(scaler.fit_transform(X_test_scaled), columns=X_test_scaled.columns)\n"
      ],
      "execution_count": 0,
      "outputs": []
    },
    {
      "cell_type": "code",
      "metadata": {
        "id": "M0cUxr5NI2K9",
        "colab_type": "code",
        "colab": {
          "base_uri": "https://localhost:8080/",
          "height": 348
        },
        "outputId": "7d3860ad-f926-46ac-9cf3-bd421a8325ba"
      },
      "source": [
        "#peek at normalised data\n",
        "norm_train_df.head(10)"
      ],
      "execution_count": 38,
      "outputs": [
        {
          "output_type": "execute_result",
          "data": {
            "text/html": [
              "<div>\n",
              "<style scoped>\n",
              "    .dataframe tbody tr th:only-of-type {\n",
              "        vertical-align: middle;\n",
              "    }\n",
              "\n",
              "    .dataframe tbody tr th {\n",
              "        vertical-align: top;\n",
              "    }\n",
              "\n",
              "    .dataframe thead th {\n",
              "        text-align: right;\n",
              "    }\n",
              "</style>\n",
              "<table border=\"1\" class=\"dataframe\">\n",
              "  <thead>\n",
              "    <tr style=\"text-align: right;\">\n",
              "      <th></th>\n",
              "      <th>fixed acidity</th>\n",
              "      <th>volatile acidity</th>\n",
              "      <th>citric acid</th>\n",
              "      <th>chlorides</th>\n",
              "      <th>free sulfur dioxide</th>\n",
              "      <th>total sulfur dioxide</th>\n",
              "      <th>density</th>\n",
              "      <th>pH</th>\n",
              "      <th>sulphates</th>\n",
              "      <th>alcohol</th>\n",
              "      <th>total_acidity</th>\n",
              "      <th>pH_sulphate</th>\n",
              "    </tr>\n",
              "  </thead>\n",
              "  <tbody>\n",
              "    <tr>\n",
              "      <th>0</th>\n",
              "      <td>0.035701</td>\n",
              "      <td>1.170139</td>\n",
              "      <td>-0.827972</td>\n",
              "      <td>0.057636</td>\n",
              "      <td>-0.012496</td>\n",
              "      <td>0.459864</td>\n",
              "      <td>-0.136917</td>\n",
              "      <td>-0.770684</td>\n",
              "      <td>0.911952</td>\n",
              "      <td>-0.756601</td>\n",
              "      <td>0.163204</td>\n",
              "      <td>0.805975</td>\n",
              "    </tr>\n",
              "    <tr>\n",
              "      <th>1</th>\n",
              "      <td>-0.425194</td>\n",
              "      <td>-0.547349</td>\n",
              "      <td>0.097514</td>\n",
              "      <td>-0.254119</td>\n",
              "      <td>0.270206</td>\n",
              "      <td>0.548141</td>\n",
              "      <td>0.224783</td>\n",
              "      <td>0.590788</td>\n",
              "      <td>-0.106087</td>\n",
              "      <td>-0.850481</td>\n",
              "      <td>-0.494732</td>\n",
              "      <td>0.003665</td>\n",
              "    </tr>\n",
              "    <tr>\n",
              "      <th>2</th>\n",
              "      <td>0.035701</td>\n",
              "      <td>0.161456</td>\n",
              "      <td>-1.187883</td>\n",
              "      <td>-0.108633</td>\n",
              "      <td>-0.577901</td>\n",
              "      <td>-0.746586</td>\n",
              "      <td>0.448185</td>\n",
              "      <td>-0.576188</td>\n",
              "      <td>-1.237242</td>\n",
              "      <td>-0.756601</td>\n",
              "      <td>0.054040</td>\n",
              "      <td>-1.381315</td>\n",
              "    </tr>\n",
              "    <tr>\n",
              "      <th>3</th>\n",
              "      <td>-0.886090</td>\n",
              "      <td>1.388233</td>\n",
              "      <td>-1.393547</td>\n",
              "      <td>0.348608</td>\n",
              "      <td>-0.200965</td>\n",
              "      <td>-0.511181</td>\n",
              "      <td>-0.083726</td>\n",
              "      <td>1.368771</td>\n",
              "      <td>-0.615107</td>\n",
              "      <td>0.276081</td>\n",
              "      <td>-0.757316</td>\n",
              "      <td>-0.434158</td>\n",
              "    </tr>\n",
              "    <tr>\n",
              "      <th>4</th>\n",
              "      <td>-0.598030</td>\n",
              "      <td>-0.438302</td>\n",
              "      <td>0.457426</td>\n",
              "      <td>-0.274903</td>\n",
              "      <td>-0.389433</td>\n",
              "      <td>1.166079</td>\n",
              "      <td>0.554568</td>\n",
              "      <td>0.136964</td>\n",
              "      <td>0.968510</td>\n",
              "      <td>0.088321</td>\n",
              "      <td>-0.659954</td>\n",
              "      <td>1.076148</td>\n",
              "    </tr>\n",
              "    <tr>\n",
              "      <th>5</th>\n",
              "      <td>0.899880</td>\n",
              "      <td>0.543120</td>\n",
              "      <td>-0.159565</td>\n",
              "      <td>-0.212552</td>\n",
              "      <td>-0.954838</td>\n",
              "      <td>-0.422904</td>\n",
              "      <td>0.341803</td>\n",
              "      <td>-1.419004</td>\n",
              "      <td>-0.501991</td>\n",
              "      <td>-0.944361</td>\n",
              "      <td>0.980460</td>\n",
              "      <td>-0.752857</td>\n",
              "    </tr>\n",
              "    <tr>\n",
              "      <th>6</th>\n",
              "      <td>-1.404597</td>\n",
              "      <td>0.106932</td>\n",
              "      <td>-0.879388</td>\n",
              "      <td>-0.524307</td>\n",
              "      <td>2.154889</td>\n",
              "      <td>0.106757</td>\n",
              "      <td>-0.870955</td>\n",
              "      <td>1.368771</td>\n",
              "      <td>0.572606</td>\n",
              "      <td>0.745482</td>\n",
              "      <td>-1.427054</td>\n",
              "      <td>0.914336</td>\n",
              "    </tr>\n",
              "    <tr>\n",
              "      <th>7</th>\n",
              "      <td>0.496597</td>\n",
              "      <td>-0.929013</td>\n",
              "      <td>0.354594</td>\n",
              "      <td>-0.524307</td>\n",
              "      <td>-1.049072</td>\n",
              "      <td>-1.040842</td>\n",
              "      <td>-0.046492</td>\n",
              "      <td>-0.705852</td>\n",
              "      <td>0.063586</td>\n",
              "      <td>0.088321</td>\n",
              "      <td>0.408086</td>\n",
              "      <td>-0.054712</td>\n",
              "    </tr>\n",
              "    <tr>\n",
              "      <th>8</th>\n",
              "      <td>-0.309971</td>\n",
              "      <td>0.488596</td>\n",
              "      <td>-1.136467</td>\n",
              "      <td>-0.170984</td>\n",
              "      <td>-0.954838</td>\n",
              "      <td>-0.864288</td>\n",
              "      <td>0.315207</td>\n",
              "      <td>-0.122364</td>\n",
              "      <td>-0.162645</td>\n",
              "      <td>-1.038241</td>\n",
              "      <td>-0.264602</td>\n",
              "      <td>-0.184782</td>\n",
              "    </tr>\n",
              "    <tr>\n",
              "      <th>9</th>\n",
              "      <td>-0.886090</td>\n",
              "      <td>0.325026</td>\n",
              "      <td>-1.085051</td>\n",
              "      <td>-0.565874</td>\n",
              "      <td>-0.483667</td>\n",
              "      <td>-0.864288</td>\n",
              "      <td>-0.296491</td>\n",
              "      <td>0.655620</td>\n",
              "      <td>-0.388876</td>\n",
              "      <td>0.369962</td>\n",
              "      <td>-0.872381</td>\n",
              "      <td>-0.295697</td>\n",
              "    </tr>\n",
              "  </tbody>\n",
              "</table>\n",
              "</div>"
            ],
            "text/plain": [
              "   fixed acidity  volatile acidity  ...  total_acidity  pH_sulphate\n",
              "0       0.035701          1.170139  ...       0.163204     0.805975\n",
              "1      -0.425194         -0.547349  ...      -0.494732     0.003665\n",
              "2       0.035701          0.161456  ...       0.054040    -1.381315\n",
              "3      -0.886090          1.388233  ...      -0.757316    -0.434158\n",
              "4      -0.598030         -0.438302  ...      -0.659954     1.076148\n",
              "5       0.899880          0.543120  ...       0.980460    -0.752857\n",
              "6      -1.404597          0.106932  ...      -1.427054     0.914336\n",
              "7       0.496597         -0.929013  ...       0.408086    -0.054712\n",
              "8      -0.309971          0.488596  ...      -0.264602    -0.184782\n",
              "9      -0.886090          0.325026  ...      -0.872381    -0.295697\n",
              "\n",
              "[10 rows x 12 columns]"
            ]
          },
          "metadata": {
            "tags": []
          },
          "execution_count": 38
        }
      ]
    },
    {
      "cell_type": "code",
      "metadata": {
        "id": "WH0J8UQpI2LA",
        "colab_type": "code",
        "colab": {
          "base_uri": "https://localhost:8080/",
          "height": 348
        },
        "outputId": "3657aa02-6886-4fed-b200-dbc0c201f36e"
      },
      "source": [
        "norm_test_df.head(10)"
      ],
      "execution_count": 39,
      "outputs": [
        {
          "output_type": "execute_result",
          "data": {
            "text/html": [
              "<div>\n",
              "<style scoped>\n",
              "    .dataframe tbody tr th:only-of-type {\n",
              "        vertical-align: middle;\n",
              "    }\n",
              "\n",
              "    .dataframe tbody tr th {\n",
              "        vertical-align: top;\n",
              "    }\n",
              "\n",
              "    .dataframe thead th {\n",
              "        text-align: right;\n",
              "    }\n",
              "</style>\n",
              "<table border=\"1\" class=\"dataframe\">\n",
              "  <thead>\n",
              "    <tr style=\"text-align: right;\">\n",
              "      <th></th>\n",
              "      <th>fixed acidity</th>\n",
              "      <th>volatile acidity</th>\n",
              "      <th>citric acid</th>\n",
              "      <th>chlorides</th>\n",
              "      <th>free sulfur dioxide</th>\n",
              "      <th>total sulfur dioxide</th>\n",
              "      <th>density</th>\n",
              "      <th>pH</th>\n",
              "      <th>sulphates</th>\n",
              "      <th>alcohol</th>\n",
              "      <th>total_acidity</th>\n",
              "      <th>pH_sulphate</th>\n",
              "    </tr>\n",
              "  </thead>\n",
              "  <tbody>\n",
              "    <tr>\n",
              "      <th>0</th>\n",
              "      <td>1.445794</td>\n",
              "      <td>-0.304042</td>\n",
              "      <td>0.814401</td>\n",
              "      <td>1.895162</td>\n",
              "      <td>1.197176</td>\n",
              "      <td>0.762305</td>\n",
              "      <td>0.779197</td>\n",
              "      <td>-0.957272</td>\n",
              "      <td>0.714156</td>\n",
              "      <td>0.306234</td>\n",
              "      <td>1.438163</td>\n",
              "      <td>0.502211</td>\n",
              "    </tr>\n",
              "    <tr>\n",
              "      <th>1</th>\n",
              "      <td>-0.093801</td>\n",
              "      <td>1.818945</td>\n",
              "      <td>-1.385300</td>\n",
              "      <td>0.155956</td>\n",
              "      <td>-1.016556</td>\n",
              "      <td>-1.019862</td>\n",
              "      <td>0.957542</td>\n",
              "      <td>0.273113</td>\n",
              "      <td>-0.870178</td>\n",
              "      <td>-0.821441</td>\n",
              "      <td>0.078335</td>\n",
              "      <td>-0.841156</td>\n",
              "    </tr>\n",
              "    <tr>\n",
              "      <th>2</th>\n",
              "      <td>0.476419</td>\n",
              "      <td>-1.395864</td>\n",
              "      <td>0.302843</td>\n",
              "      <td>-0.576341</td>\n",
              "      <td>-0.211562</td>\n",
              "      <td>-0.574320</td>\n",
              "      <td>-0.815417</td>\n",
              "      <td>-0.374458</td>\n",
              "      <td>1.265228</td>\n",
              "      <td>1.151990</td>\n",
              "      <td>0.350301</td>\n",
              "      <td>1.205961</td>\n",
              "    </tr>\n",
              "    <tr>\n",
              "      <th>3</th>\n",
              "      <td>1.103662</td>\n",
              "      <td>0.757452</td>\n",
              "      <td>0.456310</td>\n",
              "      <td>-0.805183</td>\n",
              "      <td>-1.016556</td>\n",
              "      <td>-1.019862</td>\n",
              "      <td>0.779197</td>\n",
              "      <td>-0.957272</td>\n",
              "      <td>-1.627903</td>\n",
              "      <td>-0.445549</td>\n",
              "      <td>1.192237</td>\n",
              "      <td>-1.801864</td>\n",
              "    </tr>\n",
              "    <tr>\n",
              "      <th>4</th>\n",
              "      <td>2.244103</td>\n",
              "      <td>-0.425356</td>\n",
              "      <td>1.121336</td>\n",
              "      <td>-0.301729</td>\n",
              "      <td>-1.217804</td>\n",
              "      <td>-1.294042</td>\n",
              "      <td>0.097290</td>\n",
              "      <td>-1.216301</td>\n",
              "      <td>-0.181337</td>\n",
              "      <td>-0.069657</td>\n",
              "      <td>2.236701</td>\n",
              "      <td>-0.432630</td>\n",
              "    </tr>\n",
              "    <tr>\n",
              "      <th>5</th>\n",
              "      <td>-0.036779</td>\n",
              "      <td>0.727123</td>\n",
              "      <td>-0.004092</td>\n",
              "      <td>0.155956</td>\n",
              "      <td>-1.016556</td>\n",
              "      <td>1.139301</td>\n",
              "      <td>0.396280</td>\n",
              "      <td>-1.216301</td>\n",
              "      <td>-0.250221</td>\n",
              "      <td>-1.291305</td>\n",
              "      <td>0.032043</td>\n",
              "      <td>-0.499542</td>\n",
              "    </tr>\n",
              "    <tr>\n",
              "      <th>6</th>\n",
              "      <td>0.590463</td>\n",
              "      <td>1.182049</td>\n",
              "      <td>-0.157560</td>\n",
              "      <td>-0.416151</td>\n",
              "      <td>-1.016556</td>\n",
              "      <td>-0.814227</td>\n",
              "      <td>-0.060073</td>\n",
              "      <td>-1.281058</td>\n",
              "      <td>-0.456874</td>\n",
              "      <td>-0.539522</td>\n",
              "      <td>0.711957</td>\n",
              "      <td>-0.712890</td>\n",
              "    </tr>\n",
              "    <tr>\n",
              "      <th>7</th>\n",
              "      <td>0.590463</td>\n",
              "      <td>-0.971267</td>\n",
              "      <td>0.609778</td>\n",
              "      <td>-0.187308</td>\n",
              "      <td>2.605915</td>\n",
              "      <td>0.385308</td>\n",
              "      <td>-0.102037</td>\n",
              "      <td>0.985441</td>\n",
              "      <td>0.507503</td>\n",
              "      <td>0.400207</td>\n",
              "      <td>0.506536</td>\n",
              "      <td>0.767079</td>\n",
              "    </tr>\n",
              "    <tr>\n",
              "      <th>8</th>\n",
              "      <td>0.305353</td>\n",
              "      <td>2.637812</td>\n",
              "      <td>-1.129521</td>\n",
              "      <td>-0.301729</td>\n",
              "      <td>-1.016556</td>\n",
              "      <td>-0.848500</td>\n",
              "      <td>-0.290873</td>\n",
              "      <td>-0.115430</td>\n",
              "      <td>-1.490135</td>\n",
              "      <td>-0.821441</td>\n",
              "      <td>0.561508</td>\n",
              "      <td>-1.544050</td>\n",
              "    </tr>\n",
              "    <tr>\n",
              "      <th>9</th>\n",
              "      <td>-0.664022</td>\n",
              "      <td>1.303363</td>\n",
              "      <td>-0.566807</td>\n",
              "      <td>0.270378</td>\n",
              "      <td>-0.010314</td>\n",
              "      <td>1.139301</td>\n",
              "      <td>-0.060073</td>\n",
              "      <td>-0.309701</td>\n",
              "      <td>-0.112453</td>\n",
              "      <td>-1.103359</td>\n",
              "      <td>-0.549501</td>\n",
              "      <td>-0.174175</td>\n",
              "    </tr>\n",
              "  </tbody>\n",
              "</table>\n",
              "</div>"
            ],
            "text/plain": [
              "   fixed acidity  volatile acidity  ...  total_acidity  pH_sulphate\n",
              "0       1.445794         -0.304042  ...       1.438163     0.502211\n",
              "1      -0.093801          1.818945  ...       0.078335    -0.841156\n",
              "2       0.476419         -1.395864  ...       0.350301     1.205961\n",
              "3       1.103662          0.757452  ...       1.192237    -1.801864\n",
              "4       2.244103         -0.425356  ...       2.236701    -0.432630\n",
              "5      -0.036779          0.727123  ...       0.032043    -0.499542\n",
              "6       0.590463          1.182049  ...       0.711957    -0.712890\n",
              "7       0.590463         -0.971267  ...       0.506536     0.767079\n",
              "8       0.305353          2.637812  ...       0.561508    -1.544050\n",
              "9      -0.664022          1.303363  ...      -0.549501    -0.174175\n",
              "\n",
              "[10 rows x 12 columns]"
            ]
          },
          "metadata": {
            "tags": []
          },
          "execution_count": 39
        }
      ]
    },
    {
      "cell_type": "markdown",
      "metadata": {
        "colab_type": "text",
        "id": "K_LMqF_mwsWK"
      },
      "source": [
        "<h2>Defining the methods of evaluating accuracy </h2> "
      ]
    },
    {
      "cell_type": "code",
      "metadata": {
        "colab_type": "code",
        "id": "VOiKl4wowsWL",
        "colab": {}
      },
      "source": [
        "def get_roc(model, y_test, X_test, name):\n",
        "    try:\n",
        "        fpr = roc_curve(y_test,model.predict_proba(X_test)[:,1])[0]\n",
        "        tpr = roc_curve(y_test,model.predict_proba(X_test)[:,1])[1]\n",
        "        thresholds = roc_curve(y_test,model.predict_proba(X_test)[:,1])[2]\n",
        "    except:\n",
        "        fpr = roc_curve(y_test,model.predict(X_test))[0]\n",
        "        tpr = roc_curve(y_test,model.predict(X_test))[1]\n",
        "        thresholds = roc_curve(y_test,model.predict(X_test))[2]\n",
        "    \n",
        "    plt.plot([0, 1], [0, 1], color='navy', linestyle='--')\n",
        "    plt.xlim([0.0, 1.0])\n",
        "    plt.ylim([0.0, 1.05])\n",
        "    plt.xlabel('False Positive Rate')\n",
        "    plt.ylabel('True Positive Rate')\n",
        "    plt.title('Receiver operating characteristic for ' + name)\n",
        "    plt.plot(fpr,tpr,label='ROC curve (AUC = %0.2f)' % (auc(fpr, tpr)))\n",
        "    plt.legend(loc=\"lower right\")\n",
        "    \n",
        "    #find- best threshold\n",
        "    optimal_idx = np.argmax(tpr - fpr)\n",
        "    optimal_threshold = thresholds[optimal_idx]\n",
        "    print(\"Optimal Threshold: \" + str(optimal_threshold))\n",
        "    print('Gaussian SVM AUROC: %.2f' % (auc(fpr, tpr)))\n",
        "    \n",
        "    plt.show()\n",
        "    \n",
        "    return auc(fpr, tpr)"
      ],
      "execution_count": 0,
      "outputs": []
    },
    {
      "cell_type": "code",
      "metadata": {
        "colab_type": "code",
        "id": "tveQGy6QwsWM",
        "colab": {}
      },
      "source": [
        "def get_optimal(model, y_test, X_test, name):\n",
        "    try:\n",
        "        fpr = roc_curve(y_test,model.predict_proba(X_test)[:,1])[0]\n",
        "        tpr = roc_curve(y_test,model.predict_proba(X_test)[:,1])[1]\n",
        "        thresholds = roc_curve(y_test,model.predict_proba(X_test)[:,1])[2]\n",
        "    except:\n",
        "        fpr = roc_curve(y_test,model.predict(X_test))[0]\n",
        "        tpr = roc_curve(y_test,model.predict(X_test))[1]\n",
        "        thresholds = roc_curve(y_test,model.predict(X_test))[2]\n",
        "    optimal_idx = np.argmax(tpr - fpr)\n",
        "    optimal_threshold = thresholds[optimal_idx]\n",
        "    return optimal_threshold "
      ],
      "execution_count": 0,
      "outputs": []
    },
    {
      "cell_type": "code",
      "metadata": {
        "colab_type": "code",
        "id": "jr9vY1e7wsWO",
        "colab": {}
      },
      "source": [
        "def confusion(y_test, predictions, name):\n",
        "    conf = pd.crosstab(y_test,predictions, rownames=['Actual'], colnames=['Predicted'])\n",
        "    print(\"Of \" + str(conf[0][1] + conf[1][1]) + \" Defaulters, the \" + name + \" identified \" + str(conf[1][1])) \n",
        "    return conf"
      ],
      "execution_count": 0,
      "outputs": []
    },
    {
      "cell_type": "code",
      "metadata": {
        "colab_type": "code",
        "id": "ezkktEHnwsWR",
        "colab": {}
      },
      "source": [
        "from sklearn.metrics import confusion_matrix\n",
        "\n",
        "def my_confusion_matrix(actual, predicted):\n",
        "    true_positives = len([a for a, p in zip(actual, predicted) if a == p and p == 1])\n",
        "    true_negatives = len([a for a, p in zip(actual, predicted) if a == p and p == 0])\n",
        "    false_positives = len([a for a, p in zip(actual, predicted) if a != p and p == 1])\n",
        "    false_negatives = len([a for a, p in zip(actual, predicted) if a != p and p == 0])\n",
        "    return \"[[{} {}]\\n  [{} {}]]\".format(true_negatives, false_positives, false_negatives, true_positives)\n",
        "\n"
      ],
      "execution_count": 0,
      "outputs": []
    },
    {
      "cell_type": "markdown",
      "metadata": {
        "colab_type": "text",
        "id": "EXIZ1cjdwsWj"
      },
      "source": [
        "<h2> Support Vector Machines </h2>"
      ]
    },
    {
      "cell_type": "markdown",
      "metadata": {
        "id": "-CLykYl3I2LX",
        "colab_type": "text"
      },
      "source": [
        "<h3> Optimise SVM parameters with Gridsearch </h3>"
      ]
    },
    {
      "cell_type": "code",
      "metadata": {
        "id": "63xg1tS1I2LY",
        "colab_type": "code",
        "colab": {
          "base_uri": "https://localhost:8080/",
          "height": 35
        },
        "outputId": "36dabcd7-0cbe-4a74-f2a6-bd71ff13a39e"
      },
      "source": [
        "from sklearn import svm\n",
        "\n",
        "def svc_rbf_param_selection(X, y, nfolds):\n",
        "    Cs = [0.01, 0.1, 1]\n",
        "    gammas = [0.01, 0.1, 1]\n",
        "    param_grid = {'C': Cs, 'gamma' : gammas}\n",
        "    grid_search = GridSearchCV(svm.SVC(kernel='rbf'), param_grid, cv=nfolds, scoring = 'recall')\n",
        "    grid_search.fit(X, y)\n",
        "    grid_search.best_params_\n",
        "    return grid_search.best_params_\n",
        "svc_rbf_param_selection(norm_train_df, y_train,10)\n"
      ],
      "execution_count": 44,
      "outputs": [
        {
          "output_type": "execute_result",
          "data": {
            "text/plain": [
              "{'C': 1, 'gamma': 1}"
            ]
          },
          "metadata": {
            "tags": []
          },
          "execution_count": 44
        }
      ]
    },
    {
      "cell_type": "code",
      "metadata": {
        "id": "g6DBxsbFI2Lc",
        "colab_type": "code",
        "colab": {
          "base_uri": "https://localhost:8080/",
          "height": 35
        },
        "outputId": "174aff37-b8f2-4b74-8d35-aeff66ff107d"
      },
      "source": [
        "c_value = svc_rbf_param_selection(norm_train_df, y_train,5)['C']\n",
        "c_value"
      ],
      "execution_count": 45,
      "outputs": [
        {
          "output_type": "execute_result",
          "data": {
            "text/plain": [
              "1"
            ]
          },
          "metadata": {
            "tags": []
          },
          "execution_count": 45
        }
      ]
    },
    {
      "cell_type": "code",
      "metadata": {
        "id": "Q8rNanhDI2Le",
        "colab_type": "code",
        "colab": {
          "base_uri": "https://localhost:8080/",
          "height": 35
        },
        "outputId": "2cf14780-bc57-407b-a3ce-5a30bb125473"
      },
      "source": [
        "gamma_value = svc_rbf_param_selection(norm_train_df, y_train,5)['gamma']\n",
        "gamma_value"
      ],
      "execution_count": 46,
      "outputs": [
        {
          "output_type": "execute_result",
          "data": {
            "text/plain": [
              "1"
            ]
          },
          "metadata": {
            "tags": []
          },
          "execution_count": 46
        }
      ]
    },
    {
      "cell_type": "code",
      "metadata": {
        "id": "gffQgiI7I2Lg",
        "colab_type": "code",
        "colab": {
          "base_uri": "https://localhost:8080/",
          "height": 87
        },
        "outputId": "75bb0264-b987-470c-bdb8-98e268c4d94b"
      },
      "source": [
        "from sklearn import svm\n",
        "#train svm model without standardization and no parameter tuning\n",
        "clf_original = svm.SVC(kernel='rbf', probability = True,class_weight='balanced', C = c_value, gamma = gamma_value)\n",
        "clf_original.fit(norm_train_df, y_train)"
      ],
      "execution_count": 47,
      "outputs": [
        {
          "output_type": "execute_result",
          "data": {
            "text/plain": [
              "SVC(C=1, break_ties=False, cache_size=200, class_weight='balanced', coef0=0.0,\n",
              "    decision_function_shape='ovr', degree=3, gamma=1, kernel='rbf', max_iter=-1,\n",
              "    probability=True, random_state=None, shrinking=True, tol=0.001,\n",
              "    verbose=False)"
            ]
          },
          "metadata": {
            "tags": []
          },
          "execution_count": 47
        }
      ]
    },
    {
      "cell_type": "code",
      "metadata": {
        "id": "AjwaWwEVI2Lj",
        "colab_type": "code",
        "colab": {
          "base_uri": "https://localhost:8080/",
          "height": 435
        },
        "outputId": "b918743c-2a5f-4dcd-a6e5-e37e1c106dc0"
      },
      "source": [
        "#plot roc for svm\n",
        "get_roc(clf_original, y_test, norm_test_df, \"SVM default parameters\")\n",
        "report = classification_report(y_test, clf_original.predict(norm_test_df), output_dict = True)\n",
        "report_df = pd.DataFrame(report).transpose()\n",
        "print(report_df)"
      ],
      "execution_count": 48,
      "outputs": [
        {
          "output_type": "stream",
          "text": [
            "Optimal Threshold: 0.12620010364563136\n",
            "Gaussian SVM AUROC: 0.92\n"
          ],
          "name": "stdout"
        },
        {
          "output_type": "display_data",
          "data": {
            "image/png": "[encoded data removed]",
            "text/plain": [
              "<Figure size 432x288 with 1 Axes>"
            ]
          },
          "metadata": {
            "tags": [],
            "needs_background": "light"
          }
        },
        {
          "output_type": "stream",
          "text": [
            "              precision    recall  f1-score  support\n",
            "0              0.940054  0.971831  0.955679   355.00\n",
            "1              0.696970  0.511111  0.589744    45.00\n",
            "accuracy       0.920000  0.920000  0.920000     0.92\n",
            "macro avg      0.818512  0.741471  0.772711   400.00\n",
            "weighted avg   0.912707  0.920000  0.914511   400.00\n"
          ],
          "name": "stdout"
        }
      ]
    },
    {
      "cell_type": "code",
      "metadata": {
        "id": "XDO5dsAuK2am",
        "colab_type": "code",
        "colab": {
          "base_uri": "https://localhost:8080/",
          "height": 198
        },
        "outputId": "519972c2-ae8a-4774-dcfd-db34a0dd787e"
      },
      "source": [
        "y_pred2 = clf_original.predict(norm_test_df)\n",
        "pd.DataFrame(classification_report(y_test, y_pred2, output_dict=True)).transpose()"
      ],
      "execution_count": 49,
      "outputs": [
        {
          "output_type": "execute_result",
          "data": {
            "text/html": [
              "<div>\n",
              "<style scoped>\n",
              "    .dataframe tbody tr th:only-of-type {\n",
              "        vertical-align: middle;\n",
              "    }\n",
              "\n",
              "    .dataframe tbody tr th {\n",
              "        vertical-align: top;\n",
              "    }\n",
              "\n",
              "    .dataframe thead th {\n",
              "        text-align: right;\n",
              "    }\n",
              "</style>\n",
              "<table border=\"1\" class=\"dataframe\">\n",
              "  <thead>\n",
              "    <tr style=\"text-align: right;\">\n",
              "      <th></th>\n",
              "      <th>precision</th>\n",
              "      <th>recall</th>\n",
              "      <th>f1-score</th>\n",
              "      <th>support</th>\n",
              "    </tr>\n",
              "  </thead>\n",
              "  <tbody>\n",
              "    <tr>\n",
              "      <th>0</th>\n",
              "      <td>0.940054</td>\n",
              "      <td>0.971831</td>\n",
              "      <td>0.955679</td>\n",
              "      <td>355.00</td>\n",
              "    </tr>\n",
              "    <tr>\n",
              "      <th>1</th>\n",
              "      <td>0.696970</td>\n",
              "      <td>0.511111</td>\n",
              "      <td>0.589744</td>\n",
              "      <td>45.00</td>\n",
              "    </tr>\n",
              "    <tr>\n",
              "      <th>accuracy</th>\n",
              "      <td>0.920000</td>\n",
              "      <td>0.920000</td>\n",
              "      <td>0.920000</td>\n",
              "      <td>0.92</td>\n",
              "    </tr>\n",
              "    <tr>\n",
              "      <th>macro avg</th>\n",
              "      <td>0.818512</td>\n",
              "      <td>0.741471</td>\n",
              "      <td>0.772711</td>\n",
              "      <td>400.00</td>\n",
              "    </tr>\n",
              "    <tr>\n",
              "      <th>weighted avg</th>\n",
              "      <td>0.912707</td>\n",
              "      <td>0.920000</td>\n",
              "      <td>0.914511</td>\n",
              "      <td>400.00</td>\n",
              "    </tr>\n",
              "  </tbody>\n",
              "</table>\n",
              "</div>"
            ],
            "text/plain": [
              "              precision    recall  f1-score  support\n",
              "0              0.940054  0.971831  0.955679   355.00\n",
              "1              0.696970  0.511111  0.589744    45.00\n",
              "accuracy       0.920000  0.920000  0.920000     0.92\n",
              "macro avg      0.818512  0.741471  0.772711   400.00\n",
              "weighted avg   0.912707  0.920000  0.914511   400.00"
            ]
          },
          "metadata": {
            "tags": []
          },
          "execution_count": 49
        }
      ]
    },
    {
      "cell_type": "code",
      "metadata": {
        "id": "IZEIXY0vI2Ln",
        "colab_type": "code",
        "colab": {}
      },
      "source": [
        "from sklearn.metrics import precision_recall_curve"
      ],
      "execution_count": 0,
      "outputs": []
    },
    {
      "cell_type": "code",
      "metadata": {
        "id": "i9pfcFWiI2Lr",
        "colab_type": "code",
        "colab": {
          "base_uri": "https://localhost:8080/",
          "height": 295
        },
        "outputId": "d64ba568-ceab-4687-9911-b1c991f1af76"
      },
      "source": [
        "SVM_probs = clf_original.predict_proba(norm_test_df)\n",
        "SVM_probs = SVM_probs[:, 1] # Keep probability predictions for good quality (=1) class only\n",
        "precisions, recalls, _ = precision_recall_curve(y_test, SVM_probs)\n",
        "\n",
        "# Plot PR-Curve\n",
        "no_skill = len(y_test[y_test==1]) / len(y_test)\n",
        "plt.plot([0, 1], [no_skill, no_skill], linestyle='--', label='No Skill')\n",
        "plt.plot(recalls, precisions, marker='.', label='Gaussian SVM')\n",
        "# axis labels\n",
        "plt.xlabel('Recall')\n",
        "plt.ylabel('Precision')\n",
        "# show the legend\n",
        "plt.legend()\n",
        "# annotate optimised model's recall and precision\n",
        "# Title\n",
        "plt.title(\"Precision Recall Curve of Gaussian SVM\")\n",
        "# show the plot\n",
        "plt.show()"
      ],
      "execution_count": 51,
      "outputs": [
        {
          "output_type": "display_data",
          "data": {
            "image/png": "[encoded data removed]",
            "text/plain": [
              "<Figure size 432x288 with 1 Axes>"
            ]
          },
          "metadata": {
            "tags": [],
            "needs_background": "light"
          }
        }
      ]
    },
    {
      "cell_type": "code",
      "metadata": {
        "id": "XU3cCA7LI2Lu",
        "colab_type": "code",
        "colab": {
          "base_uri": "https://localhost:8080/",
          "height": 87
        },
        "outputId": "01d00594-c89c-47aa-b2d7-76dfe101af08"
      },
      "source": [
        "# Cross Validated Score (f1_macro & f1 - Skewed by imbalanced data)\n",
        "cv_score_f1_macro = cross_val_score(clf_original, norm_train_df, y_train, cv=10, scoring=\"f1_macro\")\n",
        "print(\"Cross-Val F1-macro Score: %0.3f\" % (np.mean(cv_score_f1_macro))) # 0.696\n",
        "cv_score_f1 = cross_val_score(clf_original, norm_train_df, y_train, cv=10, scoring=\"f1\")\n",
        "print(\"Cross-Val F1 Score: %0.3f\" % (np.mean(cv_score_f1))) # 0.46594\n",
        "cv_score_recall = cross_val_score(clf_original, norm_train_df, y_train, cv=10, scoring=\"recall\")\n",
        "print(\"Cross-Val Recall Score: %0.3f\" % (np.mean(cv_score_recall))) # 0.4222\n",
        "cv_score_prec = cross_val_score(clf_original, norm_train_df, y_train, cv=10, scoring=\"precision\")\n",
        "print(\"Cross-Val Precision Score: %0.3f\" % (np.mean(cv_score_prec)))  # 0.6243"
      ],
      "execution_count": 52,
      "outputs": [
        {
          "output_type": "stream",
          "text": [
            "Cross-Val F1-macro Score: 0.732\n",
            "Cross-Val F1 Score: 0.528\n",
            "Cross-Val Recall Score: 0.441\n",
            "Cross-Val Precision Score: 0.676\n"
          ],
          "name": "stdout"
        }
      ]
    },
    {
      "cell_type": "code",
      "metadata": {
        "id": "ri-Qdh9SI2Lx",
        "colab_type": "code",
        "colab": {
          "base_uri": "https://localhost:8080/",
          "height": 156
        },
        "outputId": "4d919dd8-fb1e-4c35-b439-49c74e9f8785"
      },
      "source": [
        "confusion(y_test,clf_original.predict(norm_test_df), \"SVM default parameters\")"
      ],
      "execution_count": 53,
      "outputs": [
        {
          "output_type": "stream",
          "text": [
            "Of 45 Defaulters, the SVM default parameters identified 23\n"
          ],
          "name": "stdout"
        },
        {
          "output_type": "execute_result",
          "data": {
            "text/html": [
              "<div>\n",
              "<style scoped>\n",
              "    .dataframe tbody tr th:only-of-type {\n",
              "        vertical-align: middle;\n",
              "    }\n",
              "\n",
              "    .dataframe tbody tr th {\n",
              "        vertical-align: top;\n",
              "    }\n",
              "\n",
              "    .dataframe thead th {\n",
              "        text-align: right;\n",
              "    }\n",
              "</style>\n",
              "<table border=\"1\" class=\"dataframe\">\n",
              "  <thead>\n",
              "    <tr style=\"text-align: right;\">\n",
              "      <th>Predicted</th>\n",
              "      <th>0</th>\n",
              "      <th>1</th>\n",
              "    </tr>\n",
              "    <tr>\n",
              "      <th>Actual</th>\n",
              "      <th></th>\n",
              "      <th></th>\n",
              "    </tr>\n",
              "  </thead>\n",
              "  <tbody>\n",
              "    <tr>\n",
              "      <th>0</th>\n",
              "      <td>345</td>\n",
              "      <td>10</td>\n",
              "    </tr>\n",
              "    <tr>\n",
              "      <th>1</th>\n",
              "      <td>22</td>\n",
              "      <td>23</td>\n",
              "    </tr>\n",
              "  </tbody>\n",
              "</table>\n",
              "</div>"
            ],
            "text/plain": [
              "Predicted    0   1\n",
              "Actual            \n",
              "0          345  10\n",
              "1           22  23"
            ]
          },
          "metadata": {
            "tags": []
          },
          "execution_count": 53
        }
      ]
    },
    {
      "cell_type": "markdown",
      "metadata": {
        "id": "g2XEewsGI2L0",
        "colab_type": "text"
      },
      "source": [
        "<h2> Hypothesis Testing </h2>"
      ]
    },
    {
      "cell_type": "code",
      "metadata": {
        "id": "G1FVfR2wI2L0",
        "colab_type": "code",
        "colab": {
          "base_uri": "https://localhost:8080/",
          "height": 615
        },
        "outputId": "3ab4e067-b49c-4460-d705-5e1b6293b0eb"
      },
      "source": [
        "!pip install eli5\n",
        "import eli5\n",
        "from eli5.sklearn import PermutationImportance\n",
        "\n",
        "clf_original = svm.SVC( probability = True,class_weight='balanced', C = c_value, gamma = gamma_value)\n",
        "clf_original.fit(norm_train_df, y_train)\n",
        "perm = PermutationImportance(clf_original, random_state=1, n_iter=10, scoring = \"f1_macro\").fit(norm_test_df, y_test)\n",
        "eli5.show_weights(perm, feature_names = norm_test_df.columns.tolist()) # See on Jupyter Notebook"
      ],
      "execution_count": 55,
      "outputs": [
        {
          "output_type": "stream",
          "text": [
            "Collecting eli5\n",
            "\u001b[?25l  Downloading https://files.pythonhosted.org/packages/97/2f/c85c7d8f8548e460829971785347e14e45fa5c6617da374711dec8cb38cc/eli5-0.10.1-py2.py3-none-any.whl (105kB)\n",
            "\r\u001b[K     |███                             | 10kB 16.7MB/s eta 0:00:01\r\u001b[K     |██████▏                         | 20kB 2.2MB/s eta 0:00:01\r\u001b[K     |█████████▎                      | 30kB 3.1MB/s eta 0:00:01\r\u001b[K     |████████████▍                   | 40kB 2.1MB/s eta 0:00:01\r\u001b[K     |███████████████▌                | 51kB 2.6MB/s eta 0:00:01\r\u001b[K     |██████████████████▋             | 61kB 3.1MB/s eta 0:00:01\r\u001b[K     |█████████████████████▊          | 71kB 3.5MB/s eta 0:00:01\r\u001b[K     |████████████████████████▊       | 81kB 2.8MB/s eta 0:00:01\r\u001b[K     |███████████████████████████▉    | 92kB 3.1MB/s eta 0:00:01\r\u001b[K     |███████████████████████████████ | 102kB 3.4MB/s eta 0:00:01\r\u001b[K     |████████████████████████████████| 112kB 3.4MB/s \n",
            "\u001b[?25hRequirement already satisfied: scipy in /usr/local/lib/python3.6/dist-packages (from eli5) (1.4.1)\n",
            "Requirement already satisfied: numpy>=1.9.0 in /usr/local/lib/python3.6/dist-packages (from eli5) (1.18.3)\n",
            "Requirement already satisfied: tabulate>=0.7.7 in /usr/local/lib/python3.6/dist-packages (from eli5) (0.8.7)\n",
            "Requirement already satisfied: attrs>16.0.0 in /usr/local/lib/python3.6/dist-packages (from eli5) (19.3.0)\n",
            "Requirement already satisfied: jinja2 in /usr/local/lib/python3.6/dist-packages (from eli5) (2.11.2)\n",
            "Requirement already satisfied: scikit-learn>=0.18 in /usr/local/lib/python3.6/dist-packages (from eli5) (0.22.2.post1)\n",
            "Requirement already satisfied: six in /usr/local/lib/python3.6/dist-packages (from eli5) (1.12.0)\n",
            "Requirement already satisfied: graphviz in /usr/local/lib/python3.6/dist-packages (from eli5) (0.10.1)\n",
            "Requirement already satisfied: MarkupSafe>=0.23 in /usr/local/lib/python3.6/dist-packages (from jinja2->eli5) (1.1.1)\n",
            "Requirement already satisfied: joblib>=0.11 in /usr/local/lib/python3.6/dist-packages (from scikit-learn>=0.18->eli5) (0.14.1)\n",
            "Installing collected packages: eli5\n",
            "Successfully installed eli5-0.10.1\n"
          ],
          "name": "stdout"
        },
        {
          "output_type": "stream",
          "text": [
            "/usr/local/lib/python3.6/dist-packages/sklearn/utils/deprecation.py:144: FutureWarning: The sklearn.metrics.scorer module is  deprecated in version 0.22 and will be removed in version 0.24. The corresponding classes / functions should instead be imported from sklearn.metrics. Anything that cannot be imported from sklearn.metrics is now part of the private API.\n",
            "  warnings.warn(message, FutureWarning)\n",
            "/usr/local/lib/python3.6/dist-packages/sklearn/utils/deprecation.py:144: FutureWarning: The sklearn.feature_selection.base module is  deprecated in version 0.22 and will be removed in version 0.24. The corresponding classes / functions should instead be imported from sklearn.feature_selection. Anything that cannot be imported from sklearn.feature_selection is now part of the private API.\n",
            "  warnings.warn(message, FutureWarning)\n",
            "Using TensorFlow backend.\n"
          ],
          "name": "stderr"
        },
        {
          "output_type": "execute_result",
          "data": {
            "text/html": [
              "\n",
              "    <style>\n",
              "    table.eli5-weights tr:hover {\n",
              "        filter: brightness(85%);\n",
              "    }\n",
              "</style>\n",
              "\n",
              "\n",
              "\n",
              "    \n",
              "\n",
              "    \n",
              "\n",
              "    \n",
              "\n",
              "    \n",
              "\n",
              "    \n",
              "\n",
              "    \n",
              "\n",
              "\n",
              "    \n",
              "\n",
              "    \n",
              "\n",
              "    \n",
              "\n",
              "    \n",
              "\n",
              "    \n",
              "\n",
              "    \n",
              "\n",
              "\n",
              "    \n",
              "\n",
              "    \n",
              "\n",
              "    \n",
              "\n",
              "    \n",
              "\n",
              "    \n",
              "        <table class=\"eli5-weights eli5-feature-importances\" style=\"border-collapse: collapse; border: none; margin-top: 0em; table-layout: auto;\">\n",
              "    <thead>\n",
              "    <tr style=\"border: none;\">\n",
              "        <th style=\"padding: 0 1em 0 0.5em; text-align: right; border: none;\">Weight</th>\n",
              "        <th style=\"padding: 0 0.5em 0 0.5em; text-align: left; border: none;\">Feature</th>\n",
              "    </tr>\n",
              "    </thead>\n",
              "    <tbody>\n",
              "    \n",
              "        <tr style=\"background-color: hsl(120, 100.00%, 80.00%); border: none;\">\n",
              "            <td style=\"padding: 0 1em 0 0.5em; text-align: right; border: none;\">\n",
              "                0.1910\n",
              "                \n",
              "                    &plusmn; 0.0676\n",
              "                \n",
              "            </td>\n",
              "            <td style=\"padding: 0 0.5em 0 0.5em; text-align: left; border: none;\">\n",
              "                alcohol\n",
              "            </td>\n",
              "        </tr>\n",
              "    \n",
              "        <tr style=\"background-color: hsl(120, 100.00%, 82.52%); border: none;\">\n",
              "            <td style=\"padding: 0 1em 0 0.5em; text-align: right; border: none;\">\n",
              "                0.1576\n",
              "                \n",
              "                    &plusmn; 0.0830\n",
              "                \n",
              "            </td>\n",
              "            <td style=\"padding: 0 0.5em 0 0.5em; text-align: left; border: none;\">\n",
              "                citric acid\n",
              "            </td>\n",
              "        </tr>\n",
              "    \n",
              "        <tr style=\"background-color: hsl(120, 100.00%, 83.26%); border: none;\">\n",
              "            <td style=\"padding: 0 1em 0 0.5em; text-align: right; border: none;\">\n",
              "                0.1481\n",
              "                \n",
              "                    &plusmn; 0.0725\n",
              "                \n",
              "            </td>\n",
              "            <td style=\"padding: 0 0.5em 0 0.5em; text-align: left; border: none;\">\n",
              "                volatile acidity\n",
              "            </td>\n",
              "        </tr>\n",
              "    \n",
              "        <tr style=\"background-color: hsl(120, 100.00%, 84.75%); border: none;\">\n",
              "            <td style=\"padding: 0 1em 0 0.5em; text-align: right; border: none;\">\n",
              "                0.1297\n",
              "                \n",
              "                    &plusmn; 0.0358\n",
              "                \n",
              "            </td>\n",
              "            <td style=\"padding: 0 0.5em 0 0.5em; text-align: left; border: none;\">\n",
              "                density\n",
              "            </td>\n",
              "        </tr>\n",
              "    \n",
              "        <tr style=\"background-color: hsl(120, 100.00%, 86.24%); border: none;\">\n",
              "            <td style=\"padding: 0 1em 0 0.5em; text-align: right; border: none;\">\n",
              "                0.1120\n",
              "                \n",
              "                    &plusmn; 0.0709\n",
              "                \n",
              "            </td>\n",
              "            <td style=\"padding: 0 0.5em 0 0.5em; text-align: left; border: none;\">\n",
              "                pH\n",
              "            </td>\n",
              "        </tr>\n",
              "    \n",
              "        <tr style=\"background-color: hsl(120, 100.00%, 86.46%); border: none;\">\n",
              "            <td style=\"padding: 0 1em 0 0.5em; text-align: right; border: none;\">\n",
              "                0.1094\n",
              "                \n",
              "                    &plusmn; 0.0495\n",
              "                \n",
              "            </td>\n",
              "            <td style=\"padding: 0 0.5em 0 0.5em; text-align: left; border: none;\">\n",
              "                sulphates\n",
              "            </td>\n",
              "        </tr>\n",
              "    \n",
              "        <tr style=\"background-color: hsl(120, 100.00%, 86.80%); border: none;\">\n",
              "            <td style=\"padding: 0 1em 0 0.5em; text-align: right; border: none;\">\n",
              "                0.1056\n",
              "                \n",
              "                    &plusmn; 0.0505\n",
              "                \n",
              "            </td>\n",
              "            <td style=\"padding: 0 0.5em 0 0.5em; text-align: left; border: none;\">\n",
              "                total_acidity\n",
              "            </td>\n",
              "        </tr>\n",
              "    \n",
              "        <tr style=\"background-color: hsl(120, 100.00%, 86.80%); border: none;\">\n",
              "            <td style=\"padding: 0 1em 0 0.5em; text-align: right; border: none;\">\n",
              "                0.1055\n",
              "                \n",
              "                    &plusmn; 0.0762\n",
              "                \n",
              "            </td>\n",
              "            <td style=\"padding: 0 0.5em 0 0.5em; text-align: left; border: none;\">\n",
              "                pH_sulphate\n",
              "            </td>\n",
              "        </tr>\n",
              "    \n",
              "        <tr style=\"background-color: hsl(120, 100.00%, 87.22%); border: none;\">\n",
              "            <td style=\"padding: 0 1em 0 0.5em; text-align: right; border: none;\">\n",
              "                0.1007\n",
              "                \n",
              "                    &plusmn; 0.0573\n",
              "                \n",
              "            </td>\n",
              "            <td style=\"padding: 0 0.5em 0 0.5em; text-align: left; border: none;\">\n",
              "                fixed acidity\n",
              "            </td>\n",
              "        </tr>\n",
              "    \n",
              "        <tr style=\"background-color: hsl(120, 100.00%, 87.58%); border: none;\">\n",
              "            <td style=\"padding: 0 1em 0 0.5em; text-align: right; border: none;\">\n",
              "                0.0968\n",
              "                \n",
              "                    &plusmn; 0.0498\n",
              "                \n",
              "            </td>\n",
              "            <td style=\"padding: 0 0.5em 0 0.5em; text-align: left; border: none;\">\n",
              "                total sulfur dioxide\n",
              "            </td>\n",
              "        </tr>\n",
              "    \n",
              "        <tr style=\"background-color: hsl(120, 100.00%, 88.14%); border: none;\">\n",
              "            <td style=\"padding: 0 1em 0 0.5em; text-align: right; border: none;\">\n",
              "                0.0905\n",
              "                \n",
              "                    &plusmn; 0.0534\n",
              "                \n",
              "            </td>\n",
              "            <td style=\"padding: 0 0.5em 0 0.5em; text-align: left; border: none;\">\n",
              "                free sulfur dioxide\n",
              "            </td>\n",
              "        </tr>\n",
              "    \n",
              "        <tr style=\"background-color: hsl(120, 100.00%, 94.61%); border: none;\">\n",
              "            <td style=\"padding: 0 1em 0 0.5em; text-align: right; border: none;\">\n",
              "                0.0293\n",
              "                \n",
              "                    &plusmn; 0.0585\n",
              "                \n",
              "            </td>\n",
              "            <td style=\"padding: 0 0.5em 0 0.5em; text-align: left; border: none;\">\n",
              "                chlorides\n",
              "            </td>\n",
              "        </tr>\n",
              "    \n",
              "    \n",
              "    </tbody>\n",
              "</table>\n",
              "    \n",
              "\n",
              "    \n",
              "\n",
              "\n",
              "    \n",
              "\n",
              "    \n",
              "\n",
              "    \n",
              "\n",
              "    \n",
              "\n",
              "    \n",
              "\n",
              "    \n",
              "\n",
              "\n",
              "\n"
            ],
            "text/plain": [
              "<IPython.core.display.HTML object>"
            ]
          },
          "metadata": {
            "tags": []
          },
          "execution_count": 55
        }
      ]
    },
    {
      "cell_type": "code",
      "metadata": {
        "id": "Lyk-BNHHI2L4",
        "colab_type": "code",
        "colab": {
          "base_uri": "https://localhost:8080/",
          "height": 87
        },
        "outputId": "ce0d701b-cac0-4c3f-d3df-14ee15e4debf"
      },
      "source": [
        "# Results from Perm Importance ELI5 Feature Selection\n",
        "X_train_eli5 = norm_train_df.copy()\n",
        "# Results from Perm Importance ELI5 Feature Selection\n",
        "X_test_eli5 = norm_test_df.copy()\n",
        "c_eli5 = svc_rbf_param_selection(X_train_eli5, y_train,5)['C']\n",
        "gamma_eli5 = svc_rbf_param_selection(X_train_eli5, y_train,5)['gamma']\n",
        "SVM_eli5 = svm.SVC( probability = True,class_weight='balanced', C = c_eli5, gamma = gamma_eli5)\n",
        "SVM_eli5.fit(X_train_eli5, y_train)"
      ],
      "execution_count": 56,
      "outputs": [
        {
          "output_type": "execute_result",
          "data": {
            "text/plain": [
              "SVC(C=1, break_ties=False, cache_size=200, class_weight='balanced', coef0=0.0,\n",
              "    decision_function_shape='ovr', degree=3, gamma=1, kernel='rbf', max_iter=-1,\n",
              "    probability=True, random_state=None, shrinking=True, tol=0.001,\n",
              "    verbose=False)"
            ]
          },
          "metadata": {
            "tags": []
          },
          "execution_count": 56
        }
      ]
    },
    {
      "cell_type": "code",
      "metadata": {
        "id": "FLM50FmOI2L6",
        "colab_type": "code",
        "colab": {
          "base_uri": "https://localhost:8080/",
          "height": 487
        },
        "outputId": "eb201614-7eaf-4dbd-8903-500d17344dfd"
      },
      "source": [
        "#plot roc for svm\n",
        "get_roc(SVM_eli5, y_test, X_test_eli5, \"SVM default parameters\")\n",
        "print(classification_report(y_test, SVM_eli5.predict(X_test_eli5)))"
      ],
      "execution_count": 57,
      "outputs": [
        {
          "output_type": "stream",
          "text": [
            "Optimal Threshold: 0.13172965003562548\n",
            "Gaussian SVM AUROC: 0.92\n"
          ],
          "name": "stdout"
        },
        {
          "output_type": "display_data",
          "data": {
            "image/png": "[encoded data removed]",
            "text/plain": [
              "<Figure size 432x288 with 1 Axes>"
            ]
          },
          "metadata": {
            "tags": [],
            "needs_background": "light"
          }
        },
        {
          "output_type": "stream",
          "text": [
            "              precision    recall  f1-score   support\n",
            "\n",
            "           0       0.94      0.97      0.96       355\n",
            "           1       0.70      0.51      0.59        45\n",
            "\n",
            "    accuracy                           0.92       400\n",
            "   macro avg       0.82      0.74      0.77       400\n",
            "weighted avg       0.91      0.92      0.91       400\n",
            "\n"
          ],
          "name": "stdout"
        }
      ]
    },
    {
      "cell_type": "markdown",
      "metadata": {
        "id": "Ll3G98gEuoPN",
        "colab_type": "text"
      },
      "source": [
        "<p>Slight improvement in key metrics after feature selection using permutation importance</p>"
      ]
    },
    {
      "cell_type": "code",
      "metadata": {
        "id": "3JG7CLDII2L8",
        "colab_type": "code",
        "colab": {
          "base_uri": "https://localhost:8080/",
          "height": 87
        },
        "outputId": "5a76cda1-3875-497d-c9a3-89370bdd0fa4"
      },
      "source": [
        "# Cross Validated Score (f1_macro & f1 - Skewed by imbalanced data)\n",
        "cv_score_f1_macro = cross_val_score(SVM_eli5, X_train_eli5, y_train, cv=10, scoring=\"f1_macro\")\n",
        "print(\"Cross-Val F1-macro Score: %0.3f\" % (np.mean(cv_score_f1_macro))) # 0.696\n",
        "cv_score_f1 = cross_val_score(SVM_eli5, X_train_eli5, y_train, cv=10, scoring=\"f1\")\n",
        "print(\"Cross-Val F1 Score: %0.3f\" % (np.mean(cv_score_f1))) # 0.46594\n",
        "cv_score_recall = cross_val_score(SVM_eli5, X_train_eli5, y_train, cv=10, scoring=\"recall\")\n",
        "print(\"Cross-Val Recall Score: %0.3f\" % (np.mean(cv_score_recall))) # 0.4222\n",
        "cv_score_prec = cross_val_score(SVM_eli5, X_train_eli5, y_train, cv=10, scoring=\"precision\")\n",
        "print(\"Cross-Val Precision Score: %0.3f\" % (np.mean(cv_score_prec)))  # 0.6243"
      ],
      "execution_count": 58,
      "outputs": [
        {
          "output_type": "stream",
          "text": [
            "Cross-Val F1-macro Score: 0.732\n",
            "Cross-Val F1 Score: 0.528\n",
            "Cross-Val Recall Score: 0.441\n",
            "Cross-Val Precision Score: 0.676\n"
          ],
          "name": "stdout"
        }
      ]
    },
    {
      "cell_type": "code",
      "metadata": {
        "id": "zugvjfebI2MA",
        "colab_type": "code",
        "colab": {
          "base_uri": "https://localhost:8080/",
          "height": 70
        },
        "outputId": "af32d7c8-d6de-4139-ffaa-3d070c462ac9"
      },
      "source": [
        "print(\"my Confusion Matrix A:\\n\", my_confusion_matrix(y_test,SVM_eli5.predict(X_test_eli5)))"
      ],
      "execution_count": 59,
      "outputs": [
        {
          "output_type": "stream",
          "text": [
            "my Confusion Matrix A:\n",
            " [[345 10]\n",
            "  [22 23]]\n"
          ],
          "name": "stdout"
        }
      ]
    },
    {
      "cell_type": "code",
      "metadata": {
        "id": "6YDwen97I2MD",
        "colab_type": "code",
        "colab": {
          "base_uri": "https://localhost:8080/",
          "height": 265
        },
        "outputId": "dae27f50-c275-4330-b37c-aa7c632d28b3"
      },
      "source": [
        "# Drop Column Feature Importance\n",
        "from sklearn.base import clone\n",
        "\n",
        "# Helper Function\n",
        "def imp_df(column_names, importances):\n",
        "    df = pd.DataFrame({'feature': column_names,\n",
        "                       'feature_importance': importances}).sort_values('feature_importance', ascending = False).reset_index(drop = True)\n",
        "    return df\n",
        "\n",
        "# Drop Col Feat Importance Function\n",
        "from sklearn.metrics import f1_score\n",
        "\n",
        "def drop_col_feat_imp(model, X_train, y_train, X_test, y_test, random_state=42):\n",
        "    # clone the model to have the exact same specification as the one initially trained\n",
        "    model_clone = clone(model)\n",
        "    # set random_state for comparability\n",
        "    model_clone.random_state = random_state\n",
        "    # training and scoring the benchmark model\n",
        "    model_clone.fit(X_train, y_train)\n",
        "    # y_pred\n",
        "    y_pred = model_clone.predict(X_test) # *\n",
        "    benchmark_score = f1_score(y_test, y_pred, average='macro') #model_clone.score(X_train, y_train)\n",
        "    # list for storing feature importances\n",
        "    importances = []\n",
        "\n",
        "    # iterating over all columns and storing feature importance (difference between benchmark and new model)\n",
        "    for col in X_train.columns:\n",
        "        model_clone = clone(model)\n",
        "        model_clone.random_state = random_state\n",
        "        model_clone.fit(X_train.drop(col, axis=1), y_train)\n",
        "        y_pred = model_clone.predict(X_test.drop(col, axis=1)) # *\n",
        "        drop_col_score = f1_score(y_test, y_pred, average='macro') #model_clone.score(X_train.drop(col, axis=1), y_train)\n",
        "        importances.append(benchmark_score - drop_col_score)\n",
        "\n",
        "    importances_df = imp_df(X_train.columns, importances)\n",
        "    return importances_df\n",
        "\n",
        "drop_col_results = drop_col_feat_imp(clf_original, norm_train_df, y_train, norm_test_df, y_test)\n",
        "\n",
        "# Graphing it\n",
        "drop_col_results.plot.barh(x='feature', y='feature_importance')\n",
        "plt.show()"
      ],
      "execution_count": 60,
      "outputs": [
        {
          "output_type": "display_data",
          "data": {
            "image/png": "[encoded data removed]",
            "text/plain": [
              "<Figure size 432x288 with 1 Axes>"
            ]
          },
          "metadata": {
            "tags": [],
            "needs_background": "light"
          }
        }
      ]
    },
    {
      "cell_type": "code",
      "metadata": {
        "id": "74DJr5otuePR",
        "colab_type": "code",
        "colab": {}
      },
      "source": [
        ""
      ],
      "execution_count": 0,
      "outputs": []
    }
  ]
}